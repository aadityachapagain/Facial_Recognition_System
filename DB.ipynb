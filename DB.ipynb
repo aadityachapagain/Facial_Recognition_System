{
 "cells": [
  {
   "cell_type": "code",
   "execution_count": 17,
   "metadata": {},
   "outputs": [],
   "source": [
    "from tinydb import TinyDB, Query, where"
   ]
  },
  {
   "cell_type": "code",
   "execution_count": 4,
   "metadata": {},
   "outputs": [],
   "source": [
    "import time"
   ]
  },
  {
   "cell_type": "code",
   "execution_count": 5,
   "metadata": {},
   "outputs": [],
   "source": [
    "db = TinyDB('attendence.json')"
   ]
  },
  {
   "cell_type": "code",
   "execution_count": 19,
   "metadata": {},
   "outputs": [],
   "source": [
    "attendence = db.table()"
   ]
  },
  {
   "cell_type": "code",
   "execution_count": 6,
   "metadata": {},
   "outputs": [],
   "source": [
    "User = Query()"
   ]
  },
  {
   "cell_type": "code",
   "execution_count": 7,
   "metadata": {},
   "outputs": [],
   "source": [
    "def get_year():\n",
    "    return time.strftime('%Y')"
   ]
  },
  {
   "cell_type": "code",
   "execution_count": 8,
   "metadata": {},
   "outputs": [],
   "source": [
    "def get_month():\n",
    "    return time.strftime('%B')"
   ]
  },
  {
   "cell_type": "code",
   "execution_count": 35,
   "metadata": {},
   "outputs": [],
   "source": [
    "def get_day():\n",
    "    return time.strftime('%d')"
   ]
  },
  {
   "cell_type": "code",
   "execution_count": 10,
   "metadata": {},
   "outputs": [],
   "source": [
    "def get_hour():\n",
    "    return time.strftime('%H')"
   ]
  },
  {
   "cell_type": "code",
   "execution_count": 11,
   "metadata": {},
   "outputs": [
    {
     "data": {
      "text/plain": [
       "1"
      ]
     },
     "execution_count": 11,
     "metadata": {},
     "output_type": "execute_result"
    }
   ],
   "source": [
    "db.insert({'name':'Aaditya Chapagain','year':get_year(),'month':get_month(),'day':get_day(),'time':[{'9':'Neutral'},{'10':'Neutral'}]})"
   ]
  },
  {
   "cell_type": "code",
   "execution_count": 12,
   "metadata": {},
   "outputs": [
    {
     "data": {
      "text/plain": [
       "2"
      ]
     },
     "execution_count": 12,
     "metadata": {},
     "output_type": "execute_result"
    }
   ],
   "source": [
    "db.insert({'name':'Anish pandey','year':get_year(),'month':get_month(),'day':get_day(),'time':[{'9':'Neutral'},{'10':'Happy'}]})"
   ]
  },
  {
   "cell_type": "code",
   "execution_count": 13,
   "metadata": {},
   "outputs": [
    {
     "data": {
      "text/plain": [
       "3"
      ]
     },
     "execution_count": 13,
     "metadata": {},
     "output_type": "execute_result"
    }
   ],
   "source": [
    "db.insert({'name':'Sushil Ghimire','year':get_year(),'month':get_month(),'day':get_day(),'time':[{'9':'Happy'},{'10':'Happy'},{'11':'Neutral'}]})"
   ]
  },
  {
   "cell_type": "code",
   "execution_count": 14,
   "metadata": {},
   "outputs": [
    {
     "data": {
      "text/plain": [
       "4"
      ]
     },
     "execution_count": 14,
     "metadata": {},
     "output_type": "execute_result"
    }
   ],
   "source": [
    "db.insert({'name':'Binayak Pokhrel','year':get_year(),'month':get_month(),'day':get_day(),'time':[{'9':'Neutral'},{'10':'Neutral'}]})"
   ]
  },
  {
   "cell_type": "code",
   "execution_count": 34,
   "metadata": {},
   "outputs": [
    {
     "data": {
      "text/plain": [
       "[{'name': 'Aaditya Chapagain',\n",
       "  'year': '2019',\n",
       "  'month': 'February',\n",
       "  'day': '24',\n",
       "  'time': [{'9': 'Neutral'}, {'10': 'Neutral'}]},\n",
       " {'name': 'Anish pandey',\n",
       "  'year': '2019',\n",
       "  'month': 'February',\n",
       "  'day': '24',\n",
       "  'time': [{'9': 'Neutral'}, {'10': 'Happy'}]},\n",
       " {'name': 'Sushil Ghimire',\n",
       "  'year': '2019',\n",
       "  'month': 'February',\n",
       "  'day': '24',\n",
       "  'time': [{'9': 'Happy'}, {'10': 'Happy'}, {'11': 'Neutral'}]},\n",
       " {'name': 'Binayak Pokhrel',\n",
       "  'year': '2019',\n",
       "  'month': 'February',\n",
       "  'day': '24',\n",
       "  'time': [{'9': 'Neutral'}, {'10': 'Neutral'}]}]"
      ]
     },
     "execution_count": 34,
     "metadata": {},
     "output_type": "execute_result"
    }
   ],
   "source": [
    "attendence.search(where('year') == '2019' and where('day') == '24')"
   ]
  },
  {
   "cell_type": "code",
   "execution_count": 49,
   "metadata": {},
   "outputs": [
    {
     "data": {
      "text/plain": [
       "[4]"
      ]
     },
     "execution_count": 49,
     "metadata": {},
     "output_type": "execute_result"
    }
   ],
   "source": [
    "attendence.upsert({'time':[{'12':'Happy'}]},(Query().name == 'Binayak Pokhrel') & (Query().day == get_day()))"
   ]
  },
  {
   "cell_type": "code",
   "execution_count": 50,
   "metadata": {},
   "outputs": [
    {
     "data": {
      "text/plain": [
       "[{'name': 'Aaditya Chapagain',\n",
       "  'year': '2019',\n",
       "  'month': 'February',\n",
       "  'day': '24',\n",
       "  'time': [{'9': 'Neutral'}, {'10': 'Neutral'}]},\n",
       " {'name': 'Anish pandey',\n",
       "  'year': '2019',\n",
       "  'month': 'February',\n",
       "  'day': '24',\n",
       "  'time': [{'9': 'Neutral'}, {'10': 'Happy'}]},\n",
       " {'name': 'Sushil Ghimire',\n",
       "  'year': '2019',\n",
       "  'month': 'February',\n",
       "  'day': '24',\n",
       "  'time': [{'9': 'Happy'}, {'10': 'Happy'}, {'11': 'Neutral'}]},\n",
       " {'name': 'Binayak Pokhrel',\n",
       "  'year': '2019',\n",
       "  'month': 'February',\n",
       "  'day': '24',\n",
       "  'time': [{'12': 'Happy'}]}]"
      ]
     },
     "execution_count": 50,
     "metadata": {},
     "output_type": "execute_result"
    }
   ],
   "source": [
    "attendence.search(where('year') == '2019' and where('day') == '24')"
   ]
  },
  {
   "cell_type": "code",
   "execution_count": 51,
   "metadata": {},
   "outputs": [],
   "source": [
    "docs = attendence.get((Query().name == 'Binayak Pokhrel') & (Query().day == get_day()) & (Query().month == get_month()))"
   ]
  },
  {
   "cell_type": "code",
   "execution_count": 52,
   "metadata": {},
   "outputs": [
    {
     "data": {
      "text/plain": [
       "{'name': 'Binayak Pokhrel',\n",
       " 'year': '2019',\n",
       " 'month': 'February',\n",
       " 'day': '24',\n",
       " 'time': [{'12': 'Happy'}]}"
      ]
     },
     "execution_count": 52,
     "metadata": {},
     "output_type": "execute_result"
    }
   ],
   "source": [
    "docs"
   ]
  },
  {
   "cell_type": "code",
   "execution_count": 53,
   "metadata": {},
   "outputs": [],
   "source": [
    "docs['time'].append({'9':'Neutral'})\n",
    "docs['time'].append({'16':'Sad'})"
   ]
  },
  {
   "cell_type": "code",
   "execution_count": 54,
   "metadata": {},
   "outputs": [
    {
     "data": {
      "text/plain": [
       "{'name': 'Binayak Pokhrel',\n",
       " 'year': '2019',\n",
       " 'month': 'February',\n",
       " 'day': '24',\n",
       " 'time': [{'12': 'Happy'}, {'9': 'Neutral'}, {'16': 'Sad'}]}"
      ]
     },
     "execution_count": 54,
     "metadata": {},
     "output_type": "execute_result"
    }
   ],
   "source": [
    "docs"
   ]
  },
  {
   "cell_type": "code",
   "execution_count": 56,
   "metadata": {},
   "outputs": [
    {
     "data": {
      "text/plain": [
       "[4]"
      ]
     },
     "execution_count": 56,
     "metadata": {},
     "output_type": "execute_result"
    }
   ],
   "source": [
    "attendence.upsert({'time':docs['time']},(Query().name == 'Binayak Pokhrel') & (Query().day == get_day()))"
   ]
  },
  {
   "cell_type": "code",
   "execution_count": 57,
   "metadata": {},
   "outputs": [
    {
     "data": {
      "text/plain": [
       "{'name': 'Binayak Pokhrel',\n",
       " 'year': '2019',\n",
       " 'month': 'February',\n",
       " 'day': '24',\n",
       " 'time': [{'12': 'Happy'}, {'9': 'Neutral'}, {'16': 'Sad'}]}"
      ]
     },
     "execution_count": 57,
     "metadata": {},
     "output_type": "execute_result"
    }
   ],
   "source": [
    "attendence.get((Query().name == 'Binayak Pokhrel') & (Query().day == get_day()) & (Query().month == get_month()))"
   ]
  },
  {
   "cell_type": "code",
   "execution_count": 61,
   "metadata": {},
   "outputs": [
    {
     "data": {
      "text/plain": [
       "True"
      ]
     },
     "execution_count": 61,
     "metadata": {},
     "output_type": "execute_result"
    }
   ],
   "source": [
    "attendence.get((Query().name == 'Bipin Kc') & (Query().day == get_day()) & (Query().month == get_month())) is None"
   ]
  },
  {
   "cell_type": "code",
   "execution_count": 62,
   "metadata": {},
   "outputs": [
    {
     "data": {
      "text/plain": [
       "[5]"
      ]
     },
     "execution_count": 62,
     "metadata": {},
     "output_type": "execute_result"
    }
   ],
   "source": [
    "attendence.upsert({'time':docs['time']},(Query().name == 'Bipin Kc') & (Query().day == get_day()) & (Query().month == get_month()) & (Query().year == get_year()))"
   ]
  },
  {
   "cell_type": "code",
   "execution_count": 63,
   "metadata": {},
   "outputs": [
    {
     "data": {
      "text/plain": [
       "True"
      ]
     },
     "execution_count": 63,
     "metadata": {},
     "output_type": "execute_result"
    }
   ],
   "source": [
    "attendence.get((Query().name == 'Bipin Kc') & (Query().day == get_day()) & (Query().month == get_month())) is None"
   ]
  },
  {
   "cell_type": "code",
   "execution_count": 64,
   "metadata": {},
   "outputs": [
    {
     "data": {
      "text/plain": [
       "[{'name': 'Aaditya Chapagain',\n",
       "  'year': '2019',\n",
       "  'month': 'February',\n",
       "  'day': '24',\n",
       "  'time': [{'9': 'Neutral'}, {'10': 'Neutral'}]},\n",
       " {'name': 'Anish pandey',\n",
       "  'year': '2019',\n",
       "  'month': 'February',\n",
       "  'day': '24',\n",
       "  'time': [{'9': 'Neutral'}, {'10': 'Happy'}]},\n",
       " {'name': 'Sushil Ghimire',\n",
       "  'year': '2019',\n",
       "  'month': 'February',\n",
       "  'day': '24',\n",
       "  'time': [{'9': 'Happy'}, {'10': 'Happy'}, {'11': 'Neutral'}]},\n",
       " {'name': 'Binayak Pokhrel',\n",
       "  'year': '2019',\n",
       "  'month': 'February',\n",
       "  'day': '24',\n",
       "  'time': [{'12': 'Happy'}, {'9': 'Neutral'}, {'16': 'Sad'}]}]"
      ]
     },
     "execution_count": 64,
     "metadata": {},
     "output_type": "execute_result"
    }
   ],
   "source": [
    "attendence.search(where('year') == '2019' and where('day') == '24')"
   ]
  },
  {
   "cell_type": "code",
   "execution_count": 65,
   "metadata": {},
   "outputs": [
    {
     "data": {
      "text/plain": [
       "[{'name': 'Aaditya Chapagain',\n",
       "  'year': '2019',\n",
       "  'month': 'February',\n",
       "  'day': '24',\n",
       "  'time': [{'9': 'Neutral'}, {'10': 'Neutral'}]},\n",
       " {'name': 'Anish pandey',\n",
       "  'year': '2019',\n",
       "  'month': 'February',\n",
       "  'day': '24',\n",
       "  'time': [{'9': 'Neutral'}, {'10': 'Happy'}]},\n",
       " {'name': 'Sushil Ghimire',\n",
       "  'year': '2019',\n",
       "  'month': 'February',\n",
       "  'day': '24',\n",
       "  'time': [{'9': 'Happy'}, {'10': 'Happy'}, {'11': 'Neutral'}]},\n",
       " {'name': 'Binayak Pokhrel',\n",
       "  'year': '2019',\n",
       "  'month': 'February',\n",
       "  'day': '24',\n",
       "  'time': [{'12': 'Happy'}, {'9': 'Neutral'}, {'16': 'Sad'}]},\n",
       " {'time': [{'12': 'Happy'}, {'9': 'Neutral'}, {'16': 'Sad'}]}]"
      ]
     },
     "execution_count": 65,
     "metadata": {},
     "output_type": "execute_result"
    }
   ],
   "source": [
    "attendence.all()"
   ]
  },
  {
   "cell_type": "code",
   "execution_count": 67,
   "metadata": {},
   "outputs": [
    {
     "data": {
      "text/plain": [
       "[5]"
      ]
     },
     "execution_count": 67,
     "metadata": {},
     "output_type": "execute_result"
    }
   ],
   "source": [
    "attendence.remove(doc_ids=[5])"
   ]
  },
  {
   "cell_type": "code",
   "execution_count": 68,
   "metadata": {},
   "outputs": [
    {
     "data": {
      "text/plain": [
       "[{'name': 'Aaditya Chapagain',\n",
       "  'year': '2019',\n",
       "  'month': 'February',\n",
       "  'day': '24',\n",
       "  'time': [{'9': 'Neutral'}, {'10': 'Neutral'}]},\n",
       " {'name': 'Anish pandey',\n",
       "  'year': '2019',\n",
       "  'month': 'February',\n",
       "  'day': '24',\n",
       "  'time': [{'9': 'Neutral'}, {'10': 'Happy'}]},\n",
       " {'name': 'Sushil Ghimire',\n",
       "  'year': '2019',\n",
       "  'month': 'February',\n",
       "  'day': '24',\n",
       "  'time': [{'9': 'Happy'}, {'10': 'Happy'}, {'11': 'Neutral'}]},\n",
       " {'name': 'Binayak Pokhrel',\n",
       "  'year': '2019',\n",
       "  'month': 'February',\n",
       "  'day': '24',\n",
       "  'time': [{'12': 'Happy'}, {'9': 'Neutral'}, {'16': 'Sad'}]}]"
      ]
     },
     "execution_count": 68,
     "metadata": {},
     "output_type": "execute_result"
    }
   ],
   "source": [
    "attendence.all()"
   ]
  },
  {
   "cell_type": "code",
   "execution_count": null,
   "metadata": {},
   "outputs": [],
   "source": []
  }
 ],
 "metadata": {
  "kernelspec": {
   "display_name": "Python 3",
   "language": "python",
   "name": "python3"
  },
  "language_info": {
   "codemirror_mode": {
    "name": "ipython",
    "version": 3
   },
   "file_extension": ".py",
   "mimetype": "text/x-python",
   "name": "python",
   "nbconvert_exporter": "python",
   "pygments_lexer": "ipython3",
   "version": "3.6.8"
  }
 },
 "nbformat": 4,
 "nbformat_minor": 2
}
