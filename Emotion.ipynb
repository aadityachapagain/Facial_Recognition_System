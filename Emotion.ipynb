{
 "cells": [
  {
   "cell_type": "code",
   "execution_count": 3,
   "metadata": {
    "colab": {},
    "colab_type": "code",
    "id": "gQC-5IJ6Qf1B"
   },
   "outputs": [],
   "source": [
    "import tensorflow as tf\n",
    "import numpy as np\n",
    "import pandas as pd\n",
    "import matplotlib.pyplot as plt\n",
    "import os\n",
    "from PIL import Image"
   ]
  },
  {
   "cell_type": "code",
   "execution_count": 4,
   "metadata": {
    "colab": {},
    "colab_type": "code",
    "id": "uWAa3iydRype"
   },
   "outputs": [],
   "source": [
    "# import cv\n",
    "from scipy import spatial"
   ]
  },
  {
   "cell_type": "code",
   "execution_count": 5,
   "metadata": {
    "colab": {
     "base_uri": "https://localhost:8080/",
     "height": 87
    },
    "colab_type": "code",
    "id": "DaEuy_tHR2zw",
    "outputId": "6cdad70d-70e4-481b-9629-7d8692a6bef5"
   },
   "outputs": [
    {
     "name": "stdout",
     "output_type": "stream",
     "text": [
      "curses is not supported on this machine (please install/reinstall curses for an optimal experience)\n"
     ]
    }
   ],
   "source": [
    "import re\n",
    "import tflearn\n",
    "from tflearn.layers.core import input_data, dropout, fully_connected, flatten\n",
    "from tflearn.layers.conv import conv_2d, max_pool_2d, avg_pool_2d\n",
    "from tflearn.layers.merge_ops import merge\n",
    "from tflearn.layers.normalization import local_response_normalization\n",
    "from tflearn.layers.estimator import regression\n",
    "import random\n",
    "import sys\n",
    "from sklearn.model_selection import train_test_split"
   ]
  },
  {
   "cell_type": "markdown",
   "metadata": {},
   "source": [
    "### Defining Constants"
   ]
  },
  {
   "cell_type": "code",
   "execution_count": 6,
   "metadata": {
    "colab": {},
    "colab_type": "code",
    "id": "biCzsxHmSJzK"
   },
   "outputs": [],
   "source": [
    "SIZE_FACE = 48\n",
    "EMOTIONS = ['angry', 'disgusted', 'fearful',\n",
    "            'happy', 'sad', 'surprised', 'neutral']\n",
    "SAVE_DIRECTORY = '/'\n",
    "SAVE_MODEL_FILENAME = 'Gudi_model_80_epochs_20000_faces'\n",
    "DATASET_CSV_FILENAME = 'fer2013.csv'\n",
    "SAVE_DATASET_IMAGES_FILENAME = 'data_images.npy'\n",
    "SAVE_DATASET_LABELS_FILENAME = 'data_labels.npy'"
   ]
  },
  {
   "cell_type": "code",
   "execution_count": null,
   "metadata": {},
   "outputs": [],
   "source": [
    "images = np.load(\"data_images.npy\")\n",
    "images = images.reshape([-1, SIZE_FACE, SIZE_FACE, 1])\n",
    "labels = np.load(\"data_labels.npy\").reshape([-1, len(EMOTIONS)])"
   ]
  },
  {
   "cell_type": "code",
   "execution_count": null,
   "metadata": {
    "colab": {},
    "colab_type": "code",
    "id": "baREUpSUUy4x"
   },
   "outputs": [],
   "source": [
    "x_train, x_valid, y_train, y_valid = train_test_split(images, labels, test_size=0.22, random_state=42)"
   ]
  },
  {
   "cell_type": "code",
   "execution_count": null,
   "metadata": {
    "colab": {},
    "colab_type": "code",
    "id": "6TRV3C8_p2B_"
   },
   "outputs": [],
   "source": [
    "def bias_variable(shape):\n",
    "    \"\"\"\n",
    "    Create a bias variable with appropriate initialization\n",
    "    :param name: bias variable name\n",
    "    :param shape: bias variable shape\n",
    "    :return: initialized bias variable\n",
    "    \"\"\"\n",
    "    initial = tf.constant(0., shape=shape, dtype=tf.float32)\n",
    "    return tf.get_variable('b', dtype=tf.float32, initializer=initial)"
   ]
  },
  {
   "cell_type": "code",
   "execution_count": null,
   "metadata": {
    "colab": {},
    "colab_type": "code",
    "id": "nXaVsKA4pgVq"
   },
   "outputs": [],
   "source": [
    "def weight_variable(shape):\n",
    "    \"\"\"\n",
    "    Create a weight variable with appropriate initialization\n",
    "    :param name: weight name\n",
    "    :param shape: weight shape\n",
    "    :return: initialized weight variable\n",
    "    \"\"\"\n",
    "    initer = tf.truncated_normal_initializer(stddev=0.01)\n",
    "    return tf.get_variable('W', dtype=tf.float32, shape=shape, initializer=initer)"
   ]
  },
  {
   "cell_type": "code",
   "execution_count": null,
   "metadata": {
    "colab": {},
    "colab_type": "code",
    "id": "YGK3n8e4qCZN"
   },
   "outputs": [],
   "source": [
    "def conv_layer(x, num_filters, filter_size, stride, name):\n",
    "    \"\"\"\n",
    "    Create a 2D convolution layer\n",
    "    :param x: input from previous layer\n",
    "    :param filter_size: size of each filter\n",
    "    :param num_filters: number of filters (or output feature maps)\n",
    "    :param stride: filter stride\n",
    "    :param name: layer name\n",
    "    :return: The output array\n",
    "    \"\"\"\n",
    "    with tf.variable_scope(name):\n",
    "        num_in_channel = x.get_shape().as_list()[-1]\n",
    "        shape = [filter_size, filter_size, num_in_channel, num_filters]\n",
    "        W = weight_variable(shape=shape)\n",
    "        tf.summary.histogram('weight', W)\n",
    "        b = bias_variable(shape=[num_filters])\n",
    "        tf.summary.histogram('bias', b)\n",
    "        layer = tf.nn.conv2d(x, W, strides=[1, stride, stride, 1], padding=\"SAME\")\n",
    "        layer += b\n",
    "#         Using non - linearity RELU\n",
    "        return tf.nn.relu(layer)"
   ]
  },
  {
   "cell_type": "code",
   "execution_count": null,
   "metadata": {
    "colab": {},
    "colab_type": "code",
    "id": "KryImtBgqIpg"
   },
   "outputs": [],
   "source": [
    "def max_pool(x, ksize, stride, name):\n",
    "    \"\"\"\n",
    "    Create a max pooling layer\n",
    "    :param x: input to max-pooling layer\n",
    "    :param ksize: size of the max-pooling filter\n",
    "    :param stride: stride of the max-pooling filter\n",
    "    :param name: layer name\n",
    "    :return: The output array\n",
    "    \"\"\"\n",
    "    return tf.nn.max_pool(x,\n",
    "                          ksize=[1, ksize, ksize, 1],\n",
    "                          strides=[1, stride, stride, 1],\n",
    "                          padding=\"VALID\",\n",
    "                          name=name)"
   ]
  },
  {
   "cell_type": "code",
   "execution_count": null,
   "metadata": {
    "colab": {},
    "colab_type": "code",
    "id": "-nUl_ZyIqMLh"
   },
   "outputs": [],
   "source": [
    "def flatten_layer(layer):\n",
    "    \"\"\"\n",
    "    Flattens the output of the convolutional layer to be fed into fully-connected layer\n",
    "    :param layer: input array\n",
    "    :return: flattened array\n",
    "    \"\"\"\n",
    "    with tf.variable_scope('Flatten_layer'):\n",
    "        layer_shape = layer.get_shape()\n",
    "        num_features = layer_shape[1:4].num_elements()\n",
    "        layer_flat = tf.reshape(layer, [-1, num_features])\n",
    "    return layer_flat"
   ]
  },
  {
   "cell_type": "code",
   "execution_count": null,
   "metadata": {
    "colab": {},
    "colab_type": "code",
    "id": "lwIzeu5CqTtd"
   },
   "outputs": [],
   "source": [
    "def fc_layer(x, num_units, name, use_relu=True):\n",
    "    \"\"\"\n",
    "    Create a fully-connected layer\n",
    "    :param x: input from previous layer\n",
    "    :param num_out: number of hidden units in the fully-connected layer\n",
    "    :param name: layer name\n",
    "    :param use_relu: boolean to add ReLU non-linearity (or not)\n",
    "    :return: The output array\n",
    "    \"\"\"\n",
    "    with tf.variable_scope(name):\n",
    "        in_dim = x.get_shape()[1]\n",
    "        W = weight_variable(shape=[in_dim, num_units])\n",
    "        tf.summary.histogram('weight', W)\n",
    "        b = bias_variable(shape=[num_units])\n",
    "        tf.summary.histogram('bias', b)\n",
    "        layer = tf.matmul(x, W)\n",
    "        layer += b\n",
    "        if use_relu:\n",
    "            layer = tf.nn.relu(layer)\n",
    "        return layer\n"
   ]
  },
  {
   "cell_type": "code",
   "execution_count": null,
   "metadata": {
    "colab": {},
    "colab_type": "code",
    "id": "XJouMPgIqcYa"
   },
   "outputs": [],
   "source": [
    "def dropout(x, keep_prob,name):\n",
    "    \"\"\"Create a dropout layer.\"\"\"\n",
    "    return tf.nn.dropout(x, keep_prob,name=name)"
   ]
  },
  {
   "cell_type": "code",
   "execution_count": null,
   "metadata": {
    "colab": {},
    "colab_type": "code",
    "id": "6Laqmm25qh06"
   },
   "outputs": [],
   "source": [
    "def randomize(x, y):\n",
    "    \"\"\" Randomizes the order of data samples and their corresponding labels\"\"\"\n",
    "    permutation = np.random.permutation(y.shape[0])\n",
    "    shuffled_x = x[permutation, :, :, :]\n",
    "    shuffled_y = y[permutation]\n",
    "    return shuffled_x, shuffled_y\n",
    "\n",
    "def get_next_batch(x, y, start, end):\n",
    "    x_batch = x[start:end]\n",
    "    y_batch = y[start:end]\n",
    "    return x_batch, y_batch"
   ]
  },
  {
   "cell_type": "code",
   "execution_count": null,
   "metadata": {
    "colab": {},
    "colab_type": "code",
    "id": "KeHULZ0yqozN"
   },
   "outputs": [],
   "source": [
    "lr = 0.001  # The optimization initial learning rate\n",
    "epochs = 20  # Total number of training epochs\n",
    "batch_size = 50  # Training batch size\n",
    "display_freq = 50  # Frequency of displaying the training results"
   ]
  },
  {
   "cell_type": "code",
   "execution_count": null,
   "metadata": {
    "colab": {},
    "colab_type": "code",
    "id": "rl3FMDiEq13j"
   },
   "outputs": [],
   "source": [
    "with tf.name_scope('Input'):\n",
    "    x = tf.placeholder(tf.float32, shape=[None, SIZE_FACE, SIZE_FACE, 1], name='X')\n",
    "    y = tf.placeholder(tf.float32, shape=[None, 7], name='Y')"
   ]
  },
  {
   "cell_type": "code",
   "execution_count": null,
   "metadata": {
    "colab": {
     "base_uri": "https://localhost:8080/",
     "height": 87
    },
    "colab_type": "code",
    "id": "fuHrbVF-q23e",
    "outputId": "79622399-b3cc-4533-95fe-2806974086f1",
    "scrolled": true
   },
   "outputs": [],
   "source": [
    "conv1 = conv_layer(x, 96, 11,stride=4, name='conv1')\n",
    "pool1 = max_pool(conv1, 2, stride=2, name='pool1')\n",
    "\n",
    "conv2 = conv_layer(pool1,256, 11, stride=1,name='conv2')\n",
    "pool2 = max_pool(conv2, 3, stride=2, name='pool2')\n",
    "\n",
    "\n",
    "conv3 = conv_layer(pool2, 384, 3, stride=1, name='conv3')\n",
    "\n",
    "conv4 = conv_layer(conv3, 384, 3, stride=1, name='conv4')\n",
    "\n",
    "conv5 = conv_layer(conv4, 256, 3, stride=1, name='conv5')\n",
    "pool5 = max_pool(conv5, 2, stride=2, name='pool5')\n",
    "\n",
    "layer_flat = flatten_layer(pool5)\n",
    "\n",
    "fc1 = fc_layer(layer_flat, 4096, name='fc1')\n",
    "# Using Dropout layer to avoid overfitting\n",
    "drop1 = dropout(fc1, 0.4,name='drop1')\n",
    "\n",
    "fc2 = fc_layer(drop1, 4096, name='fc2')\n",
    "drop2 = dropout(fc2, 0.4, name='drop2')\n",
    "\n",
    "fc3 = fc_layer(drop2, 1000, name='fc3')\n",
    "drop3 = dropout(fc3,0.3,name='drop3')\n",
    "\n",
    "output_logits= fc_layer(fc3, len(EMOTIONS) ,name='OUT', use_relu=False)"
   ]
  },
  {
   "cell_type": "code",
   "execution_count": 0,
   "metadata": {
    "colab": {},
    "colab_type": "code",
    "id": "-r0zf8Kaq68D"
   },
   "outputs": [],
   "source": [
    "with tf.variable_scope('Train'):\n",
    "    with tf.variable_scope('Loss'):\n",
    "        loss = tf.reduce_mean(tf.nn.softmax_cross_entropy_with_logits_v2(labels=y, logits=output_logits), name='loss')\n",
    "    tf.summary.scalar('loss', loss)\n",
    "    with tf.variable_scope('Optimizer'):\n",
    "        optimizer = tf.train.AdamOptimizer(learning_rate=0.0001, name='Adam-op').minimize(loss)\n",
    "    with tf.variable_scope('Accuracy'):\n",
    "        correct_prediction = tf.equal(tf.argmax(output_logits, 1), tf.argmax(y, 1), name='correct_pred')\n",
    "        accuracy = tf.reduce_mean(tf.cast(correct_prediction, tf.float32), name='accuracy')\n",
    "    tf.summary.scalar('accuracy', accuracy)\n",
    "    with tf.variable_scope('Prediction'):\n",
    "        cls_prediction = tf.argmax(output_logits, axis=1, name='predictions')"
   ]
  },
  {
   "cell_type": "code",
   "execution_count": 0,
   "metadata": {
    "colab": {},
    "colab_type": "code",
    "id": "5lkg9AOIrAmQ"
   },
   "outputs": [],
   "source": [
    "# Initialize the variables\n",
    "init = tf.global_variables_initializer()\n",
    "# Merge all summaries\n",
    "merged = tf.summary.merge_all()"
   ]
  },
  {
   "cell_type": "code",
   "execution_count": 0,
   "metadata": {
    "colab": {},
    "colab_type": "code",
    "id": "9fHTOsCprXdi"
   },
   "outputs": [],
   "source": [
    "saver = tf.train.Saver()"
   ]
  },
  {
   "cell_type": "code",
   "execution_count": 21,
   "metadata": {
    "colab": {
     "base_uri": "https://localhost:8080/",
     "height": 3377
    },
    "colab_type": "code",
    "id": "p26eesaIrFsg",
    "outputId": "48af1545-eee5-49fb-e5dc-034f53db31c6"
   },
   "outputs": [
    {
     "name": "stdout",
     "output_type": "stream",
     "text": [
      "Training epoch: 1\n",
      "iter   0:\t Loss=1.95,\tTraining Accuracy=24.0%\n",
      "iter  50:\t Loss=1.83,\tTraining Accuracy=22.0%\n",
      "iter 100:\t Loss=1.89,\tTraining Accuracy=32.0%\n",
      "iter 150:\t Loss=1.67,\tTraining Accuracy=40.0%\n",
      "iter 200:\t Loss=1.80,\tTraining Accuracy=26.0%\n",
      "---------------------------------------------------------\n",
      "Epoch: 1, validation loss: 1.78, validation accuracy: 29.1%\n",
      "---------------------------------------------------------\n",
      "Model saved in path: model.ckpt\n",
      "Training epoch: 2\n",
      "iter   0:\t Loss=1.82,\tTraining Accuracy=26.0%\n",
      "iter  50:\t Loss=1.81,\tTraining Accuracy=30.0%\n",
      "iter 100:\t Loss=1.70,\tTraining Accuracy=26.0%\n",
      "iter 150:\t Loss=1.68,\tTraining Accuracy=30.0%\n",
      "iter 200:\t Loss=1.53,\tTraining Accuracy=32.0%\n",
      "---------------------------------------------------------\n",
      "Epoch: 2, validation loss: 1.62, validation accuracy: 37.9%\n",
      "---------------------------------------------------------\n",
      "Model saved in path: model.ckpt\n",
      "Training epoch: 3\n",
      "iter   0:\t Loss=1.56,\tTraining Accuracy=38.0%\n",
      "iter  50:\t Loss=1.80,\tTraining Accuracy=34.0%\n",
      "iter 100:\t Loss=1.59,\tTraining Accuracy=40.0%\n",
      "iter 150:\t Loss=1.50,\tTraining Accuracy=44.0%\n",
      "iter 200:\t Loss=1.56,\tTraining Accuracy=42.0%\n",
      "---------------------------------------------------------\n",
      "Epoch: 3, validation loss: 1.52, validation accuracy: 42.8%\n",
      "---------------------------------------------------------\n",
      "Model saved in path: model.ckpt\n",
      "Training epoch: 4\n",
      "iter   0:\t Loss=1.58,\tTraining Accuracy=48.0%\n",
      "iter  50:\t Loss=1.65,\tTraining Accuracy=44.0%\n",
      "iter 100:\t Loss=1.73,\tTraining Accuracy=26.0%\n",
      "iter 150:\t Loss=1.31,\tTraining Accuracy=54.0%\n",
      "iter 200:\t Loss=1.32,\tTraining Accuracy=48.0%\n",
      "---------------------------------------------------------\n",
      "Epoch: 4, validation loss: 1.54, validation accuracy: 42.1%\n",
      "---------------------------------------------------------\n",
      "Model saved in path: model.ckpt\n",
      "Training epoch: 5\n",
      "iter   0:\t Loss=1.61,\tTraining Accuracy=32.0%\n",
      "iter  50:\t Loss=1.21,\tTraining Accuracy=58.0%\n",
      "iter 100:\t Loss=1.54,\tTraining Accuracy=42.0%\n",
      "iter 150:\t Loss=1.33,\tTraining Accuracy=46.0%\n",
      "iter 200:\t Loss=1.46,\tTraining Accuracy=54.0%\n",
      "---------------------------------------------------------\n",
      "Epoch: 5, validation loss: 1.45, validation accuracy: 45.8%\n",
      "---------------------------------------------------------\n",
      "Model saved in path: model.ckpt\n",
      "Training epoch: 6\n",
      "iter   0:\t Loss=1.43,\tTraining Accuracy=46.0%\n",
      "iter  50:\t Loss=1.32,\tTraining Accuracy=46.0%\n",
      "iter 100:\t Loss=1.42,\tTraining Accuracy=44.0%\n",
      "iter 150:\t Loss=1.31,\tTraining Accuracy=50.0%\n",
      "iter 200:\t Loss=1.45,\tTraining Accuracy=50.0%\n",
      "---------------------------------------------------------\n",
      "Epoch: 6, validation loss: 1.42, validation accuracy: 46.6%\n",
      "---------------------------------------------------------\n",
      "Model saved in path: model.ckpt\n",
      "Training epoch: 7\n",
      "iter   0:\t Loss=1.12,\tTraining Accuracy=56.0%\n",
      "iter  50:\t Loss=1.30,\tTraining Accuracy=52.0%\n",
      "iter 100:\t Loss=1.23,\tTraining Accuracy=52.0%\n",
      "iter 150:\t Loss=1.57,\tTraining Accuracy=40.0%\n",
      "iter 200:\t Loss=1.30,\tTraining Accuracy=46.0%\n",
      "---------------------------------------------------------\n",
      "Epoch: 7, validation loss: 1.39, validation accuracy: 47.5%\n",
      "---------------------------------------------------------\n",
      "Model saved in path: model.ckpt\n",
      "Training epoch: 8\n",
      "iter   0:\t Loss=1.36,\tTraining Accuracy=52.0%\n",
      "iter  50:\t Loss=1.29,\tTraining Accuracy=44.0%\n",
      "iter 100:\t Loss=1.05,\tTraining Accuracy=64.0%\n",
      "iter 150:\t Loss=1.39,\tTraining Accuracy=50.0%\n",
      "iter 200:\t Loss=1.19,\tTraining Accuracy=56.0%\n",
      "---------------------------------------------------------\n",
      "Epoch: 8, validation loss: 1.38, validation accuracy: 47.7%\n",
      "---------------------------------------------------------\n",
      "Model saved in path: model.ckpt\n",
      "Training epoch: 9\n",
      "iter   0:\t Loss=1.35,\tTraining Accuracy=44.0%\n",
      "iter  50:\t Loss=1.23,\tTraining Accuracy=56.0%\n",
      "iter 100:\t Loss=1.31,\tTraining Accuracy=50.0%\n",
      "iter 150:\t Loss=1.22,\tTraining Accuracy=56.0%\n",
      "iter 200:\t Loss=1.08,\tTraining Accuracy=58.0%\n",
      "---------------------------------------------------------\n",
      "Epoch: 9, validation loss: 1.39, validation accuracy: 47.2%\n",
      "---------------------------------------------------------\n",
      "Model saved in path: model.ckpt\n",
      "Training epoch: 10\n",
      "iter   0:\t Loss=1.43,\tTraining Accuracy=46.0%\n",
      "iter  50:\t Loss=1.13,\tTraining Accuracy=60.0%\n",
      "iter 100:\t Loss=1.13,\tTraining Accuracy=62.0%\n",
      "iter 150:\t Loss=0.99,\tTraining Accuracy=62.0%\n",
      "iter 200:\t Loss=0.96,\tTraining Accuracy=64.0%\n",
      "---------------------------------------------------------\n",
      "Epoch: 10, validation loss: 1.36, validation accuracy: 48.7%\n",
      "---------------------------------------------------------\n",
      "Model saved in path: model.ckpt\n",
      "Training epoch: 11\n",
      "iter   0:\t Loss=1.35,\tTraining Accuracy=40.0%\n",
      "iter  50:\t Loss=1.42,\tTraining Accuracy=50.0%\n",
      "iter 100:\t Loss=1.21,\tTraining Accuracy=48.0%\n",
      "iter 150:\t Loss=1.44,\tTraining Accuracy=38.0%\n",
      "iter 200:\t Loss=1.12,\tTraining Accuracy=50.0%\n",
      "---------------------------------------------------------\n",
      "Epoch: 11, validation loss: 1.40, validation accuracy: 49.3%\n",
      "---------------------------------------------------------\n",
      "Model saved in path: model.ckpt\n",
      "Training epoch: 12\n",
      "iter   0:\t Loss=1.06,\tTraining Accuracy=60.0%\n",
      "iter  50:\t Loss=1.11,\tTraining Accuracy=52.0%\n",
      "iter 100:\t Loss=1.01,\tTraining Accuracy=64.0%\n",
      "iter 150:\t Loss=1.10,\tTraining Accuracy=58.0%\n",
      "iter 200:\t Loss=1.16,\tTraining Accuracy=54.0%\n",
      "---------------------------------------------------------\n",
      "Epoch: 12, validation loss: 1.38, validation accuracy: 49.3%\n",
      "---------------------------------------------------------\n",
      "Model saved in path: model.ckpt\n",
      "Training epoch: 13\n",
      "iter   0:\t Loss=1.05,\tTraining Accuracy=62.0%\n",
      "iter  50:\t Loss=1.20,\tTraining Accuracy=50.0%\n",
      "iter 100:\t Loss=0.83,\tTraining Accuracy=72.0%\n",
      "iter 150:\t Loss=1.03,\tTraining Accuracy=52.0%\n",
      "iter 200:\t Loss=1.06,\tTraining Accuracy=56.0%\n",
      "---------------------------------------------------------\n",
      "Epoch: 13, validation loss: 1.42, validation accuracy: 49.7%\n",
      "---------------------------------------------------------\n",
      "Model saved in path: model.ckpt\n",
      "Training epoch: 14\n",
      "iter   0:\t Loss=0.93,\tTraining Accuracy=58.0%\n",
      "iter  50:\t Loss=1.16,\tTraining Accuracy=64.0%\n",
      "iter 100:\t Loss=0.82,\tTraining Accuracy=74.0%\n",
      "iter 150:\t Loss=0.83,\tTraining Accuracy=70.0%\n",
      "iter 200:\t Loss=1.09,\tTraining Accuracy=54.0%\n",
      "---------------------------------------------------------\n",
      "Epoch: 14, validation loss: 1.37, validation accuracy: 50.2%\n",
      "---------------------------------------------------------\n",
      "Model saved in path: model.ckpt\n",
      "Training epoch: 15\n",
      "iter   0:\t Loss=0.95,\tTraining Accuracy=74.0%\n",
      "iter  50:\t Loss=1.02,\tTraining Accuracy=54.0%\n",
      "iter 100:\t Loss=0.89,\tTraining Accuracy=62.0%\n",
      "iter 150:\t Loss=1.06,\tTraining Accuracy=60.0%\n",
      "iter 200:\t Loss=0.90,\tTraining Accuracy=68.0%\n",
      "---------------------------------------------------------\n",
      "Epoch: 15, validation loss: 1.45, validation accuracy: 50.8%\n",
      "---------------------------------------------------------\n",
      "Model saved in path: model.ckpt\n",
      "Training epoch: 16\n",
      "iter   0:\t Loss=0.85,\tTraining Accuracy=70.0%\n",
      "iter  50:\t Loss=0.96,\tTraining Accuracy=74.0%\n",
      "iter 100:\t Loss=0.73,\tTraining Accuracy=74.0%\n",
      "iter 150:\t Loss=0.71,\tTraining Accuracy=74.0%\n",
      "iter 200:\t Loss=0.67,\tTraining Accuracy=72.0%\n",
      "---------------------------------------------------------\n",
      "Epoch: 16, validation loss: 1.62, validation accuracy: 50.9%\n",
      "---------------------------------------------------------\n",
      "Model saved in path: model.ckpt\n",
      "Training epoch: 17\n",
      "iter   0:\t Loss=0.77,\tTraining Accuracy=62.0%\n",
      "iter  50:\t Loss=0.84,\tTraining Accuracy=66.0%\n",
      "iter 100:\t Loss=0.73,\tTraining Accuracy=68.0%\n",
      "iter 150:\t Loss=0.84,\tTraining Accuracy=60.0%\n",
      "iter 200:\t Loss=0.79,\tTraining Accuracy=64.0%\n",
      "---------------------------------------------------------\n",
      "Epoch: 17, validation loss: 1.72, validation accuracy: 51.2%\n",
      "---------------------------------------------------------\n",
      "Model saved in path: model.ckpt\n",
      "Training epoch: 18\n",
      "iter   0:\t Loss=0.91,\tTraining Accuracy=70.0%\n",
      "iter  50:\t Loss=0.84,\tTraining Accuracy=70.0%\n",
      "iter 100:\t Loss=0.80,\tTraining Accuracy=64.0%\n",
      "iter 150:\t Loss=0.85,\tTraining Accuracy=66.0%\n",
      "iter 200:\t Loss=0.72,\tTraining Accuracy=70.0%\n",
      "---------------------------------------------------------\n",
      "Epoch: 18, validation loss: 1.64, validation accuracy: 48.9%\n",
      "---------------------------------------------------------\n",
      "Model saved in path: model.ckpt\n",
      "Training epoch: 19\n",
      "iter   0:\t Loss=1.00,\tTraining Accuracy=56.0%\n",
      "iter  50:\t Loss=0.61,\tTraining Accuracy=70.0%\n",
      "iter 100:\t Loss=0.56,\tTraining Accuracy=80.0%\n",
      "iter 150:\t Loss=0.51,\tTraining Accuracy=82.0%\n",
      "iter 200:\t Loss=0.79,\tTraining Accuracy=68.0%\n",
      "---------------------------------------------------------\n",
      "Epoch: 19, validation loss: 1.86, validation accuracy: 51.1%\n",
      "---------------------------------------------------------\n",
      "Model saved in path: model.ckpt\n",
      "Training epoch: 20\n",
      "iter   0:\t Loss=0.49,\tTraining Accuracy=78.0%\n",
      "iter  50:\t Loss=0.64,\tTraining Accuracy=72.0%\n",
      "iter 100:\t Loss=0.60,\tTraining Accuracy=72.0%\n",
      "iter 150:\t Loss=0.48,\tTraining Accuracy=84.0%\n",
      "iter 200:\t Loss=0.84,\tTraining Accuracy=66.0%\n",
      "---------------------------------------------------------\n",
      "Epoch: 20, validation loss: 1.81, validation accuracy: 50.0%\n",
      "---------------------------------------------------------\n",
      "Model saved in path: model.ckpt\n"
     ]
    }
   ],
   "source": [
    "lloss = []\n",
    "aaccc = []\n",
    "sess = tf.InteractiveSession(config=tf.ConfigProto(log_device_placement=True))\n",
    "sess.run(init)\n",
    "global_step = 0\n",
    "summary_writer = tf.summary.FileWriter('./logdir', sess.graph)\n",
    "# Number of training iterations in each epoch\n",
    "num_tr_iter = int(len(y_train) / batch_size)\n",
    "for epoch in range(epochs):\n",
    "    print('Training epoch: {}'.format(epoch + 1))\n",
    "    x_train, y_train = randomize(x_train, y_train)\n",
    "    for iteration in range(num_tr_iter):\n",
    "        global_step += 1\n",
    "        start = iteration * batch_size\n",
    "        end = (iteration + 1) * batch_size\n",
    "        x_batch, y_batch = get_next_batch(x_train, y_train, start, end)\n",
    "\n",
    "        # Run optimization op (backprop)\n",
    "        feed_dict_batch = {x: x_batch, y: y_batch}\n",
    "        sess.run(optimizer, feed_dict=feed_dict_batch)\n",
    "\n",
    "        if iteration % display_freq == 0:\n",
    "            # Calculate and display the batch loss and accuracy\n",
    "            loss_batch, acc_batch, summary_tr = sess.run([loss, accuracy, merged],\n",
    "                                                         feed_dict=feed_dict_batch)\n",
    "            summary_writer.add_summary(summary_tr, global_step)\n",
    "\n",
    "            print(\"iter {0:3d}:\\t Loss={1:.2f},\\tTraining Accuracy={2:.01%}\".format(iteration, loss_batch, acc_batch))\n",
    "\n",
    "    # Run validation after every epoch\n",
    "    feed_dict_valid = {x: x_valid, y: y_valid}\n",
    "    loss_valid, acc_valid = sess.run([loss, accuracy], feed_dict=feed_dict_valid)\n",
    "    print('---------------------------------------------------------')\n",
    "    print(\"Epoch: {0}, validation loss: {1:.2f}, validation accuracy: {2:.01%}\".\n",
    "          format(epoch + 1, loss_valid, acc_valid))\n",
    "    print('---------------------------------------------------------')\n",
    "    save_path = saver.save(sess, \"model.ckpt\"+\"_\"+str(epoch))\n",
    "    print(\"Model saved in path: %s\" % save_path+'_'+str(epoch))\n",
    "    lloss.append(loss_valid)\n",
    "    aaccc.append(acc_valid)"
   ]
  },
  {
   "cell_type": "markdown",
   "metadata": {},
   "source": [
    "### Visualizing the accuracy and loss of model for facial expression recognition"
   ]
  },
  {
   "cell_type": "code",
   "execution_count": 25,
   "metadata": {
    "colab": {
     "base_uri": "https://localhost:8080/",
     "height": 364
    },
    "colab_type": "code",
    "id": "kUtOpuLlOCr5",
    "outputId": "97efbdf3-0f86-4365-e63e-43267ab2b735"
   },
   "outputs": [
    {
     "data": {
      "text/plain": [
       "[<matplotlib.lines.Line2D at 0x7faff6ce4d68>]"
      ]
     },
     "execution_count": 25,
     "metadata": {
      "tags": []
     },
     "output_type": "execute_result"
    },
    {
     "data": {
      "image/png": "[encoded data removed]",
      "text/plain": [
       "<Figure size 576x396 with 1 Axes>"
      ]
     },
     "metadata": {
      "tags": []
     },
     "output_type": "display_data"
    }
   ],
   "source": [
    "plt.plot([n for n in range(epoch+1)],lloss,'-r')\n",
    "plt.plot([n for n in range(epoch+1)],aaccc,'-g')"
   ]
  },
  {
   "cell_type": "markdown",
   "metadata": {},
   "source": [
    "### Calculating the distance between the accuracy and loss of model"
   ]
  },
  {
   "cell_type": "code",
   "execution_count": 28,
   "metadata": {
    "colab": {
     "base_uri": "https://localhost:8080/",
     "height": 54
    },
    "colab_type": "code",
    "id": "QC71mr1tRL6K",
    "outputId": "780e67ca-bb5e-4d01-82a1-dcf70f65b22b"
   },
   "outputs": [
    {
     "name": "stdout",
     "output_type": "stream",
     "text": [
      "[(0, 1.779267), (1, 1.6156559), (2, 1.5225643), (3, 1.5367703), (4, 1.45082), (5, 1.4184774), (6, 1.3919834), (7, 1.380047), (8, 1.3878713), (9, 1.3592423), (10, 1.3995298), (11, 1.3758839), (12, 1.4206543), (13, 1.3726779), (14, 1.4517642), (15, 1.6177143), (16, 1.717247), (17, 1.6351981), (18, 1.8589615), (19, 1.8085783)] [(0, 0.29118028), (1, 0.37937742), (2, 0.4276913), (3, 0.42120624), (4, 0.4575227), (5, 0.46595332), (6, 0.47470817), (7, 0.47697794), (8, 0.4724384), (9, 0.4873541), (10, 0.4928664), (11, 0.49254215), (12, 0.49708173), (13, 0.5019455), (14, 0.5077821), (15, 0.50940335), (16, 0.51167315), (17, 0.4886511), (18, 0.5107004), (19, 0.49967575)]\n"
     ]
    }
   ],
   "source": [
    "lloss_coords = list(zip([n for n in range(epoch+1)],lloss))\n",
    "aaccc_coords = list(zip([n for n in range(epoch+1)],aaccc))\n",
    "print(lloss_coords,aaccc_coords)"
   ]
  },
  {
   "cell_type": "code",
   "execution_count": 0,
   "metadata": {
    "colab": {},
    "colab_type": "code",
    "id": "_MDvyvi2TB_p"
   },
   "outputs": [],
   "source": [
    "dist = []\n",
    "for i in range(len(lloss_coords)):\n",
    "    dis = spatial.distance.euclidean(lloss_coords[i],aaccc_coords[i])\n",
    "    dist.append(dis)"
   ]
  },
  {
   "cell_type": "markdown",
   "metadata": {},
   "source": [
    "### Visualizing the point  where distance between accuracy and loss of model is minimum"
   ]
  },
  {
   "cell_type": "code",
   "execution_count": 36,
   "metadata": {
    "colab": {
     "base_uri": "https://localhost:8080/",
     "height": 378
    },
    "colab_type": "code",
    "id": "Nr_4e2NeUEy-",
    "outputId": "f4c5551c-5165-4ba8-eb56-22d958e59ad6"
   },
   "outputs": [
    {
     "data": {
      "text/plain": [
       "Text(0.5, 1.0, 'distance between the accuracy and loss')"
      ]
     },
     "execution_count": 36,
     "metadata": {
      "tags": []
     },
     "output_type": "execute_result"
    },
    {
     "data": {
      "image/png": "[encoded data removed]",
      "text/plain": [
       "<Figure size 576x396 with 2 Axes>"
      ]
     },
     "metadata": {
      "tags": []
     },
     "output_type": "display_data"
    }
   ],
   "source": [
    "ax1 = plt.subplot(121)\n",
    "plt.plot([n for n in range(epoch+1)],lloss,'-r')\n",
    "plt.plot([n for n in range(epoch+1)],aaccc,'-g')\n",
    "ax1.set_title('Accuracy and loss in every epoch')\n",
    "ax2 = plt.subplot(122)\n",
    "plt.plot([n for n in range(epoch+1)],dist)\n",
    "ax2.set_title('distance between the accuracy and loss')"
   ]
  },
  {
   "cell_type": "code",
   "execution_count": 48,
   "metadata": {
    "colab": {
     "base_uri": "https://localhost:8080/",
     "height": 70
    },
    "colab_type": "code",
    "id": "ESXzn0UHWKLE",
    "outputId": "2175ecf3-8686-420f-f8bf-fe96cfaade6e"
   },
   "outputs": [
    {
     "name": "stdout",
     "output_type": "stream",
     "text": [
      "[(0, 1.4880866706371307), (1, 1.236278474330902), (2, 1.0948729813098907), (3, 1.1155641078948975), (4, 0.993297278881073), (5, 0.9525240957736969), (6, 0.9172752201557159), (7, 0.903069019317627), (8, 0.915432870388031), (9, 0.8718882203102112), (10, 0.9066634178161621), (11, 0.8833417892456055), (12, 0.9235725700855255), (13, 0.8707324266433716), (14, 0.9439821243286133), (15, 1.1083109378814697), (16, 1.205573856830597), (17, 1.146547019481659), (18, 1.3482610583305359), (19, 1.3089025020599365)]\n",
      "(13, 0.8707324266433716)\n"
     ]
    }
   ],
   "source": [
    "def sortsecond(x):\n",
    "    return x[1]\n",
    "\n",
    "enm = list(enumerate(dist))\n",
    "print(enm)\n",
    "print(sorted(enm, key=sortsecond)[0])"
   ]
  },
  {
   "cell_type": "code",
   "execution_count": 51,
   "metadata": {
    "colab": {
     "base_uri": "https://localhost:8080/",
     "height": 364
    },
    "colab_type": "code",
    "id": "ODcE6dW7Y6PP",
    "outputId": "c23403de-d9e2-4b6d-a00c-c8d8f6eac100"
   },
   "outputs": [
    {
     "data": {
      "text/plain": [
       "[<matplotlib.lines.Line2D at 0x7fafdb735f60>]"
      ]
     },
     "execution_count": 51,
     "metadata": {
      "tags": []
     },
     "output_type": "execute_result"
    },
    {
     "data": {
      "image/png": "[encoded data removed]",
      "text/plain": [
       "<Figure size 576x396 with 1 Axes>"
      ]
     },
     "metadata": {
      "tags": []
     },
     "output_type": "display_data"
    }
   ],
   "source": [
    "plt.plot([n for n in range(epoch+1)],lloss,'-r')\n",
    "plt.plot([n for n in range(epoch+1)],aaccc,'-g')\n",
    "plt.plot([13 for n in range(epoch+1)],[i for i in np.linspace(0,2,epoch+1)],'-b')"
   ]
  },
  {
   "cell_type": "markdown",
   "metadata": {
    "colab": {},
    "colab_type": "code",
    "id": "_ZPDHsSW3kbJ"
   },
   "source": [
    "### Finally Model is best trained when epoch was 13. So, using model weights at epoch 13 to predict facial expression.\n",
    "### But still accuracy is 53%, We can check accuracy with different model like VGG16 , VGG19, ResNet, InceptionV3 and can use that module give best accuracy and lowest  loss."
   ]
  },
  {
   "cell_type": "markdown",
   "metadata": {},
   "source": [
    "### Since models like VGG16 , VGG19, ResNet, InceptionV3 is big which will take much more time than AlexNet so due to some constraints like Complexity and Time I use AlexNet."
   ]
  },
  {
   "cell_type": "code",
   "execution_count": null,
   "metadata": {},
   "outputs": [],
   "source": []
  }
 ],
 "metadata": {
  "accelerator": "GPU",
  "colab": {
   "collapsed_sections": [],
   "name": "Emotion.ipynb",
   "provenance": [],
   "version": "0.3.2"
  },
  "kernelspec": {
   "display_name": "Python 3",
   "language": "python",
   "name": "python3"
  },
  "language_info": {
   "codemirror_mode": {
    "name": "ipython",
    "version": 3
   },
   "file_extension": ".py",
   "mimetype": "text/x-python",
   "name": "python",
   "nbconvert_exporter": "python",
   "pygments_lexer": "ipython3",
   "version": "3.6.8"
  }
 },
 "nbformat": 4,
 "nbformat_minor": 1
}
