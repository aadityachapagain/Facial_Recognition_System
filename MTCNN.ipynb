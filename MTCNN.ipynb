{
 "cells": [
  {
   "cell_type": "markdown",
   "metadata": {},
   "source": [
    "###   Importing necessary library"
   ]
  },
  {
   "cell_type": "code",
   "execution_count": 2,
   "metadata": {},
   "outputs": [],
   "source": [
    "import os\n",
    "\n",
    "import tensorflow as tf\n",
    "import tensorflow as gfile\n",
    "\n",
    "from typing import List\n",
    "import numpy as np\n",
    "from PIL import Image\n",
    "import time"
   ]
  },
  {
   "cell_type": "code",
   "execution_count": 3,
   "metadata": {},
   "outputs": [],
   "source": [
    "import cv2"
   ]
  },
  {
   "cell_type": "markdown",
   "metadata": {},
   "source": [
    "### Implementation of Layers"
   ]
  },
  {
   "cell_type": "code",
   "execution_count": 6,
   "metadata": {},
   "outputs": [],
   "source": [
    "padding = ['SAME','VALID']"
   ]
  },
  {
   "cell_type": "code",
   "execution_count": 9,
   "metadata": {},
   "outputs": [],
   "source": [
    "def load(data_path, session, ignore_missing=False):\n",
    "        \"\"\"Load network weights.\n",
    "        data_path: The path to the numpy-serialized network weights\n",
    "        session: The current TensorFlow session\n",
    "        ignore_missing: If true, serialized weights for missing layers are ignored.\n",
    "        \"\"\"\n",
    "        data_dict = np.load(data_path, encoding='latin1').item()  # pylint: disable=no-member\n",
    "\n",
    "        for op_name in data_dict:\n",
    "            with tf.variable_scope(op_name, reuse=True):\n",
    "                for param_name, data in iteritems(data_dict[op_name]):\n",
    "                    try:\n",
    "                        var = tf.get_variable(param_name)\n",
    "                        session.run(var.assign(data))\n",
    "                    except ValueError:\n",
    "                        if not ignore_missing:\n",
    "                            raise"
   ]
  },
  {
   "cell_type": "code",
   "execution_count": 12,
   "metadata": {},
   "outputs": [],
   "source": [
    "def conv(inpt, k_h, k_w, c_o, s_h, s_w, name, relu=True, padding=padding[0], group=1, biased=True):\n",
    "        # Convolution for a given input and kernel\n",
    "        with tf.variable_scope(name) as scope:\n",
    "            kernel = tf.get_variable('weights', shape=[k_h, k_w, c_i // group, c_o], trainable=True)\n",
    "            output = tf.nn.conv2d(inpt, kernal, [1, s_h, s_w, 1], padding=padding)\n",
    "            # Add the biases\n",
    "            if biased:\n",
    "                biases = tf.get_variable('biases', [c_o])\n",
    "                output = tf.nn.bias_add(output, biases)\n",
    "            if relu:\n",
    "                # ReLU non-linearity\n",
    "                output = tf.nn.relu(output, name=scope.name)\n",
    "            return output"
   ]
  },
  {
   "cell_type": "code",
   "execution_count": 13,
   "metadata": {},
   "outputs": [],
   "source": [
    "def prelu(inpt, name):\n",
    "        with tf.variable_scope(name):\n",
    "            i = int(inpt.get_shape()[-1])\n",
    "            alpha = tf.get_variable('alpha', shape=(i,))\n",
    "            output = tf.nn.relu(inpt) + tf.multiply(alpha, -tf.nn.relu(-inpt))\n",
    "        return output"
   ]
  },
  {
   "cell_type": "code",
   "execution_count": 14,
   "metadata": {},
   "outputs": [],
   "source": [
    "def max_pool(inpt, k_h, k_w, s_h, s_w, name, padding=padding[0]):\n",
    "        self.validate_padding(padding)\n",
    "        return tf.nn.max_pool(inpt, ksize=[1, k_h, k_w, 1],strides=[1, s_h, s_w, 1], padding=padding, name=name)"
   ]
  },
  {
   "cell_type": "code",
   "execution_count": 20,
   "metadata": {},
   "outputs": [],
   "source": [
    "def fully_connected(inpt, num_out, name, relu=True):\n",
    "        with tf.variable_scope(name):\n",
    "            input_shape = inpt.get_shape()\n",
    "            if input_shape.ndims == 4:\n",
    "                # since the input is spatial.we have to Vectorize it first.\n",
    "                dim = 1\n",
    "                for d in input_shape[1:].as_list():\n",
    "                    dim *= int(d)\n",
    "                feed_in = tf.reshape(inp, [-1, dim])\n",
    "            else:\n",
    "                feed_in, dim = (inpt, input_shape[-1].value)\n",
    "            weights = tf.get_variable('weights', shape=[dim, num_out])\n",
    "            biases = tf.get_variable('biases', [num_out])\n",
    "            op = tf.nn.relu_layer if relu else tf.nn.xw_plus_b\n",
    "            fc = op(feed_in, weights, biases, name=name)\n",
    "            return fc"
   ]
  },
  {
   "cell_type": "code",
   "execution_count": 19,
   "metadata": {},
   "outputs": [],
   "source": [
    "def softmax(target, axis, name=None):\n",
    "        max_axis = tf.reduce_max(target, axis, keepdims=True)\n",
    "        target_exp = tf.exp(target - max_axis)\n",
    "        normalize = tf.reduce_sum(target_exp, axis, keepdims=True)\n",
    "        softmax = tf.div(target_exp, normalize, name)\n",
    "        return softmax"
   ]
  },
  {
   "cell_type": "markdown",
   "metadata": {},
   "source": [
    "## Implementation of MTCNN"
   ]
  },
  {
   "cell_type": "markdown",
   "metadata": {},
   "source": [
    "### P-Net ( Proposal - Network )"
   ]
  },
  {
   "cell_type": "code",
   "execution_count": null,
   "metadata": {},
   "outputs": [],
   "source": [
    "def pNet(data):\n",
    "    value = conv(data, 3, 3, 10, 1, 1, padding='VALID', relu=False, name='conv1')\n",
    "    value = prelu(value, name='PReLU1')\n",
    "    value = max_pool(value, 2, 2, 2, 2, name='pool1')\n",
    "    value = conv(value ,3, 3, 16, 1, 1, padding='VALID', relu=False, name='conv2')\n",
    "    value = prelu(value ,name='PReLU2')\n",
    "    value = conv(value ,3, 3, 32, 1, 1, padding='VALID', relu=False, name='conv3')\n",
    "    value = prelu(value ,name='PReLU3')\n",
    "    val_conv4_1 = conv(value ,1, 1, 2, 1, 1, relu=False, name='conv4-1')\n",
    "    softmax(3, name='prob1')\n",
    "\n",
    "    (self.feed('PReLU3')  # pylint: disable=no-value-for-parameter\n",
    "    .conv(value ,1, 1, 4, 1, 1, relu=False, name='conv4-2'))"
   ]
  }
 ],
 "metadata": {
  "kernelspec": {
   "display_name": "Python 3",
   "language": "python",
   "name": "python3"
  },
  "language_info": {
   "codemirror_mode": {
    "name": "ipython",
    "version": 3
   },
   "file_extension": ".py",
   "mimetype": "text/x-python",
   "name": "python",
   "nbconvert_exporter": "python",
   "pygments_lexer": "ipython3",
   "version": "3.6.8"
  }
 },
 "nbformat": 4,
 "nbformat_minor": 2
}
