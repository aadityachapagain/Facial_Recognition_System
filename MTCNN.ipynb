{
 "cells": [
  {
   "cell_type": "markdown",
   "metadata": {},
   "source": [
    "###   Importing necessary library"
   ]
  },
  {
   "cell_type": "code",
   "execution_count": 2,
   "metadata": {},
   "outputs": [],
   "source": [
    "import os\n",
    "\n",
    "import tensorflow as tf\n",
    "\n",
    "from typing import List\n",
    "import numpy as np\n",
    "from PIL import Image\n",
    "import time\n",
    "import sys"
   ]
  },
  {
   "cell_type": "code",
   "execution_count": 3,
   "metadata": {},
   "outputs": [],
   "source": [
    "from sklearn.svm import SVC\n",
    "from sklearn.model_selection import GridSearchCV\n",
    "from sklearn.linear_model import SGDClassifier\n",
    "from sklearn.gaussian_process import GaussianProcessClassifier"
   ]
  },
  {
   "cell_type": "code",
   "execution_count": 4,
   "metadata": {},
   "outputs": [],
   "source": [
    "from collections import Counter\n",
    "from typing import List, Tuple"
   ]
  },
  {
   "cell_type": "code",
   "execution_count": 5,
   "metadata": {},
   "outputs": [],
   "source": [
    "from six import iteritems, string_types\n",
    "from matplotlib import pyplot as plt"
   ]
  },
  {
   "cell_type": "code",
   "execution_count": 6,
   "metadata": {},
   "outputs": [],
   "source": [
    "from __future__ import print_function\n",
    "from ipywidgets import interact, interactive, fixed, interact_manual\n",
    "import ipywidgets as widgets"
   ]
  },
  {
   "cell_type": "code",
   "execution_count": 7,
   "metadata": {},
   "outputs": [],
   "source": [
    "import pickle as pk"
   ]
  },
  {
   "cell_type": "code",
   "execution_count": 8,
   "metadata": {},
   "outputs": [],
   "source": [
    "FACE_PIC_SIZE = 160\n",
    "\n",
    "EMBEDDING_SIZE = 512\n",
    "\n",
    "PRETREINED_MODEL_DIR = os.path.join(os.getcwd(),'pretrained_models')\n",
    "\n",
    "UNKNOWN_CLASS = \"Mr Nobody\"\n",
    "\n",
    "CLUSTER = \"_embeddings.SVC\"\n",
    "\n",
    "CLASSIFIER = \"CLASSIFIER\"\n",
    "\n",
    "CLASSIFY_NAME = 'SVM.SVC'\n",
    "\n",
    "SGD_CLASSIFY = 'SGD.CLASS'\n",
    "\n",
    "GPC_CLASSIFY = 'GPC.CLASS'"
   ]
  },
  {
   "cell_type": "code",
   "execution_count": 9,
   "metadata": {},
   "outputs": [
    {
     "data": {
      "text/plain": [
       "'F:\\\\MLTUT\\\\pretrained_models'"
      ]
     },
     "execution_count": 9,
     "metadata": {},
     "output_type": "execute_result"
    }
   ],
   "source": [
    "PRETREINED_MODEL_DIR"
   ]
  },
  {
   "cell_type": "code",
   "execution_count": 10,
   "metadata": {},
   "outputs": [],
   "source": [
    "import cv2"
   ]
  },
  {
   "cell_type": "markdown",
   "metadata": {},
   "source": [
    "### Implementation of Layers"
   ]
  },
  {
   "cell_type": "code",
   "execution_count": 11,
   "metadata": {},
   "outputs": [],
   "source": [
    "padding = ['SAME','VALID']"
   ]
  },
  {
   "cell_type": "code",
   "execution_count": 12,
   "metadata": {},
   "outputs": [],
   "source": [
    "def load(data_path, session, ignore_missing=False):\n",
    "    \"\"\"Load network weights.\n",
    "    @data_path: The path to the numpy-serialized network weights\n",
    "    @session: The current TensorFlow session\n",
    "    @ignore_missing: If true, serialized weights for missing layers are ignored.\n",
    "    \"\"\"\n",
    "    data_dict = np.load(data_path, encoding='latin1').item()  # pylint: disable=no-member\n",
    "\n",
    "    for op_name in data_dict:\n",
    "        with tf.variable_scope(op_name, reuse=True):\n",
    "            for param_name, data in iteritems(data_dict[op_name]):\n",
    "                try:\n",
    "                    var = tf.get_variable(param_name)\n",
    "                    session.run(var.assign(data))\n",
    "                except ValueError:\n",
    "                    if not ignore_missing:\n",
    "                        raise"
   ]
  },
  {
   "cell_type": "code",
   "execution_count": 13,
   "metadata": {},
   "outputs": [],
   "source": [
    "def conv(inpt, k_h, k_w, c_o, s_h, s_w, name, relu=True, padding=padding[0], group=1, biased=True):\n",
    "    \"\"\"\n",
    "    @inpt: input data to convolve\n",
    "    @k_h: kernel height  \n",
    "    @k_w: kernel width\n",
    "    @c_o: number of filter\n",
    "    @s_h: strides weight\n",
    "    @s_w: strides height \n",
    "    @name: layer name\n",
    "    @relu: non linearity RELU\n",
    "    @padding: filter padding \n",
    "    \"\"\"\n",
    "# Get the number of channels in the input\n",
    "    c_i = int(inpt.get_shape()[-1])\n",
    "\n",
    "    # Convolution for a given input and kernel\n",
    "    with tf.variable_scope(name) as scope:\n",
    "        kernel = tf.get_variable('weights', shape=[k_h, k_w, c_i // group, c_o], trainable=True)\n",
    "        output = tf.nn.conv2d(inpt, kernel, [1, s_h, s_w, 1], padding=padding)\n",
    "        # Add the biases\n",
    "        if biased:\n",
    "            biases = tf.get_variable('biases', [c_o])\n",
    "            output = tf.nn.bias_add(output, biases)\n",
    "        if relu:\n",
    "            # ReLU non-linearity\n",
    "            output = tf.nn.relu(output, name=scope.name)\n",
    "        return output"
   ]
  },
  {
   "cell_type": "code",
   "execution_count": 14,
   "metadata": {},
   "outputs": [],
   "source": [
    "def prelu(inpt, name):\n",
    "    \"\"\"\n",
    "    @inpt: input from previous layer\n",
    "    @name: layer name\n",
    "    \"\"\"\n",
    "    with tf.variable_scope(name):\n",
    "        i = int(inpt.get_shape()[-1])\n",
    "        alpha = tf.get_variable('alpha', shape=(i,))\n",
    "        output = tf.nn.relu(inpt) + tf.multiply(alpha, -tf.nn.relu(-inpt))\n",
    "    return output"
   ]
  },
  {
   "cell_type": "code",
   "execution_count": 15,
   "metadata": {},
   "outputs": [],
   "source": [
    "def max_pool(inpt, k_h, k_w, s_h, s_w, name, padding=padding[0]):\n",
    "    \"\"\"\n",
    "    @inpt: input from previous layer\n",
    "    @k_h: kernel height\n",
    "    @k_w: kernel width\n",
    "    @s_h: stride height\n",
    "    @s_w: stride width\n",
    "    @name: layer name\n",
    "    @padding: Valid Padding ['SAME','VALID']\n",
    "    \"\"\"\n",
    "    return tf.nn.max_pool(inpt, ksize=[1, k_h, k_w, 1],strides=[1, s_h, s_w, 1], padding=padding, name=name)"
   ]
  },
  {
   "cell_type": "code",
   "execution_count": 16,
   "metadata": {},
   "outputs": [],
   "source": [
    "def fully_connected(inpt, num_out, name, relu=True):\n",
    "    \"\"\"\n",
    "    @inpt: input from previous layer\n",
    "    @num_out: output layer\n",
    "    \"\"\"\n",
    "    with tf.variable_scope(name):\n",
    "        input_shape = inpt.get_shape()\n",
    "        if input_shape.ndims == 4:\n",
    "            # since the input is spatial.we have to Vectorize it first.\n",
    "            dim = 1\n",
    "            for d in input_shape[1:].as_list():\n",
    "                dim *= int(d)\n",
    "            feed_in = tf.reshape(inpt, [-1, dim])\n",
    "        else:\n",
    "            feed_in, dim = (inpt, input_shape[-1].value)\n",
    "        weights = tf.get_variable('weights', shape=[dim, num_out])\n",
    "        biases = tf.get_variable('biases', [num_out])\n",
    "        op = tf.nn.relu_layer if relu else tf.nn.xw_plus_b\n",
    "        fc = op(feed_in, weights, biases, name=name)\n",
    "        return fc"
   ]
  },
  {
   "cell_type": "code",
   "execution_count": 17,
   "metadata": {},
   "outputs": [],
   "source": [
    "def softmax(target, axis, name=None):\n",
    "    \"\"\"\n",
    "    @target: target layer to apply softmax\n",
    "    @axis: axes to apply softmax\n",
    "    @name: layer name\n",
    "    \"\"\"\n",
    "    max_axis = tf.reduce_max(target, axis, keepdims=True)\n",
    "    target_exp = tf.exp(target - max_axis)\n",
    "    normalize = tf.reduce_sum(target_exp, axis, keepdims=True)\n",
    "    softmax = tf.div(target_exp, normalize, name)\n",
    "    return softmax"
   ]
  },
  {
   "cell_type": "markdown",
   "metadata": {},
   "source": [
    "## Implementation of MTCNN"
   ]
  },
  {
   "cell_type": "markdown",
   "metadata": {},
   "source": [
    "### P-Net ( Proposal - Network )"
   ]
  },
  {
   "cell_type": "code",
   "execution_count": 18,
   "metadata": {},
   "outputs": [],
   "source": [
    "def pNet(data):\n",
    "    value = conv(data, 3, 3, 10, 1, 1, padding='VALID', relu=False, name='conv1')\n",
    "    value = prelu(value, name='PReLU1')\n",
    "    value = max_pool(value, 2, 2, 2, 2, name='pool1')\n",
    "    value = conv(value ,3, 3, 16, 1, 1, padding='VALID', relu=False, name='conv2')\n",
    "    value = prelu(value ,name='PReLU2')\n",
    "    value = conv(value ,3, 3, 32, 1, 1, padding='VALID', relu=False, name='conv3')\n",
    "    value = prelu(value ,name='PReLU3')\n",
    "#     Face detection classfication probablity output\n",
    "    val_conv4_1 = conv(value ,1, 1, 2, 1, 1, relu=False, name='conv4-1')\n",
    "    classify = softmax(val_conv4_1 ,3, name='prob1')\n",
    "#     bounding box regression\n",
    "    bbr = conv(value ,1, 1, 4, 1, 1, relu=False, name='conv4-2')\n",
    "    \n",
    "    return(classify, bbr)"
   ]
  },
  {
   "cell_type": "markdown",
   "metadata": {},
   "source": [
    "### R-Net ( Refinement - Network )"
   ]
  },
  {
   "cell_type": "code",
   "execution_count": 19,
   "metadata": {},
   "outputs": [],
   "source": [
    "def rNet(data):\n",
    "    value = conv(data, 3, 3, 28, 1, 1, padding='VALID', relu=False, name='conv1')\n",
    "    value = prelu(value, name='prelu1')\n",
    "    value = max_pool(value, 3, 3, 2, 2, name='pool1')\n",
    "    value = conv(value, 3, 3, 48, 1, 1, padding='VALID', relu=False, name='conv2')\n",
    "    value = prelu(value, name='prelu2')\n",
    "    value = max_pool(value, 3, 3, 2, 2, padding='VALID', name='pool2')\n",
    "    value = conv(value, 2, 2, 64, 1, 1, padding='VALID', relu=False, name='conv3')\n",
    "    value = prelu(value, name='prelu3')\n",
    "    value = fully_connected(value, 128, relu=False, name='conv4')\n",
    "    value = prelu(value, name='prelu4')\n",
    "#     face detection classfication probablity output\n",
    "    conv5_1 = fully_connected(value, 2, relu=False, name='conv5-1')\n",
    "    classify = softmax(conv5_1, 1, name='prob1')\n",
    "#     bounding box regression\n",
    "    bbr = fully_connected(value,4, relu=False, name='conv5-2')\n",
    "    \n",
    "    return (classify, bbr)"
   ]
  },
  {
   "cell_type": "markdown",
   "metadata": {},
   "source": [
    "### O-Net ( Output - Network )  "
   ]
  },
  {
   "cell_type": "code",
   "execution_count": 20,
   "metadata": {},
   "outputs": [],
   "source": [
    "def oNet(data):\n",
    "    value = conv(data, 3, 3, 32, 1, 1, padding='VALID', relu=False, name='conv1')\n",
    "    value = prelu(value, name='prelu1')\n",
    "    value = max_pool(value ,3, 3, 2, 2, name='pool1')\n",
    "    value = conv(value, 3, 3, 64, 1, 1, padding='VALID', relu=False, name='conv2')\n",
    "    value = prelu(value, name='prelu2')\n",
    "    value = max_pool(value, 3, 3, 2, 2, padding='VALID', name='pool2')\n",
    "    value = conv(value, 3, 3, 64, 1, 1, padding='VALID', relu=False, name='conv3')\n",
    "    value = prelu(value, name='prelu3')\n",
    "    value = max_pool(value, 2, 2, 2, 2, name='pool3')\n",
    "    value = conv(value, 2, 2, 128, 1, 1, padding='VALID', relu=False, name='conv4')\n",
    "    value = prelu(value, name='prelu4')\n",
    "    value = fully_connected(value, 256, relu=False, name='conv5')\n",
    "    value = prelu(value, name='prelu5')\n",
    "#     face detection classification\n",
    "    conv6_1 = fully_connected(value, 2, relu=False, name='conv6-1')\n",
    "    classify = softmax(conv6_1, 1, name='prob1')\n",
    "#     bounding box regression\n",
    "    bbr = fully_connected(value, 4, relu=False, name='conv6-2')\n",
    "    \n",
    "#     face localization\n",
    "    floc = fully_connected(value, 10, relu=False, name='conv6-3')\n",
    "    \n",
    "    return (classify, bbr, floc)"
   ]
  },
  {
   "cell_type": "markdown",
   "metadata": {},
   "source": [
    "### Creating MTCNN Architecture"
   ]
  },
  {
   "cell_type": "code",
   "execution_count": 21,
   "metadata": {},
   "outputs": [],
   "source": [
    "def create_mtcnn(sess, model_path):\n",
    "    \"\"\"\n",
    "    Input @sess: Current session,\n",
    "    Input @model_path: path of weights of model to load,\n",
    "    \"\"\"\n",
    "#     Creating variable scope for Pnet\n",
    "    with tf.variable_scope('pnet'):\n",
    "        data = tf.placeholder(tf.float32, (None, None, None, 3), 'input')\n",
    "        pnet = pNet(data)\n",
    "        load(os.path.join(model_path, 'det1.npy'), sess)\n",
    "        \n",
    "#     Creating Variabel scope for Rnet\n",
    "    with tf.variable_scope('rnet'):\n",
    "        data = tf.placeholder(tf.float32, (None, 24, 24, 3), 'input')\n",
    "        rnet = rNet(data)\n",
    "        load(os.path.join(model_path, 'det2.npy'), sess)\n",
    "        \n",
    "#    Creating Variable scope for Onet\n",
    "    with tf.variable_scope('onet'):\n",
    "        data = tf.placeholder(tf.float32, (None, 48, 48, 3), 'input')\n",
    "        onet = oNet(data)\n",
    "        load(os.path.join(model_path, 'det3.npy'), sess)\n",
    "        \n",
    "#         Predicting facial features by cascading P-net, R-net and O-net\n",
    "    pnet_fun = lambda img: sess.run(('pnet/conv4-2/BiasAdd:0', 'pnet/prob1:0'), feed_dict={'pnet/input:0': img})\n",
    "    rnet_fun = lambda img: sess.run(('rnet/conv5-2/conv5-2:0', 'rnet/prob1:0'), feed_dict={'rnet/input:0': img})\n",
    "    onet_fun = lambda img: sess.run(('onet/conv6-2/conv6-2:0', 'onet/conv6-3/conv6-3:0', 'onet/prob1:0'), feed_dict={'onet/input:0': img})\n",
    "    \n",
    "    return pnet_fun, rnet_fun, onet_fun"
   ]
  },
  {
   "cell_type": "code",
   "execution_count": 22,
   "metadata": {},
   "outputs": [],
   "source": [
    "def _setup_mtcnn():\n",
    "    with tf.Graph().as_default():\n",
    "        sess = tf.Session()\n",
    "        with sess.as_default():\n",
    "            return create_mtcnn(sess, PRETREINED_MODEL_DIR)"
   ]
  },
  {
   "cell_type": "markdown",
   "metadata": {},
   "source": [
    "### Generating MTCNN Graph"
   ]
  },
  {
   "cell_type": "code",
   "execution_count": 23,
   "metadata": {},
   "outputs": [],
   "source": [
    "pnet, rnet, onet = _setup_mtcnn()"
   ]
  },
  {
   "cell_type": "markdown",
   "metadata": {},
   "source": [
    "### Image Preprocessing and Pyramid scaling Algorithm"
   ]
  },
  {
   "cell_type": "code",
   "execution_count": 24,
   "metadata": {},
   "outputs": [],
   "source": [
    "def detect_face(img, minsize, pnet, rnet, onet, threshold, factor):\n",
    "    \"\"\"Detects faces in an image, and returns bounding boxes and points for them.\n",
    "    img: input image\n",
    "    minsize: minimum faces' size\n",
    "    pnet, rnet, onet: proposal net, Refinement net, Output net\n",
    "    threshold: threshold=[th1, th2, th3], th1-3 are three steps's threshold\n",
    "    factor: the factor used to create a scaling pyramid of face sizes to detect in the image.\n",
    "    \"\"\"\n",
    "    factor_count = 0\n",
    "    total_boxes = np.empty((0, 9))\n",
    "    points = np.empty(0)\n",
    "    h = img.shape[0]\n",
    "    w = img.shape[1]\n",
    "    minl = np.amin([h, w])\n",
    "    m = 12.0 / minsize\n",
    "    minl = minl * m\n",
    "    # create scale pyramid\n",
    "    scales = []\n",
    "    while minl >= 12:\n",
    "        scales += [m * np.power(factor, factor_count)]\n",
    "        minl = minl * factor\n",
    "        factor_count += 1\n",
    "\n",
    "    # first stage\n",
    "    # Using P - Net to detect all probablistic faces and bounding boxes\n",
    "    for scale in scales:\n",
    "        hs = int(np.ceil(h * scale))\n",
    "        ws = int(np.ceil(w * scale))\n",
    "        im_data = imresample(img, (hs, ws))\n",
    "        im_data = (im_data - 127.5) * 0.0078125\n",
    "        img_x = np.expand_dims(im_data, 0)\n",
    "        img_y = np.transpose(img_x, (0, 2, 1, 3))\n",
    "        out = pnet(img_y)\n",
    "        \n",
    "        out0 = np.transpose(out[0], (0, 2, 1, 3))\n",
    "        out1 = np.transpose(out[1], (0, 2, 1, 3))\n",
    "\n",
    "        boxes, _ = generateBoundingBox(out1[0, :, :, 1].copy(), out0[0, :, :, :].copy(), scale, threshold[0])\n",
    "\n",
    "        # Applying  Non-Maximum supression to supresses overlapping bounding box areas\n",
    "        pick = nms(boxes.copy(), 0.5, 'Union')\n",
    "        if boxes.size > 0 and pick.size > 0:\n",
    "            boxes = boxes[pick, :]\n",
    "            total_boxes = np.append(total_boxes, boxes, axis=0)\n",
    "\n",
    "    numbox = total_boxes.shape[0]\n",
    "    if numbox > 0:\n",
    "        pick = nms(total_boxes.copy(), 0.7, 'Union')\n",
    "        total_boxes = total_boxes[pick, :]\n",
    "        regw = total_boxes[:, 2] - total_boxes[:, 0]\n",
    "        regh = total_boxes[:, 3] - total_boxes[:, 1]\n",
    "        qq1 = total_boxes[:, 0] + total_boxes[:, 5] * regw\n",
    "        qq2 = total_boxes[:, 1] + total_boxes[:, 6] * regh\n",
    "        qq3 = total_boxes[:, 2] + total_boxes[:, 7] * regw\n",
    "        qq4 = total_boxes[:, 3] + total_boxes[:, 8] * regh\n",
    "        total_boxes = np.transpose(np.vstack([qq1, qq2, qq3, qq4, total_boxes[:, 4]]))\n",
    "        total_boxes = rerec(total_boxes.copy())\n",
    "        total_boxes[:, 0:4] = np.fix(total_boxes[:, 0:4]).astype(np.int32)\n",
    "        dy, edy, dx, edx, y, ey, x, ex, tmpw, tmph = pad(total_boxes.copy(), w, h)\n",
    "\n",
    "    numbox = total_boxes.shape[0]\n",
    "    if numbox > 0:\n",
    "        # second stage\n",
    "        # Second stage of face detection \n",
    "        tempimg = np.zeros((24, 24, 3, numbox))\n",
    "        for k in range(0, numbox):\n",
    "            tmp = np.zeros((int(tmph[k]), int(tmpw[k]), 3))\n",
    "            tmp[dy[k] - 1:edy[k], dx[k] - 1:edx[k], :] = img[y[k] - 1:ey[k], x[k] - 1:ex[k], :]\n",
    "            if tmp.shape[0] > 0 and tmp.shape[1] > 0 or tmp.shape[0] == 0 and tmp.shape[1] == 0:\n",
    "                tempimg[:, :, :, k] = imresample(tmp, (24, 24))\n",
    "            else:\n",
    "                return np.empty()\n",
    "        tempimg = (tempimg - 127.5) * 0.0078125\n",
    "        tempimg1 = np.transpose(tempimg, (3, 1, 0, 2))\n",
    "        out = rnet(tempimg1)\n",
    "        out0 = np.transpose(out[0])\n",
    "        out1 = np.transpose(out[1])\n",
    "        score = out1[1, :]\n",
    "        ipass = np.where(score > threshold[1])\n",
    "        total_boxes = np.hstack([total_boxes[ipass[0], 0:4].copy(), np.expand_dims(score[ipass].copy(), 1)])\n",
    "        mv = out0[:, ipass[0]]\n",
    "        if total_boxes.shape[0] > 0:\n",
    "            pick = nms(total_boxes, 0.7, 'Union')\n",
    "            total_boxes = total_boxes[pick, :]\n",
    "            total_boxes = bbreg(total_boxes.copy(), np.transpose(mv[:, pick]))\n",
    "            total_boxes = rerec(total_boxes.copy())\n",
    "\n",
    "    numbox = total_boxes.shape[0]\n",
    "    if numbox > 0:\n",
    "        # third stage\n",
    "        total_boxes = np.fix(total_boxes).astype(np.int32)\n",
    "        dy, edy, dx, edx, y, ey, x, ex, tmpw, tmph = pad(total_boxes.copy(), w, h)\n",
    "        tempimg = np.zeros((48, 48, 3, numbox))\n",
    "        for k in range(0, numbox):\n",
    "            tmp = np.zeros((int(tmph[k]), int(tmpw[k]), 3))\n",
    "            tmp[dy[k] - 1:edy[k], dx[k] - 1:edx[k], :] = img[y[k] - 1:ey[k], x[k] - 1:ex[k], :]\n",
    "            if tmp.shape[0] > 0 and tmp.shape[1] > 0 or tmp.shape[0] == 0 and tmp.shape[1] == 0:\n",
    "                tempimg[:, :, :, k] = imresample(tmp, (48, 48))\n",
    "            else:\n",
    "                return np.empty()\n",
    "        tempimg = (tempimg - 127.5) * 0.0078125\n",
    "        tempimg1 = np.transpose(tempimg, (3, 1, 0, 2))\n",
    "        out = onet(tempimg1)\n",
    "        out0 = np.transpose(out[0])\n",
    "        out1 = np.transpose(out[1])\n",
    "        out2 = np.transpose(out[2])\n",
    "        score = out2[1, :]\n",
    "        points = out1\n",
    "        ipass = np.where(score > threshold[2])\n",
    "        points = points[:, ipass[0]]\n",
    "        total_boxes = np.hstack([total_boxes[ipass[0], 0:4].copy(), np.expand_dims(score[ipass].copy(), 1)])\n",
    "        mv = out0[:, ipass[0]]\n",
    "\n",
    "        w = total_boxes[:, 2] - total_boxes[:, 0] + 1\n",
    "        h = total_boxes[:, 3] - total_boxes[:, 1] + 1\n",
    "        points[0:5, :] = np.tile(w, (5, 1)) * points[0:5, :] + np.tile(total_boxes[:, 0], (5, 1)) - 1\n",
    "        points[5:10, :] = np.tile(h, (5, 1)) * points[5:10, :] + np.tile(total_boxes[:, 1], (5, 1)) - 1\n",
    "        if total_boxes.shape[0] > 0:\n",
    "            total_boxes = bbreg(total_boxes.copy(), np.transpose(mv))\n",
    "            pick = nms(total_boxes.copy(), 0.7, 'Min')\n",
    "            total_boxes = total_boxes[pick, :]\n",
    "            points = points[:, pick]\n",
    "\n",
    "    return total_boxes, points"
   ]
  },
  {
   "cell_type": "markdown",
   "metadata": {},
   "source": [
    "### Creating Bounding Box with coords given "
   ]
  },
  {
   "cell_type": "code",
   "execution_count": 25,
   "metadata": {},
   "outputs": [],
   "source": [
    "def generateBoundingBox(inp, reg, scale, t):\n",
    "    \"\"\"Use heatmap to generate bounding boxes\n",
    "    @inp: Bounding box regerssion ( Probablistic )\n",
    "    @scale: scale factor \n",
    "    @t: Threashold\n",
    "    \"\"\"\n",
    "    stride = 2\n",
    "    cellsize = 12\n",
    "\n",
    "    imap = np.transpose(inp)\n",
    "    dx1 = np.transpose(reg[:, :, 0])\n",
    "    dy1 = np.transpose(reg[:, :, 1])\n",
    "    dx2 = np.transpose(reg[:, :, 2])\n",
    "    dy2 = np.transpose(reg[:, :, 3])\n",
    "    y, x = np.where(imap >= t)\n",
    "    if y.shape[0] == 1:\n",
    "        dx1 = np.flipud(dx1)\n",
    "        dy1 = np.flipud(dy1)\n",
    "        dx2 = np.flipud(dx2)\n",
    "        dy2 = np.flipud(dy2)\n",
    "    score = imap[(y, x)]\n",
    "    reg = np.transpose(np.vstack([dx1[(y, x)], dy1[(y, x)], dx2[(y, x)], dy2[(y, x)]]))\n",
    "    if reg.size == 0:\n",
    "        reg = np.empty((0, 3))\n",
    "    bb = np.transpose(np.vstack([y, x]))\n",
    "    q1 = np.fix((stride * bb + 1) / scale)\n",
    "    q2 = np.fix((stride * bb + cellsize - 1 + 1) / scale)\n",
    "    boundingbox = np.hstack([q1, q2, np.expand_dims(score, 1), reg])\n",
    "    return boundingbox, reg"
   ]
  },
  {
   "cell_type": "markdown",
   "metadata": {},
   "source": [
    "### Correction of Bounding box "
   ]
  },
  {
   "cell_type": "code",
   "execution_count": 26,
   "metadata": {},
   "outputs": [],
   "source": [
    "def bbreg(boundingbox, reg):\n",
    "    \"\"\"Calibrate bounding boxes\"\"\"\n",
    "    if reg.shape[1] == 1:\n",
    "        reg = np.reshape(reg, (reg.shape[2], reg.shape[3]))\n",
    "\n",
    "    w = boundingbox[:, 2] - boundingbox[:, 0] + 1\n",
    "    h = boundingbox[:, 3] - boundingbox[:, 1] + 1\n",
    "    b1 = boundingbox[:, 0] + reg[:, 0] * w\n",
    "    b2 = boundingbox[:, 1] + reg[:, 1] * h\n",
    "    b3 = boundingbox[:, 2] + reg[:, 2] * w\n",
    "    b4 = boundingbox[:, 3] + reg[:, 3] * h\n",
    "    boundingbox[:, 0:4] = np.transpose(np.vstack([b1, b2, b3, b4]))\n",
    "    return boundingbox"
   ]
  },
  {
   "cell_type": "markdown",
   "metadata": {},
   "source": [
    "### Non Maximum supression Algorithem"
   ]
  },
  {
   "cell_type": "code",
   "execution_count": 27,
   "metadata": {},
   "outputs": [],
   "source": [
    "# Non - Maximum supression technique\n",
    "def nms(boxes, threshold, method):\n",
    "#     if no face detected\n",
    "    if boxes.size == 0:\n",
    "        return np.empty((0, 3))\n",
    "#     grab the coordinates of the bounding boxes\n",
    "    x1 = boxes[:, 0]\n",
    "    y1 = boxes[:, 1]\n",
    "    x2 = boxes[:, 2]\n",
    "    y2 = boxes[:, 3]\n",
    "    s = boxes[:, 4]\n",
    "#     initialize the list of picked indexes\n",
    "    pick = np.zeros_like(s, dtype=np.int16)\n",
    "#     compute the area of the bounding boxes and sort the bounding\n",
    "#     boxes by the bottom-right y-coordinate of the bounding box\n",
    "    area = (x2 - x1 + 1) * (y2 - y1 + 1)\n",
    "    I = np.argsort(s)\n",
    "    counter = 0\n",
    "#     keep looping while some indexes still remain in the indexes\n",
    "#     list\n",
    "    while I.size > 0:\n",
    "#         grab the last index in the indexes list, add the index\n",
    "#         value to the list of picked indexes, then initialize\n",
    "#         the suppression list (i.e. indexes that will be deleted)\n",
    "#         using the last index\n",
    "        i = I[-1]\n",
    "        pick[counter] = i\n",
    "        counter += 1\n",
    "        idx = I[0:-1]\n",
    "#         find the largest (x, y) coordinates for the start of\n",
    "#         the bounding box and the smallest (x, y) coordinates\n",
    "#         for the end of the bounding box\n",
    "        xx1 = np.maximum(x1[i], x1[idx])\n",
    "        yy1 = np.maximum(y1[i], y1[idx])\n",
    "        xx2 = np.minimum(x2[i], x2[idx])\n",
    "        yy2 = np.minimum(y2[i], y2[idx])\n",
    "#         compute the widht and height of bounding box\n",
    "        w = np.maximum(0.0, xx2 - xx1 + 1)\n",
    "        h = np.maximum(0.0, yy2 - yy1 + 1)\n",
    "#         compute the ratio of overlap between the computed\n",
    "#         bounding box and the bounding box in the area list\n",
    "        inter = w * h\n",
    "        if method is 'Min':\n",
    "            o = inter / np.minimum(area[i], area[idx])\n",
    "        else:\n",
    "            o = inter / (area[i] + area[idx] - inter)\n",
    "#         if there is sufficient overlap, suppress the\n",
    "#         current bounding box\n",
    "#             delete all indexes from the index list that are in the\n",
    "#             suppression list\n",
    "        I = I[np.where(o <= threshold)]\n",
    "#     return only the bounding boxes that were picked\n",
    "    pick = pick[0:counter]\n",
    "    return pick"
   ]
  },
  {
   "cell_type": "code",
   "execution_count": 28,
   "metadata": {},
   "outputs": [],
   "source": [
    "def pad(total_boxes, w, h):\n",
    "    \"\"\"\n",
    "    Compute the padding coordinates (pad the bounding boxes to square)\n",
    "    @total_boxes: detected boxes for face\n",
    "    @w: width of image\n",
    "    @h: height of image\n",
    "    \"\"\"\n",
    "    tmpw = (total_boxes[:, 2] - total_boxes[:, 0] + 1).astype(np.int32)\n",
    "    tmph = (total_boxes[:, 3] - total_boxes[:, 1] + 1).astype(np.int32)\n",
    "    numbox = total_boxes.shape[0]\n",
    "\n",
    "    dx = np.ones((numbox), dtype=np.int32)\n",
    "    dy = np.ones((numbox), dtype=np.int32)\n",
    "    edx = tmpw.copy().astype(np.int32)\n",
    "    edy = tmph.copy().astype(np.int32)\n",
    "\n",
    "    x = total_boxes[:, 0].copy().astype(np.int32)\n",
    "    y = total_boxes[:, 1].copy().astype(np.int32)\n",
    "    ex = total_boxes[:, 2].copy().astype(np.int32)\n",
    "    ey = total_boxes[:, 3].copy().astype(np.int32)\n",
    "\n",
    "    tmp = np.where(ex > w)\n",
    "    edx.flat[tmp] = np.expand_dims(-ex[tmp] + w + tmpw[tmp], 1)\n",
    "    ex[tmp] = w\n",
    "\n",
    "    tmp = np.where(ey > h)\n",
    "    edy.flat[tmp] = np.expand_dims(-ey[tmp] + h + tmph[tmp], 1)\n",
    "    ey[tmp] = h\n",
    "\n",
    "    tmp = np.where(x < 1)\n",
    "    dx.flat[tmp] = np.expand_dims(2 - x[tmp], 1)\n",
    "    x[tmp] = 1\n",
    "\n",
    "    tmp = np.where(y < 1)\n",
    "    dy.flat[tmp] = np.expand_dims(2 - y[tmp], 1)\n",
    "    y[tmp] = 1\n",
    "\n",
    "    return dy, edy, dx, edx, y, ey, x, ex, tmpw, tmph"
   ]
  },
  {
   "cell_type": "code",
   "execution_count": 29,
   "metadata": {},
   "outputs": [],
   "source": [
    "def rerec(bboxA):\n",
    "    \"\"\"Convert bounding box to square.\"\"\"\n",
    "    h = bboxA[:, 3] - bboxA[:, 1]\n",
    "    w = bboxA[:, 2] - bboxA[:, 0]\n",
    "    l = np.maximum(w, h)\n",
    "    bboxA[:, 0] = bboxA[:, 0] + w * 0.5 - l * 0.5\n",
    "    bboxA[:, 1] = bboxA[:, 1] + h * 0.5 - l * 0.5\n",
    "    bboxA[:, 2:4] = bboxA[:, 0:2] + np.transpose(np.tile(l, (2, 1)))\n",
    "    return bboxA\n",
    "\n",
    "\n",
    "def imresample(img, sz):\n",
    "    im_data = cv2.resize(img, (sz[1], sz[0]), interpolation=cv2.INTER_AREA)\n",
    "    return im_data"
   ]
  },
  {
   "cell_type": "markdown",
   "metadata": {},
   "source": [
    "### Class for face embeddings"
   ]
  },
  {
   "cell_type": "code",
   "execution_count": 30,
   "metadata": {},
   "outputs": [],
   "source": [
    "class Face:\n",
    "    # face bounding boxes\n",
    "    def __init__(self, x, y, w, h, confidence, img):\n",
    "        \"\"\"\n",
    "        @x: boundind box location x\n",
    "        @y: bounding box location y\n",
    "        @w: bounding box width\n",
    "        @h: bounding box height\n",
    "        @confidence: face detection confidence level\n",
    "        @img: array image\n",
    "        \"\"\"\n",
    "        self.img = img\n",
    "        self.x = x\n",
    "        self.y = y\n",
    "        self.w = w\n",
    "        self.h = h\n",
    "        self.confidence = confidence\n",
    "\n",
    "        self.predict_proba = None\n",
    "        self.predict_candidates = None\n",
    "        self.predict_candidates_proba = None\n",
    "\n",
    "    def data(self):\n",
    "        return { k:v for k, v in self.__dict__.items() if k != 'img'}"
   ]
  },
  {
   "cell_type": "markdown",
   "metadata": {},
   "source": [
    "### Image object to numpy array"
   ]
  },
  {
   "cell_type": "code",
   "execution_count": 31,
   "metadata": {},
   "outputs": [],
   "source": [
    "def img_to_np(image):\n",
    "    \"\"\" \n",
    "    Image to numpy array\n",
    "    \"\"\"\n",
    "    (im_width, im_height) = image.size\n",
    "    return np.array(image.getdata()).reshape((im_height, im_width, 3)).astype(np.uint8)"
   ]
  },
  {
   "cell_type": "markdown",
   "metadata": {},
   "source": [
    "### Face detection embeddings"
   ]
  },
  {
   "cell_type": "code",
   "execution_count": 32,
   "metadata": {},
   "outputs": [],
   "source": [
    "def get_faces(image, threshold=0.5, minsize=20):\n",
    "    \"\"\"\n",
    "    @image: video frame\n",
    "    @threshold: threshold to detect face\n",
    "    \"\"\"\n",
    "    img = img_to_np(image)\n",
    "    # face detection parameters\n",
    "    threshold = [0.6, 0.7, 0.7]  # three steps's threshold\n",
    "    factor = 0.709  # scale factor\n",
    "    faces = []\n",
    "\n",
    "    bounding_boxes, _ = detect_face(img, minsize, pnet, rnet, onet,\n",
    "                                                      threshold, factor)\n",
    "    for bb in bounding_boxes:\n",
    "        img = image.crop(bb[:4])\n",
    "        bb[2:4] -= bb[:2]\n",
    "        faces.append(Face(*bb, img))\n",
    "\n",
    "    return faces"
   ]
  },
  {
   "cell_type": "markdown",
   "metadata": {},
   "source": [
    "### Face Recognition"
   ]
  },
  {
   "cell_type": "markdown",
   "metadata": {},
   "source": [
    "#### Using Pre-trained Inception-V3 Network Model"
   ]
  },
  {
   "cell_type": "code",
   "execution_count": 33,
   "metadata": {},
   "outputs": [
    {
     "data": {
      "text/plain": [
       "'20180402-114759\\\\20180402-114759.pb'"
      ]
     },
     "execution_count": 33,
     "metadata": {},
     "output_type": "execute_result"
    }
   ],
   "source": [
    "MODEL_FILE_NAME = os.path.join('20180402-114759','20180402-114759.pb')\n",
    "MODEL_FILE_NAME"
   ]
  },
  {
   "cell_type": "markdown",
   "metadata": {},
   "source": [
    "#### Loading pre - trained model"
   ]
  },
  {
   "cell_type": "code",
   "execution_count": 34,
   "metadata": {},
   "outputs": [
    {
     "name": "stdout",
     "output_type": "stream",
     "text": [
      "Model filename: F:\\MLTUT\\pretrained_models\\20180402-114759\\20180402-114759.pb\n"
     ]
    }
   ],
   "source": [
    "sess = None\n",
    "def load_model(pb_file, input_map=None):\n",
    "    global sess\n",
    "    if sess is None:\n",
    "        sess = tf.Session()\n",
    "        print('Model filename: %s' % pb_file)\n",
    "        with tf.gfile.GFile(pb_file, 'rb') as f:\n",
    "            graph_def = tf.GraphDef()\n",
    "            graph_def.ParseFromString(f.read())\n",
    "            tf.import_graph_def(graph_def, input_map=input_map, name='')\n",
    "\n",
    "\n",
    "load_model(os.path.join(PRETREINED_MODEL_DIR, MODEL_FILE_NAME))"
   ]
  },
  {
   "cell_type": "code",
   "execution_count": 35,
   "metadata": {},
   "outputs": [],
   "source": [
    "# inception net requires this\n",
    "def prewhiten(x):\n",
    "    mean = np.mean(x)\n",
    "    std = np.std(x)\n",
    "    std_adj = np.maximum(std, 1.0 / np.sqrt(x.size))\n",
    "    y = np.multiply(np.subtract(x, mean), 1 / std_adj)\n",
    "    return y"
   ]
  },
  {
   "cell_type": "code",
   "execution_count": 36,
   "metadata": {},
   "outputs": [],
   "source": [
    "def embedding(face_np):\n",
    "    \"\"\"\n",
    "    @face_np: cropped image as input\n",
    "    @name: image name\n",
    "    \"\"\"\n",
    "    global sess\n",
    "#     input place holder and  embeddings \n",
    "    images_placeholder = tf.get_default_graph().get_tensor_by_name(\"input:0\")\n",
    "    embeddings = tf.get_default_graph().get_tensor_by_name(\"embeddings:0\")\n",
    "    phase_train_placeholder = tf.get_default_graph().get_tensor_by_name(\"phase_train:0\")\n",
    "    x = prewhiten(face_np)\n",
    "    feed_dict = {images_placeholder: [x], phase_train_placeholder: False}\n",
    "    result = sess.run(embeddings, feed_dict=feed_dict)[0]\n",
    "    return result\n",
    "\n",
    "def input_shape():\n",
    "    return _tf.get_default_graph().get_tensor_by_name(\"input:0\").get_shape()\n",
    "\n",
    "\n",
    "def embedding_size():\n",
    "    return _tf.get_default_graph().get_tensor_by_name(\"embeddings:0\").get_shape()[1]"
   ]
  },
  {
   "cell_type": "markdown",
   "metadata": {},
   "source": [
    "###  KNN classifier"
   ]
  },
  {
   "cell_type": "code",
   "execution_count": 37,
   "metadata": {},
   "outputs": [],
   "source": [
    "class KNN:\n",
    "    def __init__(self, K=4, dist_threshold=12):\n",
    "        \n",
    "#         current training data\n",
    "        self.X_train = None\n",
    "        self.y_train = None\n",
    "        self.idx_to_lbl = None\n",
    "        self.lbl_to_idx = None\n",
    "        self.y_train_idx = None\n",
    "\n",
    "#         important params for classification\n",
    "        self.dist_threshold_value = dist_threshold\n",
    "        self.K = K\n",
    "\n",
    "#         placeholders for input feed\n",
    "        self.xtr = tf.placeholder(tf.float32, [None, EMBEDDING_SIZE], name='X_train')\n",
    "        self.ytr = tf.placeholder(tf.float32, [None], name='y_train')\n",
    "        self.xte = tf.placeholder(tf.float32, [EMBEDDING_SIZE], name='x_test')\n",
    "        self.dist_threshold = tf.placeholder(tf.float32, shape=(), name=\"dist_threshold\")\n",
    "#         self.K  = tf.placeholder(tf.int32,shape=(),name=\"k_NN\")\n",
    "#         Building Model\n",
    "\n",
    "#         model\n",
    "        distance = tf.reduce_sum(tf.abs(tf.subtract(self.xtr, self.xte)), axis=1)\n",
    "        values, indices = tf.nn.top_k(tf.negative(distance), k=self.K, sorted=False, name=\"nn_topk\")\n",
    "        nn_dist = tf.negative(values)\n",
    "        self.valid_nn_num = tf.reduce_sum(tf.cast(nn_dist < self.dist_threshold, tf.float32))\n",
    "        nn = []\n",
    "        for i in range(0,self.K):\n",
    "            nn.append(self.ytr[indices[i]])  # taking the result indexes\n",
    "\n",
    "#         saving list in tensor variable \n",
    "        nearest_neighbors = nn\n",
    "#         this will return the unique neighbors the count will return the most common's index\n",
    "        self.y, idx, self.count = tf.unique_with_counts(nearest_neighbors)\n",
    "        self.pred = tf.slice(self.y, begin=[tf.argmax(self.count, 0)], size=tf.constant([1], dtype=tf.int64))[0]\n",
    "\n",
    "    def predict(self, X) -> List[Tuple[str, float, List[str], List[float]]]:\n",
    "        if self.X_train is None:\n",
    "#             lets mark all the faces MR NOBODY when there was no training data in model\n",
    "            return [(UNKNOWN_CLASS, None, None, None) for _ in range(X.shape[0])]\n",
    "\n",
    "        result = []\n",
    "        if self.X_train is not None and self.X_train.shape[0] > 0:\n",
    "            with tf.Session() as sess:\n",
    "                for i in range(X.shape[0]):\n",
    "                    _valid_nn_num, _pred, _lbl_idx, _counts = sess.run(\n",
    "                        [self.valid_nn_num, self.pred, self.y, self.count],\n",
    "                        feed_dict={\n",
    "                            self.xtr: self.X_train,\n",
    "                            self.ytr: self.y_train_idx,\n",
    "                            self.xte: X[i, :],\n",
    "                            self.dist_threshold: self.dist_threshold_value})\n",
    "                    \n",
    "\n",
    "                    if _valid_nn_num == self.K:\n",
    "                        s = _counts.sum()\n",
    "                        c_lbl = []\n",
    "                        c_prob = []\n",
    "                        prob = None\n",
    "                        for i, c in zip(_lbl_idx, _counts):\n",
    "                            c_lbl.append(self.idx_to_lbl[i])\n",
    "                            c_prob.append(float(c/s))\n",
    "                            if _pred == i:\n",
    "                                prob = float(c/s)\n",
    "\n",
    "                        result.append((\n",
    "                            self.idx_to_lbl[int(_pred)],\n",
    "                            float(prob),\n",
    "                            c_lbl,\n",
    "                            c_prob\n",
    "                        ))\n",
    "                    else:\n",
    "                        result.append((UNKNOWN_CLASS, None, None, None))\n",
    "\n",
    "        return result\n",
    "\n",
    "    def update_training(self, train_X, train_y):\n",
    "        self.X_train = np.array(train_X)\n",
    "        self.y_train = train_y\n",
    "        self.idx_to_lbl = dict(enumerate(set(train_y)))\n",
    "        self.lbl_to_idx = {v: k for k, v in self.idx_to_lbl.items()}\n",
    "        self.y_train_idx = [self.lbl_to_idx[l] for l in self.y_train]\n",
    "        self.k = len(model.idx_to_lbl)"
   ]
  },
  {
   "cell_type": "markdown",
   "metadata": {},
   "source": [
    "### SVM classifier"
   ]
  },
  {
   "cell_type": "markdown",
   "metadata": {},
   "source": [
    "### One vs One MultiClass Classfier"
   ]
  },
  {
   "cell_type": "code",
   "execution_count": 38,
   "metadata": {},
   "outputs": [],
   "source": [
    "def ClassifyTrainSVC():\n",
    "    embeds, names = load_embeddings_for_classfication()\n",
    "    \n",
    "    print(np.shape(embeds),len(names))\n",
    "    \n",
    "    name_unique = np.unique(names)\n",
    "    \n",
    "#     label Encoder\n",
    "    labels = []\n",
    "    for i in range(len(names)):\n",
    "            for j in range(len(name_unique)):\n",
    "                if names[i]==name_unique[j]:\n",
    "                    labels.append(j)\n",
    "                    \n",
    "#     Training classifier\n",
    "    print('Training classifier')\n",
    "    model = SVC(kernel='linear', probability=True)\n",
    "    model.fit(embeds, labels)\n",
    "    with open(CLASSIFY_NAME, 'wb') as outfile:\n",
    "        pk.dump((model,name_unique), outfile)\n",
    "        print('Saved classifier model to file \"%s\"' % CLASSIFY_NAME)"
   ]
  },
  {
   "cell_type": "code",
   "execution_count": 106,
   "metadata": {},
   "outputs": [
    {
     "name": "stdout",
     "output_type": "stream",
     "text": [
      "(73, 512) 73\n",
      "Training classifier\n",
      "Saved classifier model to file \"SVM.SVC\"\n"
     ]
    }
   ],
   "source": [
    "ClassifyTrainSVC()"
   ]
  },
  {
   "cell_type": "markdown",
   "metadata": {},
   "source": [
    "### SGD Classifier to recognize the faces"
   ]
  },
  {
   "cell_type": "markdown",
   "metadata": {},
   "source": [
    "### One vs Many Multiclass classifier"
   ]
  },
  {
   "cell_type": "code",
   "execution_count": 39,
   "metadata": {},
   "outputs": [],
   "source": [
    "# SGD Classifier\n",
    "def classifyTrainSGD():\n",
    "    embeds, names = load_embeddings_for_classfication()\n",
    "    \n",
    "    print(np.shape(embeds),len(names))\n",
    "    \n",
    "    name_unique = np.unique(names)\n",
    "    \n",
    "#     label Encoder\n",
    "    labels = []\n",
    "    for i in range(len(names)):\n",
    "            for j in range(len(name_unique)):\n",
    "                if names[i]==name_unique[j]:\n",
    "                    labels.append(j)\n",
    "                    \n",
    "#     Training classifier\n",
    "    print('Training classifier')\n",
    "    model = SGDClassifier(loss='log')\n",
    "    model.fit(embeds,labels)\n",
    "    with open(SGD_CLASSIFY, 'wb') as outfile:\n",
    "        pk.dump((model,name_unique), outfile)\n",
    "        print('Saved classifier model to file \"%s\"' % SGD_CLASSIFY)"
   ]
  },
  {
   "cell_type": "code",
   "execution_count": 126,
   "metadata": {},
   "outputs": [
    {
     "name": "stdout",
     "output_type": "stream",
     "text": [
      "(73, 512) 73\n",
      "Training classifier\n",
      "Saved classifier model to file \"SGD.CLASS\"\n"
     ]
    },
    {
     "name": "stderr",
     "output_type": "stream",
     "text": [
      "c:\\users\\welcome\\envs\\mltut\\lib\\site-packages\\sklearn\\linear_model\\stochastic_gradient.py:166: FutureWarning: max_iter and tol parameters have been added in SGDClassifier in 0.19. If both are left unset, they default to max_iter=5 and tol=None. If tol is not None, max_iter defaults to max_iter=1000. From 0.21, default max_iter will be 1000, and default tol will be 1e-3.\n",
      "  FutureWarning)\n"
     ]
    }
   ],
   "source": [
    "classifyTrainSGD()"
   ]
  },
  {
   "cell_type": "markdown",
   "metadata": {},
   "source": [
    "### Gaussian Process Classifier"
   ]
  },
  {
   "cell_type": "code",
   "execution_count": 40,
   "metadata": {},
   "outputs": [],
   "source": [
    "def classifyTrainGPC():\n",
    "    embeds, names = load_embeddings_for_classfication()\n",
    "    \n",
    "    print(np.shape(embeds),len(names))\n",
    "    \n",
    "    name_unique = np.unique(names)\n",
    "    \n",
    "#     label Encoder\n",
    "    labels = []\n",
    "    for i in range(len(names)):\n",
    "            for j in range(len(name_unique)):\n",
    "                if names[i]==name_unique[j]:\n",
    "                    labels.append(j)\n",
    "                    \n",
    "#     Training classifier\n",
    "    print('Training classifier')\n",
    "    model = GaussianProcessClassifier()\n",
    "    model.fit(embeds,labels)\n",
    "    with open(GPC_CLASSIFY, 'wb') as outfile:\n",
    "        pk.dump((model,name_unique), outfile)\n",
    "        print('Saved classifier model to file \"%s\"' % GPC_CLASSIFY)"
   ]
  },
  {
   "cell_type": "code",
   "execution_count": 128,
   "metadata": {},
   "outputs": [
    {
     "name": "stdout",
     "output_type": "stream",
     "text": [
      "(73, 512) 73\n",
      "Training classifier\n",
      "Saved classifier model to file \"GPC.CLASS\"\n"
     ]
    }
   ],
   "source": [
    "classifyTrainGPC()"
   ]
  },
  {
   "cell_type": "markdown",
   "metadata": {},
   "source": [
    "### Classifier Initialization"
   ]
  },
  {
   "cell_type": "code",
   "execution_count": 41,
   "metadata": {},
   "outputs": [],
   "source": [
    "def KNN_init():\n",
    "    global X, y, model\n",
    "    X = []\n",
    "    y = []\n",
    "    model = KNN()\n",
    "    \n",
    "KNN_init()"
   ]
  },
  {
   "cell_type": "code",
   "execution_count": 42,
   "metadata": {},
   "outputs": [],
   "source": [
    "def add(new_X, new_y):\n",
    "    global X, y, model\n",
    "    X.extend(new_X)\n",
    "    y.extend(new_y)\n",
    "    model.update_training(X, y)\n",
    "\n",
    "def predict_KNN(X):\n",
    "    global model\n",
    "    return model.predict(X)\n",
    "\n",
    "def training_data_info():\n",
    "    global y\n",
    "    return Counter(y)"
   ]
  },
  {
   "cell_type": "code",
   "execution_count": 43,
   "metadata": {},
   "outputs": [],
   "source": [
    "def recognize(faces) -> List[Face]:\n",
    "    X = np.zeros((len(faces), EMBEDDING_SIZE), np.float32)\n",
    "    for i, f in enumerate(faces):\n",
    "        img = f.img.resize((FACE_PIC_SIZE, FACE_PIC_SIZE), Image.BICUBIC) if f.img.size != (FACE_PIC_SIZE, FACE_PIC_SIZE) else f.img\n",
    "\n",
    "        X[i, :] = embedding(img_to_np(img))\n",
    "\n",
    "    result = predict_KNN(X)\n",
    "    for f, r in zip(faces, result):\n",
    "        n, prob, c_list, c_prob = r\n",
    "        f.name = n\n",
    "        f.predict_proba = prob\n",
    "        f.predict_candidates = c_list\n",
    "        f.predict_candidates_proba = c_prob\n",
    "\n",
    "    return faces"
   ]
  },
  {
   "cell_type": "code",
   "execution_count": 44,
   "metadata": {},
   "outputs": [],
   "source": [
    "# two modes of input images\n",
    "# one images sprite modes and other images list mode\n",
    "# @name, @images_list, @num, @size\n",
    "def train_classifier(name, faces, num = None, size = None):\n",
    "    \n",
    "    if type(faces) != list:\n",
    "        if num == None or size == None:\n",
    "            raise RuntimeError('Empty @num and @Size parameter !')\n",
    "        \n",
    "    print(\"Adding new training data for: \", name, \"...\")\n",
    "\n",
    "#     # update classifier\n",
    "#     faces = []\n",
    "#     for i in range(int(num)):\n",
    "#         faces.append(image_sprite.crop((\n",
    "#             size * i,\n",
    "#             0,\n",
    "#             size * (i + 1),\n",
    "#             size\n",
    "#         )))\n",
    "    num = len(faces)\n",
    "    # do embedding for all faces\n",
    "    X = np.zeros((num, EMBEDDING_SIZE), np.float32)\n",
    "    for i, f in enumerate(faces):\n",
    "        X[i, :] = embedding(img_to_np(f))\n",
    "\n",
    "    # all example cames from single person\n",
    "    y = [name] * num\n",
    "    \n",
    "    save_embedding(X,name)\n",
    "    # do the actual update\n",
    "    add(X, y)\n",
    "\n",
    "    return training_data_info()"
   ]
  },
  {
   "cell_type": "markdown",
   "metadata": {},
   "source": [
    "### Create embeddings from photos"
   ]
  },
  {
   "cell_type": "code",
   "execution_count": 45,
   "metadata": {},
   "outputs": [],
   "source": [
    "def create_embeddings_from_dataset():\n",
    "    for filedir in os.listdir(os.path.join(os.getcwd(),'dataset')):\n",
    "        img = []\n",
    "#         loop over list of faces to create embeddings\n",
    "        for filename in os.listdir(os.path.join(os.getcwd(),'dataset',filedir)):\n",
    "            temp = Image.open(os.path.join(os.getcwd(),'dataset',filedir,filename))\n",
    "            face = get_faces(temp)[0]\n",
    "            temp = temp.crop((face.x,face.y,face.x+face.w,face.y+face.h))\n",
    "            temp = temp.resize((160,160))\n",
    "            img.append(temp)\n",
    "            \n",
    "        num = len(img)\n",
    "        X = np.zeros((num, EMBEDDING_SIZE), np.float32)\n",
    "        for i, f in enumerate(img):\n",
    "            X[i, :] = embedding(img_to_np(f))\n",
    "            \n",
    "        save_embedding(X,filedir)"
   ]
  },
  {
   "cell_type": "markdown",
   "metadata": {},
   "source": [
    "### Save Embeddings during training of each image and providing user's name as embeddings filename"
   ]
  },
  {
   "cell_type": "code",
   "execution_count": 46,
   "metadata": {},
   "outputs": [],
   "source": [
    "def save_embedding(result,name):\n",
    "    result = result\n",
    "    if name+'_'+CLUSTER in os.listdir(os.path.join(os.getcwd(),'embeddings')):\n",
    "        with open(os.path.join(os.getcwd(),'embeddings',name+'_'+CLUSTER),mode='rb') as fp:\n",
    "            result =  np.concatenate((result,pk.load(fp)))\n",
    "            print('saved embeddings of ',name,' ....')\n",
    "        \n",
    "    with open(os.path.join(os.getcwd(),'embeddings',name+'_'+CLUSTER),mode='wb') as fp:\n",
    "        pk.dump(result,fp)"
   ]
  },
  {
   "cell_type": "markdown",
   "metadata": {},
   "source": [
    "### Always import Embeddings with this method At the start of the Application \n",
    "### Load Embeddings  to current model and update classifier with in an instant"
   ]
  },
  {
   "cell_type": "code",
   "execution_count": 47,
   "metadata": {},
   "outputs": [],
   "source": [
    "def load_embeddings_for_classfication() -> ('embeddings','labels'):\n",
    "    X = []\n",
    "    Y = []\n",
    "    for filename  in os.listdir(os.path.join(os.getcwd(),'embeddings')):\n",
    "        name = filename.split('_')[0]\n",
    "        with open(os.path.join(os.getcwd(),'embeddings',filename),mode='rb') as fp:\n",
    "            x = pk.load(fp)\n",
    "            for emb in x:\n",
    "                X.append(emb)\n",
    "                Y.append(name)\n",
    "    \n",
    "    return X, Y"
   ]
  },
  {
   "cell_type": "code",
   "execution_count": 48,
   "metadata": {},
   "outputs": [],
   "source": [
    "def load_embeddings_for_KNN():\n",
    "    for filename  in os.listdir(os.path.join(os.getcwd(),'embeddings')):\n",
    "        name = filename.split('_')[0]\n",
    "        with open(os.path.join(os.getcwd(),'embeddings',filename),mode='rb') as fp:\n",
    "            X = pk.load(fp)\n",
    "            y = [name] * len(X)\n",
    "            add(X,y)\n",
    "            print(training_data_info())"
   ]
  },
  {
   "cell_type": "markdown",
   "metadata": {},
   "source": [
    "### Training the classifier"
   ]
  },
  {
   "cell_type": "code",
   "execution_count": 49,
   "metadata": {},
   "outputs": [],
   "source": [
    "# create_embeddings_from_dataset()"
   ]
  },
  {
   "cell_type": "code",
   "execution_count": 50,
   "metadata": {},
   "outputs": [],
   "source": [
    "# ClassifyTrainSVC()"
   ]
  },
  {
   "cell_type": "markdown",
   "metadata": {},
   "source": [
    "### DEMO"
   ]
  },
  {
   "cell_type": "markdown",
   "metadata": {},
   "source": [
    "### Face Recognition "
   ]
  },
  {
   "cell_type": "markdown",
   "metadata": {},
   "source": [
    "### Face Recognition using KNN Classifier"
   ]
  },
  {
   "cell_type": "code",
   "execution_count": 51,
   "metadata": {},
   "outputs": [],
   "source": [
    "user_name = 'Aaditya'"
   ]
  },
  {
   "cell_type": "code",
   "execution_count": 118,
   "metadata": {
    "scrolled": false
   },
   "outputs": [
    {
     "name": "stdout",
     "output_type": "stream",
     "text": [
      "Escape hit, closing...\n"
     ]
    }
   ],
   "source": [
    "capture = cv2.VideoCapture(0)\n",
    "cv2.namedWindow(\"test\")\n",
    "# cv2.namedWindow(\"test\")\n",
    "images = []\n",
    "try:\n",
    "    while (capture.isOpened()):\n",
    "        ret, img = capture.read()\n",
    "        img = cv2.flip(img, 1)\n",
    "        if img is None:\n",
    "            continue\n",
    "\n",
    "        k = cv2.waitKey(1)\n",
    "\n",
    "        if k%256 == 27:\n",
    "#             ESC pressed\n",
    "            print(\"Escape hit, closing...\")\n",
    "            break\n",
    "            \n",
    "#             T keyword pressed\n",
    "        if k == ord('t'):\n",
    "            print(train_classifier(user_name, images))\n",
    "\n",
    "#             space pressed\n",
    "        if k%256 == 32:\n",
    "            plt.figure()\n",
    "            plt.subplot()\n",
    "            image  = Image.fromarray(cv2.cvtColor(img,cv2.COLOR_BGR2RGB))\n",
    "            face = get_faces(image)[0]\n",
    "            coords = (face.x,face.y,face.x+face.w,face.y+face.h)\n",
    "            image = image.crop(coords)\n",
    "            plt.imshow(image)\n",
    "            plt.show()\n",
    "#             very very important resize to 160 by 160 before feeding it to network\n",
    "            image = image.resize((160,160))\n",
    "            print(image.size)\n",
    "            images.append(image)\n",
    "            print(len(images))\n",
    "            \n",
    "#         Initialize video writing\n",
    "        t1 = time.time()\n",
    "#         faces = get_faces(Image.fromarray(cv2.cvtColor(img,cv2.COLOR_BGR2RGB)))\n",
    "        faces = recognize(get_faces(Image.fromarray(cv2.cvtColor(img,cv2.COLOR_BGR2RGB))))\n",
    "\n",
    "        for face in faces:\n",
    "            cv2.rectangle(img, (int(face.x), int(face.y)), (int(face.x+face.w), int(face.y+face.h)), (0,155,255), 2)\n",
    "            cv2.putText(img, face.name, (int(face.x), int(face.y)),cv2.FONT_HERSHEY_SIMPLEX,0.6,(255, 255, 255))\n",
    "#             print(face.data())\n",
    "        cv2.imshow('face',img)\n",
    "except Exception as  err:\n",
    "    print(err.with_traceback())\n",
    "    print('This is Error Occur !')\n",
    "finally:\n",
    "    images = []\n",
    "    capture.release()\n",
    "    cv2.destroyAllWindows()"
   ]
  },
  {
   "cell_type": "markdown",
   "metadata": {},
   "source": [
    "### Face Recognition Using SVC classifier"
   ]
  },
  {
   "cell_type": "code",
   "execution_count": 55,
   "metadata": {},
   "outputs": [
    {
     "name": "stdout",
     "output_type": "stream",
     "text": [
      " Best class Probablity is  [0.61237719]\n",
      "['Aaditya']\n",
      " Best class Probablity is  [0.82667868]\n",
      "['Aaditya']\n",
      " Best class Probablity is  [0.39559489]\n",
      "['Aaditya']\n",
      " Best class Probablity is  [0.85953613]\n",
      "['Aaditya']\n",
      " Best class Probablity is  [0.4583189]\n",
      "['Aaditya']\n",
      " Best class Probablity is  [0.40060792]\n",
      "['Sushil Ghimire']\n",
      " Best class Probablity is  [0.85709136]\n",
      "['Aaditya']\n",
      " Best class Probablity is  [0.30816866]\n",
      "['Aaditya']\n",
      " Best class Probablity is  [0.82089749]\n",
      "['Aaditya']\n",
      " Best class Probablity is  [0.308935]\n",
      "['Anish Pandey']\n",
      " Best class Probablity is  [0.80310458]\n",
      "['Aaditya']\n",
      " Best class Probablity is  [0.3531176]\n",
      "['Sushil Ghimire']\n",
      " Best class Probablity is  [0.93669745]\n",
      "['Aaditya']\n",
      " Best class Probablity is  [0.46438793]\n",
      "['Sushil Ghimire']\n",
      " Best class Probablity is  [0.85364502]\n",
      "['Aaditya']\n",
      " Best class Probablity is  [0.38405159]\n",
      "['Sushil Ghimire']\n",
      " Best class Probablity is  [0.81538282]\n",
      "['Aaditya']\n",
      " Best class Probablity is  [0.4900743]\n",
      "['Sushil Ghimire']\n",
      " Best class Probablity is  [0.83402962]\n",
      "['Aaditya']\n",
      " Best class Probablity is  [0.43563448]\n",
      "['Sushil Ghimire']\n",
      " Best class Probablity is  [0.8303402]\n",
      "['Aaditya']\n",
      " Best class Probablity is  [0.8775852]\n",
      "['Aaditya']\n",
      " Best class Probablity is  [0.43514823]\n",
      "['Sushil Ghimire']\n",
      " Best class Probablity is  [0.6441382]\n",
      "['Sushil Ghimire']\n",
      " Best class Probablity is  [0.91308062]\n",
      "['Aaditya']\n",
      " Best class Probablity is  [0.58470517]\n",
      "['Sushil Ghimire']\n",
      " Best class Probablity is  [0.91828275]\n",
      "['Aaditya']\n",
      " Best class Probablity is  [0.41431602]\n",
      "['Sushil Ghimire']\n",
      " Best class Probablity is  [0.91069277]\n",
      "['Aaditya']\n",
      " Best class Probablity is  [0.6740687]\n",
      "['Sushil Ghimire']\n",
      " Best class Probablity is  [0.89085257]\n",
      "['Aaditya']\n",
      " Best class Probablity is  [0.81404186]\n",
      "['Aaditya']\n",
      " Best class Probablity is  [0.59450701]\n",
      "['Sushil Ghimire']\n",
      "Escape hit, closing...\n"
     ]
    }
   ],
   "source": [
    "capture = cv2.VideoCapture(0)\n",
    "cv2.namedWindow(\"test\")\n",
    "with open(CLASSIFY_NAME, 'rb') as infile:\n",
    "    (classifymodel, class_names) = pk.load(infile)\n",
    "try:\n",
    "    while (capture.isOpened()):\n",
    "        t1 = cv2.getTickCount()\n",
    "        ret, img = capture.read()\n",
    "#         img = cv2.flip(img, 1)\n",
    "\n",
    "        if img is None:\n",
    "            continue\n",
    "\n",
    "        k = cv2.waitKey(1)\n",
    "\n",
    "        if k%256 == 27:\n",
    "#             ESC pressed\n",
    "            print(\"Escape hit, closing...\")\n",
    "            break\n",
    "        \n",
    "#         faces = get_faces(Image.fromarray(cv2.cvtColor(img,cv2.COLOR_BGR2RGB)))\n",
    "        faces = get_faces(Image.fromarray(cv2.cvtColor(img,cv2.COLOR_BGR2RGB)))\n",
    "        t2 = cv2.getTickCount()\n",
    "        t = (t2 - t1) / cv2.getTickFrequency()\n",
    "        fps = 1.0 / t\n",
    "        cv2.putText(img, '{:.4f}'.format(t) + \" \" + '{:.3f}'.format(fps), (10, 20), cv2.FONT_HERSHEY_SIMPLEX, 0.5,\n",
    "                    (255, 0, 255), 2)\n",
    "        \n",
    "        for face in faces:\n",
    "            tmp = Image.fromarray(cv2.cvtColor(img,cv2.COLOR_BGR2RGB))\n",
    "            tmp = tmp.crop((face.x,face.y,face.x+face.w,face.y+face.h)).resize((160,160))\n",
    "            \n",
    "            embvector = embedding(img_to_np(tmp))\n",
    "            embvector = embvector.reshape(1, -1)\n",
    "            predictions = classifymodel.predict_proba(embvector)\n",
    "            best_class_indices = np.argmax(predictions, axis=1)\n",
    "            tmp_lable=class_names[best_class_indices]\n",
    "            best_class_probabilities = predictions[np.arange(len(best_class_indices)), best_class_indices]\n",
    "            print(' Best class Probablity is ',best_class_probabilities)\n",
    "            print(tmp_lable)\n",
    "            if best_class_probabilities <= 0.48:\n",
    "                tmp_lable=[\"others\"]\n",
    "            cv2.rectangle(img, (int(face.x), int(face.y)), (int(face.x+face.w), int(face.y+face.h)), (0,155,255), 2)\n",
    "            cv2.putText(img, tmp_lable[0], (int(face.x), int(face.y)), cv2.FONT_HERSHEY_SIMPLEX, 0.5, (255, 0, 255), 2)\n",
    "# #             print(face.data())\n",
    "        cv2.imshow('face',img)\n",
    "except Exception as  err:\n",
    "    print(err.with_traceback())\n",
    "    print('This is Error Occur !')\n",
    "finally:\n",
    "    images = []\n",
    "    capture.release()\n",
    "    cv2.destroyAllWindows()"
   ]
  },
  {
   "cell_type": "markdown",
   "metadata": {},
   "source": [
    "### Face Recognization using SGD Classifier"
   ]
  },
  {
   "cell_type": "code",
   "execution_count": 54,
   "metadata": {},
   "outputs": [
    {
     "name": "stdout",
     "output_type": "stream",
     "text": [
      " Best class Probablity is  [0.97667885]\n",
      "['Aaditya']\n",
      " Best class Probablity is  [0.63452779]\n",
      "['Sushil Ghimire']\n",
      " Best class Probablity is  [0.49220581]\n",
      "['Sushil Ghimire']\n",
      " Best class Probablity is  [0.99363053]\n",
      "['Aaditya']\n",
      " Best class Probablity is  [0.58129921]\n",
      "['Sushil Ghimire']\n",
      " Best class Probablity is  [0.99083922]\n",
      "['Aaditya']\n",
      " Best class Probablity is  [0.54758852]\n",
      "['Binayak Pokhrel']\n",
      " Best class Probablity is  [0.92876969]\n",
      "['Sushil Ghimire']\n",
      " Best class Probablity is  [0.99656722]\n",
      "['Aaditya']\n",
      " Best class Probablity is  [0.99839663]\n",
      "['Aaditya']\n",
      " Best class Probablity is  [0.78890151]\n",
      "['Sushil Ghimire']\n",
      " Best class Probablity is  [0.97197462]\n",
      "['Sushil Ghimire']\n",
      " Best class Probablity is  [0.99635767]\n",
      "['Aaditya']\n",
      " Best class Probablity is  [0.86653004]\n",
      "['Sushil Ghimire']\n",
      " Best class Probablity is  [0.99299073]\n",
      "['Aaditya']\n",
      " Best class Probablity is  [0.90473027]\n",
      "['Sushil Ghimire']\n",
      " Best class Probablity is  [0.99233081]\n",
      "['Aaditya']\n",
      " Best class Probablity is  [0.88327608]\n",
      "['Sushil Ghimire']\n",
      " Best class Probablity is  [0.98786362]\n",
      "['Aaditya']\n",
      " Best class Probablity is  [0.56992388]\n",
      "['Aaditya']\n",
      " Best class Probablity is  [0.99306325]\n",
      "['Aaditya']\n",
      " Best class Probablity is  [0.86241656]\n",
      "['Sushil Ghimire']\n",
      " Best class Probablity is  [0.99595284]\n",
      "['Aaditya']\n",
      " Best class Probablity is  [0.79437442]\n",
      "['Aaditya']\n",
      " Best class Probablity is  [0.99198794]\n",
      "['Aaditya']\n",
      " Best class Probablity is  [0.94825826]\n",
      "['Aaditya']\n",
      " Best class Probablity is  [0.99769833]\n",
      "['Aaditya']\n",
      " Best class Probablity is  [0.97588219]\n",
      "['Aaditya']\n",
      " Best class Probablity is  [0.99227751]\n",
      "['Aaditya']\n",
      " Best class Probablity is  [0.8528241]\n",
      "['Aaditya']\n",
      " Best class Probablity is  [0.99873133]\n",
      "['Aaditya']\n",
      " Best class Probablity is  [0.74596807]\n",
      "['Aaditya']\n",
      " Best class Probablity is  [0.98924062]\n",
      "['Aaditya']\n",
      " Best class Probablity is  [0.66476451]\n",
      "['Sushil Ghimire']\n",
      " Best class Probablity is  [0.99340384]\n",
      "['Aaditya']\n",
      " Best class Probablity is  [0.86609687]\n",
      "['Sushil Ghimire']\n",
      " Best class Probablity is  [0.99130658]\n",
      "['Aaditya']\n",
      "Escape hit, closing...\n"
     ]
    }
   ],
   "source": [
    "capture = cv2.VideoCapture(0)\n",
    "cv2.namedWindow(\"test\")\n",
    "with open(SGD_CLASSIFY, 'rb') as infile:\n",
    "    (classifymodel, class_names) = pk.load(infile)\n",
    "try:\n",
    "    while (capture.isOpened()):\n",
    "        t1 = cv2.getTickCount()\n",
    "        ret, img = capture.read()\n",
    "#         img = cv2.flip(img, 1)\n",
    "\n",
    "        if img is None:\n",
    "            continue\n",
    "\n",
    "        k = cv2.waitKey(1)\n",
    "\n",
    "        if k%256 == 27:\n",
    "#             ESC pressed\n",
    "            print(\"Escape hit, closing...\")\n",
    "            break\n",
    "        \n",
    "#         faces = get_faces(Image.fromarray(cv2.cvtColor(img,cv2.COLOR_BGR2RGB)))\n",
    "        faces = get_faces(Image.fromarray(cv2.cvtColor(img,cv2.COLOR_BGR2RGB)))\n",
    "        t2 = cv2.getTickCount()\n",
    "        t = (t2 - t1) / cv2.getTickFrequency()\n",
    "        fps = 1.0 / t\n",
    "        cv2.putText(img, '{:.4f}'.format(t) + \" \" + '{:.3f}'.format(fps), (10, 20), cv2.FONT_HERSHEY_SIMPLEX, 0.5,\n",
    "                    (255, 0, 255), 2)\n",
    "        \n",
    "        for face in faces:\n",
    "            tmp = Image.fromarray(cv2.cvtColor(img,cv2.COLOR_BGR2RGB))\n",
    "            tmp = tmp.crop((face.x,face.y,face.x+face.w,face.y+face.h)).resize((160,160))\n",
    "            \n",
    "            embvector = embedding(img_to_np(tmp))\n",
    "            embvector = embvector.reshape(1, -1)\n",
    "            predictions = classifymodel.predict_proba(embvector)\n",
    "            best_class_indices = np.argmax(predictions, axis=1)\n",
    "            tmp_lable=class_names[best_class_indices]\n",
    "            best_class_probabilities = predictions[np.arange(len(best_class_indices)), best_class_indices]\n",
    "            print(' Best class Probablity is ',best_class_probabilities)\n",
    "            print(tmp_lable)\n",
    "            if best_class_probabilities <= 0.64:\n",
    "                tmp_lable=[\"others\"]\n",
    "            cv2.rectangle(img, (int(face.x), int(face.y)), (int(face.x+face.w), int(face.y+face.h)), (0,155,255), 2)\n",
    "            cv2.putText(img, tmp_lable[0], (int(face.x), int(face.y)), cv2.FONT_HERSHEY_SIMPLEX, 0.5, (255, 0, 255), 2)\n",
    "# #             print(face.data())\n",
    "        cv2.imshow('face',img)\n",
    "except Exception as  err:\n",
    "    print(err.with_traceback())\n",
    "    print('This is Error Occur !')\n",
    "finally:\n",
    "    images = []\n",
    "    capture.release()\n",
    "    cv2.destroyAllWindows()"
   ]
  },
  {
   "cell_type": "markdown",
   "metadata": {},
   "source": [
    "### Using Gaussian Process Classifier to Recognize the face"
   ]
  },
  {
   "cell_type": "code",
   "execution_count": 129,
   "metadata": {},
   "outputs": [
    {
     "name": "stdout",
     "output_type": "stream",
     "text": [
      " Best class Probablity is  [0.38299257]\n",
      "['Aaditya']\n",
      " Best class Probablity is  [0.41163701]\n",
      "['Aaditya']\n",
      " Best class Probablity is  [0.40375815]\n",
      "['Aaditya']\n",
      " Best class Probablity is  [0.44750957]\n",
      "['Aaditya']\n",
      " Best class Probablity is  [0.39236045]\n",
      "['Aaditya']\n",
      " Best class Probablity is  [0.43087029]\n",
      "['Aaditya']\n",
      " Best class Probablity is  [0.41894459]\n",
      "['Aaditya']\n",
      " Best class Probablity is  [0.42886319]\n",
      "['Aaditya']\n",
      " Best class Probablity is  [0.45125197]\n",
      "['Aaditya']\n",
      " Best class Probablity is  [0.39816631]\n",
      "['Aaditya']\n",
      " Best class Probablity is  [0.41657634]\n",
      "['Aaditya']\n",
      " Best class Probablity is  [0.38101654]\n",
      "['Aaditya']\n",
      " Best class Probablity is  [0.38951996]\n",
      "['Aaditya']\n",
      " Best class Probablity is  [0.37868221]\n",
      "['Aaditya']\n",
      " Best class Probablity is  [0.40442276]\n",
      "['Aaditya']\n",
      " Best class Probablity is  [0.41010198]\n",
      "['Aaditya']\n",
      " Best class Probablity is  [0.43340646]\n",
      "['Aaditya']\n",
      " Best class Probablity is  [0.36173433]\n",
      "['Aaditya']\n",
      " Best class Probablity is  [0.43439493]\n",
      "['Aaditya']\n",
      " Best class Probablity is  [0.45917771]\n",
      "['Aaditya']\n",
      " Best class Probablity is  [0.46329352]\n",
      "['Aaditya']\n",
      " Best class Probablity is  [0.47462666]\n",
      "['Aaditya']\n",
      " Best class Probablity is  [0.41298743]\n",
      "['Aaditya']\n",
      " Best class Probablity is  [0.42208226]\n",
      "['Aaditya']\n",
      " Best class Probablity is  [0.43211133]\n",
      "['Aaditya']\n",
      " Best class Probablity is  [0.43828428]\n",
      "['Aaditya']\n",
      " Best class Probablity is  [0.43517329]\n",
      "['Aaditya']\n",
      " Best class Probablity is  [0.53264725]\n",
      "['Aaditya']\n",
      " Best class Probablity is  [0.43891314]\n",
      "['Aaditya']\n",
      " Best class Probablity is  [0.5168372]\n",
      "['Aaditya']\n",
      " Best class Probablity is  [0.49418317]\n",
      "['Aaditya']\n",
      " Best class Probablity is  [0.45456324]\n",
      "['Aaditya']\n",
      " Best class Probablity is  [0.45089605]\n",
      "['Aaditya']\n",
      " Best class Probablity is  [0.45033898]\n",
      "['Aaditya']\n",
      " Best class Probablity is  [0.43513128]\n",
      "['Aaditya']\n",
      " Best class Probablity is  [0.43845303]\n",
      "['Aaditya']\n",
      " Best class Probablity is  [0.56321699]\n",
      "['Aaditya']\n",
      " Best class Probablity is  [0.4348445]\n",
      "['Aaditya']\n",
      " Best class Probablity is  [0.46766179]\n",
      "['Aaditya']\n",
      " Best class Probablity is  [0.45935936]\n",
      "['Aaditya']\n",
      "Escape hit, closing...\n"
     ]
    }
   ],
   "source": [
    "capture = cv2.VideoCapture(0)\n",
    "cv2.namedWindow(\"test\")\n",
    "with open(GPC_CLASSIFY, 'rb') as infile:\n",
    "    (classifymodel, class_names) = pk.load(infile)\n",
    "try:\n",
    "    while (capture.isOpened()):\n",
    "        t1 = cv2.getTickCount()\n",
    "        ret, img = capture.read()\n",
    "#         img = cv2.flip(img, 1)\n",
    "\n",
    "        if img is None:\n",
    "            continue\n",
    "\n",
    "        k = cv2.waitKey(1)\n",
    "\n",
    "        if k%256 == 27:\n",
    "#             ESC pressed\n",
    "            print(\"Escape hit, closing...\")\n",
    "            break\n",
    "        \n",
    "#         faces = get_faces(Image.fromarray(cv2.cvtColor(img,cv2.COLOR_BGR2RGB)))\n",
    "        faces = get_faces(Image.fromarray(cv2.cvtColor(img,cv2.COLOR_BGR2RGB)))\n",
    "        t2 = cv2.getTickCount()\n",
    "        t = (t2 - t1) / cv2.getTickFrequency()\n",
    "        fps = 1.0 / t\n",
    "        cv2.putText(img, '{:.4f}'.format(t) + \" \" + '{:.3f}'.format(fps), (10, 20), cv2.FONT_HERSHEY_SIMPLEX, 0.5,\n",
    "                    (255, 0, 255), 2)\n",
    "        \n",
    "        for face in faces:\n",
    "            tmp = Image.fromarray(cv2.cvtColor(img,cv2.COLOR_BGR2RGB))\n",
    "            tmp = tmp.crop((face.x,face.y,face.x+face.w,face.y+face.h)).resize((160,160))\n",
    "            \n",
    "            embvector = embedding(img_to_np(tmp))\n",
    "            embvector = embvector.reshape(1, -1)\n",
    "            predictions = classifymodel.predict_proba(embvector)\n",
    "            best_class_indices = np.argmax(predictions, axis=1)\n",
    "            tmp_lable=class_names[best_class_indices]\n",
    "            best_class_probabilities = predictions[np.arange(len(best_class_indices)), best_class_indices]\n",
    "            print(' Best class Probablity is ',best_class_probabilities)\n",
    "            print(tmp_lable)\n",
    "            if best_class_probabilities <= 0.48:\n",
    "                tmp_lable=[\"others\"]\n",
    "            cv2.rectangle(img, (int(face.x), int(face.y)), (int(face.x+face.w), int(face.y+face.h)), (0,155,255), 2)\n",
    "            cv2.putText(img, tmp_lable[0], (int(face.x), int(face.y)), cv2.FONT_HERSHEY_SIMPLEX, 0.5, (255, 0, 255), 2)\n",
    "# #             print(face.data())\n",
    "        cv2.imshow('face',img)\n",
    "except Exception as  err:\n",
    "    print(err.with_traceback())\n",
    "    print('This is Error Occur !')\n",
    "finally:\n",
    "    images = []\n",
    "    capture.release()\n",
    "    cv2.destroyAllWindows()"
   ]
  },
  {
   "cell_type": "code",
   "execution_count": 45,
   "metadata": {},
   "outputs": [
    {
     "data": {
      "text/plain": [
       "<tensorflow.python.summary.writer.writer.FileWriter at 0x1d5d5ca1278>"
      ]
     },
     "execution_count": 45,
     "metadata": {},
     "output_type": "execute_result"
    }
   ],
   "source": [
    "tf.summary.FileWriter('./logdir',tf.get_default_graph())"
   ]
  },
  {
   "cell_type": "markdown",
   "metadata": {},
   "source": [
    "### run load_embeddings only one times  during starting of kernel"
   ]
  },
  {
   "cell_type": "code",
   "execution_count": 48,
   "metadata": {},
   "outputs": [
    {
     "name": "stdout",
     "output_type": "stream",
     "text": [
      "Counter({'Aaditya': 28})\n",
      "Counter({'Aaditya': 28, 'Anish Pandey': 16})\n"
     ]
    }
   ],
   "source": [
    "load_embeddings()"
   ]
  },
  {
   "cell_type": "markdown",
   "metadata": {},
   "source": [
    "###  EXPERIMENTATION"
   ]
  },
  {
   "cell_type": "markdown",
   "metadata": {},
   "source": [
    "###  EXPERIMENTATION with classfication\n",
    "\n",
    "### Finding best parameter for Image Recognition"
   ]
  },
  {
   "cell_type": "code",
   "execution_count": 98,
   "metadata": {},
   "outputs": [
    {
     "name": "stdout",
     "output_type": "stream",
     "text": [
      "Training classifier\n",
      "Best estimator found by grid search:\n",
      "SVC(C=1000.0, cache_size=200, class_weight='balanced', coef0=0.0,\n",
      "  decision_function_shape='ovr', degree=3, gamma=0.0005, kernel='rbf',\n",
      "  max_iter=-1, probability=False, random_state=0, shrinking=True,\n",
      "  tol=0.001, verbose=False)\n"
     ]
    },
    {
     "name": "stderr",
     "output_type": "stream",
     "text": [
      "c:\\users\\welcome\\envs\\mltut\\lib\\site-packages\\sklearn\\model_selection\\_search.py:841: DeprecationWarning: The default of the `iid` parameter will change from True to False in version 0.22 and will be removed in 0.24. This will change numeric results when test-set sizes are unequal.\n",
      "  DeprecationWarning)\n"
     ]
    }
   ],
   "source": [
    "embeds, names = load_embeddings_for_SVC()\n",
    "    \n",
    "name_unique = np.unique(names)\n",
    "\n",
    "#     label Encoder\n",
    "labels = []\n",
    "for i in range(len(names)):\n",
    "        for j in range(len(name_unique)):\n",
    "            if names[i]==name_unique[j]:\n",
    "                labels.append(j)\n",
    "\n",
    "#     Training classifier\n",
    "param_grid = {'C': [1e3, 5e3, 1e4, 5e4, 1e5],\n",
    "              'gamma': [0.0001, 0.0005, 0.001, 0.005, 0.01, 0.1],\n",
    "             'random_state':[i for i in range(0,100,10)]}\n",
    "\n",
    "clf = GridSearchCV(SVC(kernel='rbf', class_weight='balanced'),\n",
    "                   param_grid, cv=5)\n",
    "clf = clf.fit(X=embeds,y=labels)\n",
    "\n",
    "print('Training classifier')\n",
    "print(\"Best estimator found by grid search:\")\n",
    "print(clf.best_estimator_)"
   ]
  },
  {
   "cell_type": "code",
   "execution_count": null,
   "metadata": {},
   "outputs": [],
   "source": []
  }
 ],
 "metadata": {
  "kernelspec": {
   "display_name": "Python 3",
   "language": "python",
   "name": "python3"
  },
  "language_info": {
   "codemirror_mode": {
    "name": "ipython",
    "version": 3
   },
   "file_extension": ".py",
   "mimetype": "text/x-python",
   "name": "python",
   "nbconvert_exporter": "python",
   "pygments_lexer": "ipython3",
   "version": "3.6.8"
  }
 },
 "nbformat": 4,
 "nbformat_minor": 1
}
