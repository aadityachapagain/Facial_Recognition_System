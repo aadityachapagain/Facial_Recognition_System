{
 "cells": [
  {
   "cell_type": "markdown",
   "metadata": {},
   "source": [
    "###   Importing necessary library"
   ]
  },
  {
   "cell_type": "code",
   "execution_count": 1,
   "metadata": {},
   "outputs": [],
   "source": [
    "import os\n",
    "\n",
    "import tensorflow as tf\n",
    "\n",
    "from typing import List\n",
    "import numpy as np\n",
    "from PIL import Image\n",
    "import time\n",
    "import sys\n",
    "from threading import Thread"
   ]
  },
  {
   "cell_type": "code",
   "execution_count": 2,
   "metadata": {},
   "outputs": [],
   "source": [
    "from sklearn.svm import SVC, LinearSVC\n",
    "from sklearn.model_selection import GridSearchCV\n",
    "from sklearn.linear_model import SGDClassifier"
   ]
  },
  {
   "cell_type": "code",
   "execution_count": 3,
   "metadata": {},
   "outputs": [],
   "source": [
    "from collections import Counter\n",
    "from typing import List, Tuple"
   ]
  },
  {
   "cell_type": "code",
   "execution_count": 4,
   "metadata": {},
   "outputs": [],
   "source": [
    "from six import iteritems, string_types\n",
    "from matplotlib import pyplot as plt\n",
    "from scipy import spatial"
   ]
  },
  {
   "cell_type": "code",
   "execution_count": 5,
   "metadata": {},
   "outputs": [],
   "source": [
    "from __future__ import print_function\n",
    "from ipywidgets import interact, interactive, fixed, interact_manual\n",
    "import ipywidgets as widgets"
   ]
  },
  {
   "cell_type": "code",
   "execution_count": 6,
   "metadata": {},
   "outputs": [],
   "source": [
    "import pickle as pk"
   ]
  },
  {
   "cell_type": "markdown",
   "metadata": {},
   "source": [
    "### Defining Constants"
   ]
  },
  {
   "cell_type": "code",
   "execution_count": 7,
   "metadata": {},
   "outputs": [],
   "source": [
    "FACE_PIC_SIZE = 160\n",
    "\n",
    "EMBEDDING_SIZE = 512\n",
    "\n",
    "PRETREINED_MODEL_DIR = os.path.join(os.getcwd(),'pretrained_models')\n",
    "\n",
    "UNKNOWN_CLASS = \"Mr Nobody\"\n",
    "\n",
    "CLUSTER = \"_embeddings.SVC\"\n",
    "\n",
    "CLASSIFIER = \"CLASSIFIER\"\n",
    "\n",
    "CLASSIFY_NAME = 'SVM.SVC'\n",
    "\n",
    "SGD_CLASSIFY = 'SGD.CLASS'\n",
    "\n",
    "LSVC_CLASSIFY = 'LSVC.CLASS'\n",
    "\n",
    "CELEB_EMB = 'cleb_emb'\n",
    "\n",
    "CELEB_DATASET = 'celeb_dataset'"
   ]
  },
  {
   "cell_type": "code",
   "execution_count": 8,
   "metadata": {},
   "outputs": [
    {
     "data": {
      "text/plain": [
       "'F:\\\\MLTUT\\\\pretrained_models'"
      ]
     },
     "execution_count": 8,
     "metadata": {},
     "output_type": "execute_result"
    }
   ],
   "source": [
    "PRETREINED_MODEL_DIR"
   ]
  },
  {
   "cell_type": "code",
   "execution_count": 9,
   "metadata": {},
   "outputs": [],
   "source": [
    "import cv2"
   ]
  },
  {
   "cell_type": "markdown",
   "metadata": {},
   "source": [
    "### Implementation of Network Layers"
   ]
  },
  {
   "cell_type": "code",
   "execution_count": 10,
   "metadata": {},
   "outputs": [],
   "source": [
    "padding = ['SAME','VALID']"
   ]
  },
  {
   "cell_type": "code",
   "execution_count": 11,
   "metadata": {},
   "outputs": [],
   "source": [
    "# fucntion for loading weights in network\n",
    "def load(data_path, session, ignore_missing=False):\n",
    "    \"\"\"Load network weights.\n",
    "    @data_path: The path to the numpy-serialized network weights\n",
    "    @session: The current TensorFlow session\n",
    "    @ignore_missing: If true, serialized weights for missing layers are ignored.\n",
    "    \"\"\"\n",
    "    data_dict = np.load(data_path, encoding='latin1').item()  # pylint: disable=no-member\n",
    "\n",
    "    for op_name in data_dict:\n",
    "        with tf.variable_scope(op_name, reuse=True):\n",
    "            for param_name, data in iteritems(data_dict[op_name]):\n",
    "                try:\n",
    "                    var = tf.get_variable(param_name)\n",
    "                    session.run(var.assign(data))\n",
    "                except ValueError:\n",
    "                    if not ignore_missing:\n",
    "                        raise"
   ]
  },
  {
   "cell_type": "markdown",
   "metadata": {},
   "source": [
    "### Convolutional Layer"
   ]
  },
  {
   "cell_type": "code",
   "execution_count": 12,
   "metadata": {},
   "outputs": [],
   "source": [
    "def conv(inpt, k_h, k_w, c_o, s_h, s_w, name, relu=True, padding=padding[0], biased=True):\n",
    "    \"\"\"\n",
    "    @inpt: input data to convolve\n",
    "    @k_h: kernel height  \n",
    "    @k_w: kernel width\n",
    "    @c_o: number of filter\n",
    "    @s_h: strides weight\n",
    "    @s_w: strides height \n",
    "    @name: layer name\n",
    "    @relu: non linearity RELU\n",
    "    @padding: filter padding \n",
    "    \"\"\"\n",
    "# Get the number of channels in the input\n",
    "    c_i = int(inpt.get_shape()[-1])\n",
    "\n",
    "    # Convolution for a given input and kernel\n",
    "    with tf.variable_scope(name) as scope:\n",
    "        kernel = tf.get_variable('weights', shape=[k_h, k_w, c_i, c_o], trainable=True)\n",
    "        \n",
    "        output = tf.nn.conv2d(inpt, kernel, [1, s_h, s_w, 1], padding=padding)\n",
    "        # Add the biases\n",
    "        if biased:\n",
    "            biases = tf.get_variable('biases', [c_o])\n",
    "            output = tf.nn.bias_add(output, biases)\n",
    "        if relu:\n",
    "            # ReLU non-linearity\n",
    "            output = tf.nn.relu(output, name=scope.name)\n",
    "        return output"
   ]
  },
  {
   "cell_type": "markdown",
   "metadata": {},
   "source": [
    "### Activation Function"
   ]
  },
  {
   "cell_type": "code",
   "execution_count": 13,
   "metadata": {},
   "outputs": [],
   "source": [
    "def prelu(inpt, name):\n",
    "    \"\"\"\n",
    "    @inpt: input from previous layer\n",
    "    @name: layer name\n",
    "    \"\"\"\n",
    "    with tf.variable_scope(name):\n",
    "        i = int(inpt.get_shape()[-1])\n",
    "        alpha = tf.get_variable('alpha', shape=(i,))\n",
    "        output = tf.nn.relu(inpt) + tf.multiply(alpha, -tf.nn.relu(-inpt))\n",
    "    return output"
   ]
  },
  {
   "cell_type": "markdown",
   "metadata": {},
   "source": [
    "### Using Max_pool as pooling layer"
   ]
  },
  {
   "cell_type": "code",
   "execution_count": 14,
   "metadata": {},
   "outputs": [],
   "source": [
    "def max_pool(inpt, k_h, k_w, s_h, s_w, name, padding=padding[0]):\n",
    "    \"\"\"\n",
    "    @inpt: input from previous layer\n",
    "    @k_h: kernel height\n",
    "    @k_w: kernel width\n",
    "    @s_h: stride height\n",
    "    @s_w: stride width\n",
    "    @name: layer name\n",
    "    @padding: Valid Padding ['SAME','VALID']\n",
    "    \"\"\"\n",
    "    return tf.nn.max_pool(inpt, ksize=[1, k_h, k_w, 1],strides=[1, s_h, s_w, 1], padding=padding, name=name)"
   ]
  },
  {
   "cell_type": "markdown",
   "metadata": {},
   "source": [
    "### Fully Connected Layer"
   ]
  },
  {
   "cell_type": "code",
   "execution_count": 15,
   "metadata": {},
   "outputs": [],
   "source": [
    "def fully_connected(inpt, num_out, name, relu=True):\n",
    "    \"\"\"\n",
    "    @inpt: input from previous layer\n",
    "    @num_out: output layer\n",
    "    \"\"\"\n",
    "    with tf.variable_scope(name):\n",
    "        input_shape = inpt.get_shape()\n",
    "        if input_shape.ndims == 4:\n",
    "            # since the input is spatial.we have to Vectorize it first.\n",
    "            dim = 1\n",
    "            for d in input_shape[1:].as_list():\n",
    "                dim *= int(d)\n",
    "            feed_in = tf.reshape(inpt, [-1, dim])\n",
    "        else:\n",
    "            feed_in, dim = (inpt, input_shape[-1].value)\n",
    "        weights = tf.get_variable('weights', shape=[dim, num_out])\n",
    "        biases = tf.get_variable('biases', [num_out])\n",
    "        op = tf.nn.relu_layer if relu else tf.nn.xw_plus_b\n",
    "        fc = op(feed_in, weights, biases, name=name)\n",
    "        return fc"
   ]
  },
  {
   "cell_type": "markdown",
   "metadata": {},
   "source": [
    "### Softmax"
   ]
  },
  {
   "cell_type": "code",
   "execution_count": 16,
   "metadata": {},
   "outputs": [],
   "source": [
    "def softmax(target, axis, name=None):\n",
    "    \"\"\"\n",
    "    @target: target layer to apply softmax\n",
    "    @axis: axes to apply softmax\n",
    "    @name: layer name\n",
    "    \"\"\"\n",
    "    max_axis = tf.reduce_max(target, axis, keepdims=True)\n",
    "    target_exp = tf.exp(target - max_axis)\n",
    "    normalize = tf.reduce_sum(target_exp, axis, keepdims=True)\n",
    "    softmax = tf.div(target_exp, normalize, name)\n",
    "    return softmax"
   ]
  },
  {
   "cell_type": "markdown",
   "metadata": {},
   "source": [
    "## Implementation of MTCNN"
   ]
  },
  {
   "cell_type": "markdown",
   "metadata": {},
   "source": [
    "### P-Net ( Proposal - Network )"
   ]
  },
  {
   "cell_type": "code",
   "execution_count": 17,
   "metadata": {},
   "outputs": [],
   "source": [
    "def pNet(data):\n",
    "    value = conv(data, 3, 3, 10, 1, 1, padding='VALID', relu=False, name='conv1')\n",
    "    value = prelu(value, name='PReLU1')\n",
    "    value = max_pool(value, 2, 2, 2, 2, name='pool1')\n",
    "    value = conv(value ,3, 3, 16, 1, 1, padding='VALID', relu=False, name='conv2')\n",
    "    value = prelu(value ,name='PReLU2')\n",
    "    value = conv(value ,3, 3, 32, 1, 1, padding='VALID', relu=False, name='conv3')\n",
    "    value = prelu(value ,name='PReLU3')\n",
    "#     Face detection classfication probablity output\n",
    "    val_conv4_1 = conv(value ,1, 1, 2, 1, 1, relu=False, name='conv4-1')\n",
    "    classify = softmax(val_conv4_1 ,3, name='prob1')\n",
    "#     bounding box regression\n",
    "    bbr = conv(value ,1, 1, 4, 1, 1, relu=False, name='conv4-2')\n",
    "    \n",
    "    return(classify, bbr)"
   ]
  },
  {
   "cell_type": "markdown",
   "metadata": {},
   "source": [
    "### R-Net ( Refinement - Network )"
   ]
  },
  {
   "cell_type": "code",
   "execution_count": 18,
   "metadata": {},
   "outputs": [],
   "source": [
    "def rNet(data):\n",
    "    value = conv(data, 3, 3, 28, 1, 1, padding='VALID', relu=False, name='conv1')\n",
    "    value = prelu(value, name='prelu1')\n",
    "    value = max_pool(value, 3, 3, 2, 2, name='pool1')\n",
    "    value = conv(value, 3, 3, 48, 1, 1, padding='VALID', relu=False, name='conv2')\n",
    "    value = prelu(value, name='prelu2')\n",
    "    value = max_pool(value, 3, 3, 2, 2, padding='VALID', name='pool2')\n",
    "    value = conv(value, 2, 2, 64, 1, 1, padding='VALID', relu=False, name='conv3')\n",
    "    value = prelu(value, name='prelu3')\n",
    "    value = fully_connected(value, 128, relu=False, name='conv4')\n",
    "    value = prelu(value, name='prelu4')\n",
    "#     face detection classfication probablity output\n",
    "    conv5_1 = fully_connected(value, 2, relu=False, name='conv5-1')\n",
    "    classify = softmax(conv5_1, 1, name='prob1')\n",
    "#     bounding box regression\n",
    "    bbr = fully_connected(value,4, relu=False, name='conv5-2')\n",
    "    \n",
    "    return (classify, bbr)"
   ]
  },
  {
   "cell_type": "markdown",
   "metadata": {},
   "source": [
    "### O-Net ( Output - Network )  "
   ]
  },
  {
   "cell_type": "code",
   "execution_count": 19,
   "metadata": {},
   "outputs": [],
   "source": [
    "def oNet(data):\n",
    "    value = conv(data, 3, 3, 32, 1, 1, padding='VALID', relu=False, name='conv1')\n",
    "    value = prelu(value, name='prelu1')\n",
    "    value = max_pool(value ,3, 3, 2, 2, name='pool1')\n",
    "    value = conv(value, 3, 3, 64, 1, 1, padding='VALID', relu=False, name='conv2')\n",
    "    value = prelu(value, name='prelu2')\n",
    "    value = max_pool(value, 3, 3, 2, 2, padding='VALID', name='pool2')\n",
    "    value = conv(value, 3, 3, 64, 1, 1, padding='VALID', relu=False, name='conv3')\n",
    "    value = prelu(value, name='prelu3')\n",
    "    value = max_pool(value, 2, 2, 2, 2, name='pool3')\n",
    "    value = conv(value, 2, 2, 128, 1, 1, padding='VALID', relu=False, name='conv4')\n",
    "    value = prelu(value, name='prelu4')\n",
    "    value = fully_connected(value, 256, relu=False, name='conv5')\n",
    "    value = prelu(value, name='prelu5')\n",
    "#     face detection classification\n",
    "    conv6_1 = fully_connected(value, 2, relu=False, name='conv6-1')\n",
    "    classify = softmax(conv6_1, 1, name='prob1')\n",
    "#     bounding box regression\n",
    "    bbr = fully_connected(value, 4, relu=False, name='conv6-2')\n",
    "    \n",
    "#     face localization\n",
    "    floc = fully_connected(value, 10, relu=False, name='conv6-3')\n",
    "    \n",
    "    return (classify, bbr, floc)"
   ]
  },
  {
   "cell_type": "markdown",
   "metadata": {},
   "source": [
    "### Creating MTCNN Architecture"
   ]
  },
  {
   "cell_type": "code",
   "execution_count": 20,
   "metadata": {},
   "outputs": [],
   "source": [
    "def create_mtcnn(sess, model_path):\n",
    "    \"\"\"\n",
    "    Input @sess: Current session,\n",
    "    Input @model_path: path of weights of model to load,\n",
    "    \"\"\"\n",
    "#     Creating variable scope for Pnet\n",
    "    with tf.variable_scope('pnet'):\n",
    "        data = tf.placeholder(tf.float32, (None, None, None, 3), 'input')\n",
    "        pnet = pNet(data)\n",
    "        load(os.path.join(model_path, 'det1.npy'), sess)\n",
    "        \n",
    "#     Creating Variabel scope for Rnet\n",
    "    with tf.variable_scope('rnet'):\n",
    "        data = tf.placeholder(tf.float32, (None, 24, 24, 3), 'input')\n",
    "        rnet = rNet(data)\n",
    "        load(os.path.join(model_path, 'det2.npy'), sess)\n",
    "        \n",
    "#    Creating Variable scope for Onet\n",
    "    with tf.variable_scope('onet'):\n",
    "        data = tf.placeholder(tf.float32, (None, 48, 48, 3), 'input')\n",
    "        onet = oNet(data)\n",
    "        load(os.path.join(model_path, 'det3.npy'), sess)\n",
    "        \n",
    "#         Predicting facial features by cascading P-net, R-net and O-net\n",
    "    pnet_fun = lambda img: sess.run(('pnet/conv4-2/BiasAdd:0', 'pnet/prob1:0'), feed_dict={'pnet/input:0': img})\n",
    "    rnet_fun = lambda img: sess.run(('rnet/conv5-2/conv5-2:0', 'rnet/prob1:0'), feed_dict={'rnet/input:0': img})\n",
    "    onet_fun = lambda img: sess.run(('onet/conv6-2/conv6-2:0', 'onet/conv6-3/conv6-3:0', 'onet/prob1:0'), feed_dict={'onet/input:0': img})\n",
    "    \n",
    "    return pnet_fun, rnet_fun, onet_fun"
   ]
  },
  {
   "cell_type": "code",
   "execution_count": 21,
   "metadata": {},
   "outputs": [],
   "source": [
    "def _setup_mtcnn():\n",
    "    with tf.Graph().as_default():\n",
    "        sess = tf.Session()\n",
    "        with sess.as_default():\n",
    "            return create_mtcnn(sess, PRETREINED_MODEL_DIR)"
   ]
  },
  {
   "cell_type": "markdown",
   "metadata": {},
   "source": [
    "### Generating MTCNN Graph"
   ]
  },
  {
   "cell_type": "code",
   "execution_count": 22,
   "metadata": {},
   "outputs": [],
   "source": [
    "pnet, rnet, onet = _setup_mtcnn()"
   ]
  },
  {
   "cell_type": "markdown",
   "metadata": {},
   "source": [
    "### Image Preprocessing and Scale Space Representation Algorithm"
   ]
  },
  {
   "cell_type": "code",
   "execution_count": 23,
   "metadata": {},
   "outputs": [],
   "source": [
    "def detect_face(img, minsize, pnet, rnet, onet, threshold, factor):\n",
    "    \"\"\"Detects faces in an image, and returns bounding boxes and points for them.\n",
    "    @img: input image\n",
    "    @minsize: minimum faces' size\n",
    "    @pnet, rnet, onet: proposal net, Refinement net, Output net\n",
    "    @threshold: threshold=[th1, th2, th3], th1-3 are three steps's threshold\n",
    "    @factor: the factor used to create a scaling pyramid of face sizes to detect in the image.\n",
    "    \"\"\"\n",
    "    factor_count = 0\n",
    "    total_boxes = np.empty((0, 9))\n",
    "    points = np.empty(0)\n",
    "    h = img.shape[0]\n",
    "    w = img.shape[1]\n",
    "    minl = np.amin([h, w])\n",
    "    m = 12.0 / minsize\n",
    "    minl = minl * m\n",
    "    # create scale pyramid\n",
    "    scales = []\n",
    "    while minl >= 12:\n",
    "        scales += [m * np.power(factor, factor_count)]\n",
    "        minl = minl * factor\n",
    "        factor_count += 1\n",
    "\n",
    "    # first stage\n",
    "    # Using P - Net to detect all probablistic faces and bounding boxes\n",
    "    for scale in scales:\n",
    "        hs = int(np.ceil(h * scale))\n",
    "        ws = int(np.ceil(w * scale))\n",
    "        im_data = imresample(img, (hs, ws))\n",
    "        im_data = (im_data - 127.5) * 0.0078125\n",
    "        img_x = np.expand_dims(im_data, 0)\n",
    "        img_y = np.transpose(img_x, (0, 2, 1, 3))\n",
    "        out = pnet(img_y)\n",
    "        \n",
    "        out0 = np.transpose(out[0], (0, 2, 1, 3))\n",
    "        out1 = np.transpose(out[1], (0, 2, 1, 3))\n",
    "\n",
    "        boxes, _ = generateBoundingBox(out1[0, :, :, 1].copy(), out0[0, :, :, :].copy(), scale, threshold[0])\n",
    "\n",
    "        # Applying  Non-Maximum supression to supresses overlapping bounding box areas\n",
    "        pick = nms(boxes.copy(), 0.5, 'Union')\n",
    "        if boxes.size > 0 and pick.size > 0:\n",
    "            boxes = boxes[pick, :]\n",
    "            total_boxes = np.append(total_boxes, boxes, axis=0)\n",
    "\n",
    "    numbox = total_boxes.shape[0]\n",
    "    if numbox > 0:\n",
    "        pick = nms(total_boxes.copy(), 0.7, 'Union')\n",
    "        total_boxes = total_boxes[pick, :]\n",
    "        regw = total_boxes[:, 2] - total_boxes[:, 0]\n",
    "        regh = total_boxes[:, 3] - total_boxes[:, 1]\n",
    "        qq1 = total_boxes[:, 0] + total_boxes[:, 5] * regw\n",
    "        qq2 = total_boxes[:, 1] + total_boxes[:, 6] * regh\n",
    "        qq3 = total_boxes[:, 2] + total_boxes[:, 7] * regw\n",
    "        qq4 = total_boxes[:, 3] + total_boxes[:, 8] * regh\n",
    "        total_boxes = np.transpose(np.vstack([qq1, qq2, qq3, qq4, total_boxes[:, 4]]))\n",
    "        total_boxes = rerec(total_boxes.copy())\n",
    "        total_boxes[:, 0:4] = np.fix(total_boxes[:, 0:4]).astype(np.int32)\n",
    "        dy, edy, dx, edx, y, ey, x, ex, tmpw, tmph = pad(total_boxes.copy(), w, h)\n",
    "\n",
    "    numbox = total_boxes.shape[0]\n",
    "    if numbox > 0:\n",
    "        # second stage\n",
    "        # Using Rnet to detect faces and bounding box more accurately \n",
    "        tempimg = np.zeros((24, 24, 3, numbox))\n",
    "        for k in range(0, numbox):\n",
    "            tmp = np.zeros((int(tmph[k]), int(tmpw[k]), 3))\n",
    "            tmp[dy[k] - 1:edy[k], dx[k] - 1:edx[k], :] = img[y[k] - 1:ey[k], x[k] - 1:ex[k], :]\n",
    "            if tmp.shape[0] > 0 and tmp.shape[1] > 0 or tmp.shape[0] == 0 and tmp.shape[1] == 0:\n",
    "                tempimg[:, :, :, k] = imresample(tmp, (24, 24))\n",
    "            else:\n",
    "                return np.empty()\n",
    "        tempimg = (tempimg - 127.5) * 0.0078125\n",
    "        tempimg1 = np.transpose(tempimg, (3, 1, 0, 2))\n",
    "        out = rnet(tempimg1)\n",
    "        out0 = np.transpose(out[0])\n",
    "        out1 = np.transpose(out[1])\n",
    "        score = out1[1, :]\n",
    "        ipass = np.where(score > threshold[1])\n",
    "        total_boxes = np.hstack([total_boxes[ipass[0], 0:4].copy(), np.expand_dims(score[ipass].copy(), 1)])\n",
    "        mv = out0[:, ipass[0]]\n",
    "        if total_boxes.shape[0] > 0:\n",
    "            pick = nms(total_boxes, 0.7, 'Union')\n",
    "            total_boxes = total_boxes[pick, :]\n",
    "            total_boxes = bbreg(total_boxes.copy(), np.transpose(mv[:, pick]))\n",
    "            total_boxes = rerec(total_boxes.copy())\n",
    "\n",
    "    numbox = total_boxes.shape[0]\n",
    "    if numbox > 0:\n",
    "        # third stage\n",
    "        total_boxes = np.fix(total_boxes).astype(np.int32)\n",
    "        dy, edy, dx, edx, y, ey, x, ex, tmpw, tmph = pad(total_boxes.copy(), w, h)\n",
    "        tempimg = np.zeros((48, 48, 3, numbox))\n",
    "        for k in range(0, numbox):\n",
    "            tmp = np.zeros((int(tmph[k]), int(tmpw[k]), 3))\n",
    "            tmp[dy[k] - 1:edy[k], dx[k] - 1:edx[k], :] = img[y[k] - 1:ey[k], x[k] - 1:ex[k], :]\n",
    "            if tmp.shape[0] > 0 and tmp.shape[1] > 0 or tmp.shape[0] == 0 and tmp.shape[1] == 0:\n",
    "                tempimg[:, :, :, k] = imresample(tmp, (48, 48))\n",
    "            else:\n",
    "                return np.empty()\n",
    "        tempimg = (tempimg - 127.5) * 0.0078125\n",
    "        tempimg1 = np.transpose(tempimg, (3, 1, 0, 2))\n",
    "        out = onet(tempimg1)\n",
    "        out0 = np.transpose(out[0])\n",
    "        out1 = np.transpose(out[1])\n",
    "        out2 = np.transpose(out[2])\n",
    "        score = out2[1, :]\n",
    "        points = out1\n",
    "        ipass = np.where(score > threshold[2])\n",
    "        points = points[:, ipass[0]]\n",
    "        total_boxes = np.hstack([total_boxes[ipass[0], 0:4].copy(), np.expand_dims(score[ipass].copy(), 1)])\n",
    "        mv = out0[:, ipass[0]]\n",
    "\n",
    "        w = total_boxes[:, 2] - total_boxes[:, 0] + 1\n",
    "        h = total_boxes[:, 3] - total_boxes[:, 1] + 1\n",
    "        points[0:5, :] = np.tile(w, (5, 1)) * points[0:5, :] + np.tile(total_boxes[:, 0], (5, 1)) - 1\n",
    "        points[5:10, :] = np.tile(h, (5, 1)) * points[5:10, :] + np.tile(total_boxes[:, 1], (5, 1)) - 1\n",
    "        if total_boxes.shape[0] > 0:\n",
    "            total_boxes = bbreg(total_boxes.copy(), np.transpose(mv))\n",
    "            pick = nms(total_boxes.copy(), 0.7, 'Min')\n",
    "            total_boxes = total_boxes[pick, :]\n",
    "            points = points[:, pick]\n",
    "\n",
    "    return total_boxes, points"
   ]
  },
  {
   "cell_type": "markdown",
   "metadata": {},
   "source": [
    "### Creating Bounding Box with coords given "
   ]
  },
  {
   "cell_type": "code",
   "execution_count": 24,
   "metadata": {},
   "outputs": [],
   "source": [
    "def generateBoundingBox(inp, reg, scale, t):\n",
    "    \"\"\"Use heatmap to generate bounding boxes\n",
    "    @inp: Bounding box regerssion ( Probablistic )\n",
    "    @scale: scale factor \n",
    "    @t: Threashold\n",
    "    \"\"\"\n",
    "    stride = 2\n",
    "    cellsize = 12\n",
    "\n",
    "    imap = np.transpose(inp)\n",
    "    dx1 = np.transpose(reg[:, :, 0])\n",
    "    dy1 = np.transpose(reg[:, :, 1])\n",
    "    dx2 = np.transpose(reg[:, :, 2])\n",
    "    dy2 = np.transpose(reg[:, :, 3])\n",
    "    y, x = np.where(imap >= t)\n",
    "    if y.shape[0] == 1:\n",
    "        dx1 = np.flipud(dx1)\n",
    "        dy1 = np.flipud(dy1)\n",
    "        dx2 = np.flipud(dx2)\n",
    "        dy2 = np.flipud(dy2)\n",
    "    score = imap[(y, x)]\n",
    "    reg = np.transpose(np.vstack([dx1[(y, x)], dy1[(y, x)], dx2[(y, x)], dy2[(y, x)]]))\n",
    "    if reg.size == 0:\n",
    "        reg = np.empty((0, 3))\n",
    "    bb = np.transpose(np.vstack([y, x]))\n",
    "    q1 = np.fix((stride * bb + 1) / scale)\n",
    "    q2 = np.fix((stride * bb + cellsize - 1 + 1) / scale)\n",
    "    boundingbox = np.hstack([q1, q2, np.expand_dims(score, 1), reg])\n",
    "    return boundingbox, reg"
   ]
  },
  {
   "cell_type": "markdown",
   "metadata": {},
   "source": [
    "### Correction of Bounding box "
   ]
  },
  {
   "cell_type": "code",
   "execution_count": 25,
   "metadata": {},
   "outputs": [],
   "source": [
    "def bbreg(boundingbox, reg):\n",
    "    \"\"\"Calibrate bounding boxes\"\"\"\n",
    "    if reg.shape[1] == 1:\n",
    "        reg = np.reshape(reg, (reg.shape[2], reg.shape[3]))\n",
    "\n",
    "    w = boundingbox[:, 2] - boundingbox[:, 0] + 1\n",
    "    h = boundingbox[:, 3] - boundingbox[:, 1] + 1\n",
    "    b1 = boundingbox[:, 0] + reg[:, 0] * w\n",
    "    b2 = boundingbox[:, 1] + reg[:, 1] * h\n",
    "    b3 = boundingbox[:, 2] + reg[:, 2] * w\n",
    "    b4 = boundingbox[:, 3] + reg[:, 3] * h\n",
    "    boundingbox[:, 0:4] = np.transpose(np.vstack([b1, b2, b3, b4]))\n",
    "    return boundingbox"
   ]
  },
  {
   "cell_type": "markdown",
   "metadata": {},
   "source": [
    "### Non Maximum supression Algorithem"
   ]
  },
  {
   "cell_type": "code",
   "execution_count": 26,
   "metadata": {},
   "outputs": [],
   "source": [
    "# Non - Maximum supression technique\n",
    "def nms(boxes, threshold, method):\n",
    "#     if no face detected\n",
    "    if boxes.size == 0:\n",
    "        return np.empty((0, 3))\n",
    "#     grab the coordinates of the bounding boxes\n",
    "    x1 = boxes[:, 0]\n",
    "    y1 = boxes[:, 1]\n",
    "    x2 = boxes[:, 2]\n",
    "    y2 = boxes[:, 3]\n",
    "    s = boxes[:, 4]\n",
    "#     initialize the list of picked indexes\n",
    "    pick = np.zeros_like(s, dtype=np.int16)\n",
    "#     compute the area of the bounding boxes and sort the bounding\n",
    "#     boxes by the bottom-right y-coordinate of the bounding box\n",
    "    area = (x2 - x1 + 1) * (y2 - y1 + 1)\n",
    "    I = np.argsort(s)\n",
    "    counter = 0\n",
    "#     keep looping while some indexes still remain in the indexes\n",
    "#     list\n",
    "    while I.size > 0:\n",
    "#         grab the last index in the indexes list, add the index\n",
    "#         value to the list of picked indexes, then initialize\n",
    "#         the suppression list (i.e. indexes that will be deleted)\n",
    "#         using the last index\n",
    "        i = I[-1]\n",
    "        pick[counter] = i\n",
    "        counter += 1\n",
    "        idx = I[0:-1]\n",
    "#         find the largest (x, y) coordinates for the start of\n",
    "#         the bounding box and the smallest (x, y) coordinates\n",
    "#         for the end of the bounding box\n",
    "        xx1 = np.maximum(x1[i], x1[idx])\n",
    "        yy1 = np.maximum(y1[i], y1[idx])\n",
    "        xx2 = np.minimum(x2[i], x2[idx])\n",
    "        yy2 = np.minimum(y2[i], y2[idx])\n",
    "#         compute the widht and height of bounding box\n",
    "        w = np.maximum(0.0, xx2 - xx1 + 1)\n",
    "        h = np.maximum(0.0, yy2 - yy1 + 1)\n",
    "#         compute the ratio of overlap between the computed\n",
    "#         bounding box and the bounding box in the area list\n",
    "        inter = w * h\n",
    "        if method is 'Min':\n",
    "            o = inter / np.minimum(area[i], area[idx])\n",
    "        else:\n",
    "            o = inter / (area[i] + area[idx] - inter)\n",
    "#         if there is sufficient overlap, suppress the\n",
    "#         current bounding box\n",
    "#             delete all indexes from the index list that are in the\n",
    "#             suppression list\n",
    "        I = I[np.where(o <= threshold)]\n",
    "#     return only the bounding boxes that were picked\n",
    "    pick = pick[0:counter]\n",
    "    return pick"
   ]
  },
  {
   "cell_type": "code",
   "execution_count": 27,
   "metadata": {},
   "outputs": [],
   "source": [
    "def pad(total_boxes, w, h):\n",
    "    \"\"\"\n",
    "    Compute the padding coordinates (pad the bounding boxes to square)\n",
    "    @total_boxes: detected boxes for face\n",
    "    @w: width of image\n",
    "    @h: height of image\n",
    "    \"\"\"\n",
    "    tmpw = (total_boxes[:, 2] - total_boxes[:, 0] + 1).astype(np.int32)\n",
    "    tmph = (total_boxes[:, 3] - total_boxes[:, 1] + 1).astype(np.int32)\n",
    "    numbox = total_boxes.shape[0]\n",
    "\n",
    "    dx = np.ones((numbox), dtype=np.int32)\n",
    "    dy = np.ones((numbox), dtype=np.int32)\n",
    "    edx = tmpw.copy().astype(np.int32)\n",
    "    edy = tmph.copy().astype(np.int32)\n",
    "\n",
    "    x = total_boxes[:, 0].copy().astype(np.int32)\n",
    "    y = total_boxes[:, 1].copy().astype(np.int32)\n",
    "    ex = total_boxes[:, 2].copy().astype(np.int32)\n",
    "    ey = total_boxes[:, 3].copy().astype(np.int32)\n",
    "\n",
    "    tmp = np.where(ex > w)\n",
    "    edx.flat[tmp] = np.expand_dims(-ex[tmp] + w + tmpw[tmp], 1)\n",
    "    ex[tmp] = w\n",
    "\n",
    "    tmp = np.where(ey > h)\n",
    "    edy.flat[tmp] = np.expand_dims(-ey[tmp] + h + tmph[tmp], 1)\n",
    "    ey[tmp] = h\n",
    "\n",
    "    tmp = np.where(x < 1)\n",
    "    dx.flat[tmp] = np.expand_dims(2 - x[tmp], 1)\n",
    "    x[tmp] = 1\n",
    "\n",
    "    tmp = np.where(y < 1)\n",
    "    dy.flat[tmp] = np.expand_dims(2 - y[tmp], 1)\n",
    "    y[tmp] = 1\n",
    "\n",
    "    return dy, edy, dx, edx, y, ey, x, ex, tmpw, tmph"
   ]
  },
  {
   "cell_type": "code",
   "execution_count": 28,
   "metadata": {},
   "outputs": [],
   "source": [
    "def rerec(bboxA):\n",
    "    \"\"\"Convert bounding box to square.\"\"\"\n",
    "    h = bboxA[:, 3] - bboxA[:, 1]\n",
    "    w = bboxA[:, 2] - bboxA[:, 0]\n",
    "    l = np.maximum(w, h)\n",
    "    bboxA[:, 0] = bboxA[:, 0] + w * 0.5 - l * 0.5\n",
    "    bboxA[:, 1] = bboxA[:, 1] + h * 0.5 - l * 0.5\n",
    "    bboxA[:, 2:4] = bboxA[:, 0:2] + np.transpose(np.tile(l, (2, 1)))\n",
    "    return bboxA\n",
    "\n",
    "\n",
    "def imresample(img, sz):\n",
    "    im_data = cv2.resize(img, (sz[1], sz[0]), interpolation=cv2.INTER_AREA)\n",
    "    return im_data"
   ]
  },
  {
   "cell_type": "markdown",
   "metadata": {},
   "source": [
    "### Class for face embeddings"
   ]
  },
  {
   "cell_type": "code",
   "execution_count": 29,
   "metadata": {},
   "outputs": [],
   "source": [
    "class Face:\n",
    "    # face bounding boxes\n",
    "    def __init__(self, x, y, w, h, confidence, img):\n",
    "        \"\"\"\n",
    "        @x: boundind box location x\n",
    "        @y: bounding box location y\n",
    "        @w: bounding box width\n",
    "        @h: bounding box height\n",
    "        @confidence: face detection confidence level\n",
    "        @img: array image\n",
    "        \"\"\"\n",
    "        self.img = img\n",
    "        self.x = x\n",
    "        self.y = y\n",
    "        self.w = w\n",
    "        self.h = h\n",
    "        self.confidence = confidence\n",
    "\n",
    "        self.predict_proba = None\n",
    "        self.predict_candidates = None\n",
    "        self.predict_candidates_proba = None\n",
    "\n",
    "    def data(self):\n",
    "        return { k:v for k, v in self.__dict__.items() if k != 'img'}"
   ]
  },
  {
   "cell_type": "markdown",
   "metadata": {},
   "source": [
    "### Image object to numpy array"
   ]
  },
  {
   "cell_type": "code",
   "execution_count": 30,
   "metadata": {},
   "outputs": [],
   "source": [
    "def img_to_np(image):\n",
    "    \"\"\" \n",
    "    Image to numpy array\n",
    "    \"\"\"\n",
    "    (im_width, im_height) = image.size\n",
    "    return np.array(image.getdata()).reshape((im_height, im_width, 3)).astype(np.uint8)"
   ]
  },
  {
   "cell_type": "markdown",
   "metadata": {},
   "source": [
    "### Face detection embeddings"
   ]
  },
  {
   "cell_type": "code",
   "execution_count": 31,
   "metadata": {},
   "outputs": [],
   "source": [
    "def get_faces(image, threshold=0.5, minsize=20):\n",
    "    \"\"\"\n",
    "    @image: video frame\n",
    "    @threshold: threshold to detect face\n",
    "    \"\"\"\n",
    "    img = img_to_np(image)\n",
    "    # face detection parameters\n",
    "    threshold = [0.6, 0.8, 0.88]  # three steps's threshold\n",
    "    factor = 0.68  # scale factor\n",
    "    faces = []\n",
    "\n",
    "    bounding_boxes, _ = detect_face(img, minsize, pnet, rnet, onet,\n",
    "                                                      threshold, factor)\n",
    "    for bb in bounding_boxes:\n",
    "        img = image.crop(bb[:4])\n",
    "        bb[2:4] -= bb[:2]\n",
    "        faces.append(Face(*bb, img))\n",
    "\n",
    "    return faces"
   ]
  },
  {
   "cell_type": "markdown",
   "metadata": {},
   "source": [
    "### Face Recognition"
   ]
  },
  {
   "cell_type": "markdown",
   "metadata": {},
   "source": [
    "#### Using Pre-trained Inception-V3 Network Model"
   ]
  },
  {
   "cell_type": "code",
   "execution_count": 32,
   "metadata": {},
   "outputs": [
    {
     "data": {
      "text/plain": [
       "'20180402-114759\\\\20180402-114759.pb'"
      ]
     },
     "execution_count": 32,
     "metadata": {},
     "output_type": "execute_result"
    }
   ],
   "source": [
    "MODEL_FILE_NAME = os.path.join('20180402-114759','20180402-114759.pb')\n",
    "MODEL_FILE_NAME"
   ]
  },
  {
   "cell_type": "markdown",
   "metadata": {},
   "source": [
    "#### Loading pre - trained model"
   ]
  },
  {
   "cell_type": "code",
   "execution_count": 33,
   "metadata": {},
   "outputs": [
    {
     "name": "stdout",
     "output_type": "stream",
     "text": [
      "Model filename: F:\\MLTUT\\pretrained_models\\20180402-114759\\20180402-114759.pb\n"
     ]
    }
   ],
   "source": [
    "sess = None\n",
    "def load_model(pb_file, input_map=None):\n",
    "    global sess\n",
    "    if sess is None:\n",
    "        sess = tf.Session()\n",
    "        print('Model filename: %s' % pb_file)\n",
    "        with tf.gfile.GFile(pb_file, 'rb') as f:\n",
    "            graph_def = tf.GraphDef()\n",
    "            graph_def.ParseFromString(f.read())\n",
    "            tf.import_graph_def(graph_def, input_map=input_map, name='')\n",
    "\n",
    "\n",
    "load_model(os.path.join(PRETREINED_MODEL_DIR, MODEL_FILE_NAME))"
   ]
  },
  {
   "cell_type": "code",
   "execution_count": 34,
   "metadata": {},
   "outputs": [],
   "source": [
    "# inception net requires this\n",
    "def prewhiten(x):\n",
    "    mean = np.mean(x)\n",
    "    std = np.std(x)\n",
    "    std_adj = np.maximum(std, 1.0 / np.sqrt(x.size))\n",
    "    y = np.multiply(np.subtract(x, mean), 1 / std_adj)\n",
    "    return y"
   ]
  },
  {
   "cell_type": "code",
   "execution_count": 35,
   "metadata": {},
   "outputs": [],
   "source": [
    "def embedding(face_np):\n",
    "    \"\"\"\n",
    "    @face_np: cropped image as input\n",
    "    @name: image name\n",
    "    \"\"\"\n",
    "    global sess\n",
    "#     input place holder and  embeddings \n",
    "    images_placeholder = tf.get_default_graph().get_tensor_by_name(\"input:0\")\n",
    "    embeddings = tf.get_default_graph().get_tensor_by_name(\"embeddings:0\")\n",
    "    phase_train_placeholder = tf.get_default_graph().get_tensor_by_name(\"phase_train:0\")\n",
    "    x = prewhiten(face_np)\n",
    "    feed_dict = {images_placeholder: [x], phase_train_placeholder: False}\n",
    "    result = sess.run(embeddings, feed_dict=feed_dict)[0]\n",
    "    return result\n",
    "\n",
    "def input_shape():\n",
    "    return tf.get_default_graph().get_tensor_by_name(\"input:0\").get_shape()\n",
    "\n",
    "\n",
    "def embedding_size():\n",
    "    return tf.get_default_graph().get_tensor_by_name(\"embeddings:0\").get_shape()[1]"
   ]
  },
  {
   "cell_type": "markdown",
   "metadata": {},
   "source": [
    "### SVM classifier"
   ]
  },
  {
   "cell_type": "markdown",
   "metadata": {},
   "source": [
    "### One vs One MultiClass Classfier"
   ]
  },
  {
   "cell_type": "code",
   "execution_count": 41,
   "metadata": {},
   "outputs": [],
   "source": [
    "def classifyTrainSVC(path=None):\n",
    "    embeds, names = load_embeddings_for_classfication()\n",
    "    \n",
    "    print(np.shape(embeds),len(names))\n",
    "    \n",
    "    name_unique = np.unique(names)\n",
    "    \n",
    "#     label Encoder\n",
    "    labels = []\n",
    "    for i in range(len(names)):\n",
    "            for j in range(len(name_unique)):\n",
    "                if names[i]==name_unique[j]:\n",
    "                    labels.append(j)\n",
    "                    \n",
    "#     Training classifier\n",
    "    print('Training classifier')\n",
    "    model = SVC(kernel='linear',gamma=0.1, probability=True)\n",
    "    model.fit(embeds, labels)\n",
    "    with open(CLASSIFY_NAME, 'wb') as outfile:\n",
    "        pk.dump((model,name_unique), outfile)\n",
    "        print('Saved classifier model to file \"%s\"' % CLASSIFY_NAME)"
   ]
  },
  {
   "cell_type": "code",
   "execution_count": 42,
   "metadata": {},
   "outputs": [],
   "source": [
    "def classifyTrainLSVC(path=None):\n",
    "    embeds, names = load_embeddings_for_classfication()\n",
    "    \n",
    "    print(np.shape(embeds),len(names))\n",
    "    \n",
    "    name_unique = np.unique(names)\n",
    "    \n",
    "#     label Encoder\n",
    "    labels = []\n",
    "    for i in range(len(names)):\n",
    "            for j in range(len(name_unique)):\n",
    "                if names[i]==name_unique[j]:\n",
    "                    labels.append(j)\n",
    "                    \n",
    "#     Training classifier\n",
    "    print('Training classifier')\n",
    "    model = SVC(kernel='linear',gamma=0.1, probability=True)\n",
    "    model.fit(embeds, labels)\n",
    "    with open(LSVC_CLASSIFY, 'wb') as outfile:\n",
    "        pk.dump((model,name_unique), outfile)\n",
    "        print('Saved classifier model to file \"%s\"' % LSVC_CLASSIFY)"
   ]
  },
  {
   "cell_type": "markdown",
   "metadata": {},
   "source": [
    "### SGD Classifier to recognize the faces"
   ]
  },
  {
   "cell_type": "markdown",
   "metadata": {},
   "source": [
    "### One vs Many Multiclass classifier"
   ]
  },
  {
   "cell_type": "code",
   "execution_count": 43,
   "metadata": {},
   "outputs": [],
   "source": [
    "# SGD Classifier\n",
    "def classifyTrainSGD(path=None):\n",
    "    embeds, names = load_embeddings_for_classfication()\n",
    "    \n",
    "    print(np.shape(embeds),len(names))\n",
    "    \n",
    "    name_unique = np.unique(names)\n",
    "    \n",
    "#     label Encoder\n",
    "    labels = []\n",
    "    for i in range(len(names)):\n",
    "            for j in range(len(name_unique)):\n",
    "                if names[i]==name_unique[j]:\n",
    "                    labels.append(j)\n",
    "                    \n",
    "#     Training classifier\n",
    "    print('Training classifier')\n",
    "    model = SGDClassifier(loss='log')\n",
    "    model.fit(embeds,labels)\n",
    "    if path == None:\n",
    "        path=''\n",
    "    with open(SGD_CLASSIFY, 'wb') as outfile:\n",
    "        pk.dump((model,name_unique), outfile)\n",
    "        print('Saved classifier model to file \"%s\"' % SGD_CLASSIFY)"
   ]
  },
  {
   "cell_type": "code",
   "execution_count": 46,
   "metadata": {},
   "outputs": [],
   "source": [
    "def recognize(faces) -> List[Face]:\n",
    "    X = np.zeros((len(faces), EMBEDDING_SIZE), np.float32)\n",
    "    for i, f in enumerate(faces):\n",
    "        img = f.img.resize((FACE_PIC_SIZE, FACE_PIC_SIZE), Image.BICUBIC) if f.img.size != (FACE_PIC_SIZE, FACE_PIC_SIZE) else f.img\n",
    "\n",
    "        X[i, :] = embedding(img_to_np(img))\n",
    "\n",
    "    result = predict_KNN(X)\n",
    "    for f, r in zip(faces, result):\n",
    "        n, prob, c_list, c_prob = r\n",
    "        f.name = n\n",
    "        f.predict_proba = prob\n",
    "        f.predict_candidates = c_list\n",
    "        f.predict_candidates_proba = c_prob\n",
    "\n",
    "    return faces"
   ]
  },
  {
   "cell_type": "code",
   "execution_count": 57,
   "metadata": {},
   "outputs": [],
   "source": [
    "# two modes of input images\n",
    "# one images sprite modes and other images list mode\n",
    "# @name, @images_list, @num, @size\n",
    "def train_classifier(name, faces, num = None, size = None):\n",
    "    \n",
    "    if type(faces) != list:\n",
    "        if num == None or size == None:\n",
    "            raise RuntimeError('Empty @num and @Size parameter !')\n",
    "        \n",
    "    print(\"Adding new training data for: \", name, \"...\")\n",
    "\n",
    "#     # update classifier\n",
    "#     faces = []\n",
    "#     for i in range(int(num)):\n",
    "#         faces.append(image_sprite.crop((\n",
    "#             size * i,\n",
    "#             0,\n",
    "#             size * (i + 1),\n",
    "#             size\n",
    "#         )))\n",
    "    num = len(faces)\n",
    "    # do embedding for all faces\n",
    "    X = np.zeros((num, EMBEDDING_SIZE), np.float32)\n",
    "    for i, f in enumerate(faces):\n",
    "        X[i, :] = embedding(img_to_np(f))\n",
    "\n",
    "    # all example cames from single person\n",
    "    y = [name] * num\n",
    "    \n",
    "    save_embedding(X,name)\n",
    "    # do the actual update\n",
    "    add(X, y)\n",
    "\n",
    "    print('created embeddings of ',name,len(y))"
   ]
  },
  {
   "cell_type": "markdown",
   "metadata": {},
   "source": [
    "### Create embeddings from photos"
   ]
  },
  {
   "cell_type": "code",
   "execution_count": 48,
   "metadata": {},
   "outputs": [],
   "source": [
    "def create_embeddings_from_dataset(path='dataset'):\n",
    "    for filedir in os.listdir(os.path.join(os.getcwd(),path)):\n",
    "        img = []\n",
    "#         loop over list of faces to create embeddings\n",
    "        for filename in os.listdir(os.path.join(os.getcwd(),path,filedir)):\n",
    "            temp = Image.open(os.path.join(os.getcwd(),path,filedir,filename))\n",
    "            face = get_faces(temp)[0]\n",
    "            temp = temp.crop((face.x,face.y,face.x+face.w,face.y+face.h))\n",
    "            temp = temp.resize((160,160))\n",
    "            img.append(temp)\n",
    "            \n",
    "        num = len(img)\n",
    "        X = np.zeros((num, EMBEDDING_SIZE), np.float32)\n",
    "        for i, f in enumerate(img):\n",
    "            X[i, :] = embedding(img_to_np(f))\n",
    "            \n",
    "        save_embedding(X,filedir)"
   ]
  },
  {
   "cell_type": "markdown",
   "metadata": {},
   "source": [
    "### Save Embeddings during training of each image and providing user's name as embeddings filename"
   ]
  },
  {
   "cell_type": "code",
   "execution_count": 49,
   "metadata": {},
   "outputs": [],
   "source": [
    "def save_embedding(result,name,emb='embeddings'):\n",
    "    result = result\n",
    "    if name+'_'+CLUSTER in os.listdir(os.path.join(os.getcwd(),emb)):\n",
    "        with open(os.path.join(os.getcwd(),emb,name+'_'+CLUSTER),mode='rb') as fp:\n",
    "            result =  np.concatenate((result,pk.load(fp)))\n",
    "            print('saved embeddings of ',name,' ....')\n",
    "        \n",
    "    with open(os.path.join(os.getcwd(),emb,name+'_'+CLUSTER),mode='wb') as fp:\n",
    "        pk.dump(result,fp)"
   ]
  },
  {
   "cell_type": "markdown",
   "metadata": {},
   "source": [
    "### Always import Embeddings with this method At the start of the Application \n",
    "### Load Embeddings  to current model and update classifier with in an instant"
   ]
  },
  {
   "cell_type": "code",
   "execution_count": 50,
   "metadata": {},
   "outputs": [],
   "source": [
    "def load_embeddings_for_classfication(path='embeddings') -> ('embeddings','labels'):\n",
    "    X = []\n",
    "    Y = []\n",
    "    for filename  in os.listdir(os.path.join(os.getcwd(),path)):\n",
    "        name = filename.split('_')[0]\n",
    "        with open(os.path.join(os.getcwd(),path,filename),mode='rb') as fp:\n",
    "            x = pk.load(fp)\n",
    "            for emb in x:\n",
    "                X.append(emb)\n",
    "                Y.append(name)\n",
    "    \n",
    "    return X, Y"
   ]
  },
  {
   "cell_type": "markdown",
   "metadata": {},
   "source": [
    "### Training the classifier"
   ]
  },
  {
   "cell_type": "code",
   "execution_count": 48,
   "metadata": {},
   "outputs": [
    {
     "name": "stdout",
     "output_type": "stream",
     "text": [
      "saved embeddings of  Binayak Pokhrel  ....\n",
      "saved embeddings of  Bipin Kc  ....\n",
      "saved embeddings of  Sushil Ghimire  ....\n"
     ]
    }
   ],
   "source": [
    "create_embeddings_from_dataset()"
   ]
  },
  {
   "cell_type": "code",
   "execution_count": 49,
   "metadata": {},
   "outputs": [
    {
     "name": "stdout",
     "output_type": "stream",
     "text": [
      "(58, 512) 58\n",
      "Training classifier\n",
      "Saved classifier model to file \"SVM.SVC\"\n",
      "(58, 512) 58\n",
      "Training classifier\n",
      "Saved classifier model to file \"SGD.CLASS\"\n",
      "(58, 512) 58\n",
      "Training classifier\n",
      "Saved classifier model to file \"LSVC.CLASS\"\n"
     ]
    },
    {
     "name": "stderr",
     "output_type": "stream",
     "text": [
      "c:\\users\\welcome\\envs\\mltut\\lib\\site-packages\\sklearn\\linear_model\\stochastic_gradient.py:166: FutureWarning: max_iter and tol parameters have been added in SGDClassifier in 0.19. If both are left unset, they default to max_iter=5 and tol=None. If tol is not None, max_iter defaults to max_iter=1000. From 0.21, default max_iter will be 1000, and default tol will be 1e-3.\n",
      "  FutureWarning)\n"
     ]
    }
   ],
   "source": [
    "classifyTrainSVC()\n",
    "classifyTrainSGD()\n",
    "classifyTrainLSVC()"
   ]
  },
  {
   "cell_type": "markdown",
   "metadata": {},
   "source": [
    "### DEMO"
   ]
  },
  {
   "cell_type": "markdown",
   "metadata": {},
   "source": [
    "### Face Recognition "
   ]
  },
  {
   "cell_type": "markdown",
   "metadata": {},
   "source": [
    "### Face Recognition using KNN Classifier"
   ]
  },
  {
   "cell_type": "code",
   "execution_count": 99,
   "metadata": {},
   "outputs": [],
   "source": [
    "user_name = 'Anish Pandey'"
   ]
  },
  {
   "cell_type": "code",
   "execution_count": 100,
   "metadata": {
    "scrolled": false
   },
   "outputs": [
    {
     "data": {
      "image/png": "[encoded data removed]",
      "text/plain": [
       "<Figure size 432x288 with 1 Axes>"
      ]
     },
     "metadata": {
      "needs_background": "light"
     },
     "output_type": "display_data"
    },
    {
     "name": "stdout",
     "output_type": "stream",
     "text": [
      "(160, 160)\n",
      "1\n"
     ]
    },
    {
     "data": {
      "image/png": "[encoded data removed]",
      "text/plain": [
       "<Figure size 432x288 with 1 Axes>"
      ]
     },
     "metadata": {
      "needs_background": "light"
     },
     "output_type": "display_data"
    },
    {
     "name": "stdout",
     "output_type": "stream",
     "text": [
      "(160, 160)\n",
      "2\n"
     ]
    },
    {
     "data": {
      "image/png": "[encoded data removed]",
      "text/plain": [
       "<Figure size 432x288 with 1 Axes>"
      ]
     },
     "metadata": {
      "needs_background": "light"
     },
     "output_type": "display_data"
    },
    {
     "name": "stdout",
     "output_type": "stream",
     "text": [
      "(160, 160)\n",
      "3\n"
     ]
    },
    {
     "data": {
      "image/png": "[encoded data removed]",
      "text/plain": [
       "<Figure size 432x288 with 1 Axes>"
      ]
     },
     "metadata": {
      "needs_background": "light"
     },
     "output_type": "display_data"
    },
    {
     "name": "stdout",
     "output_type": "stream",
     "text": [
      "(160, 160)\n",
      "4\n",
      "Adding new training data for:  Anish Pandey ...\n",
      "saved embeddings of  Anish Pandey  ....\n"
     ]
    },
    {
     "ename": "TypeError",
     "evalue": "with_traceback() takes exactly one argument (0 given)",
     "output_type": "error",
     "traceback": [
      "\u001b[1;31m---------------------------------------------------------------------------\u001b[0m",
      "\u001b[1;31mAttributeError\u001b[0m                            Traceback (most recent call last)",
      "\u001b[1;32m<ipython-input-100-766b4c13f7af>\u001b[0m in \u001b[0;36m<module>\u001b[1;34m\u001b[0m\n\u001b[0;32m     20\u001b[0m         \u001b[1;32mif\u001b[0m \u001b[0mk\u001b[0m \u001b[1;33m==\u001b[0m \u001b[0mord\u001b[0m\u001b[1;33m(\u001b[0m\u001b[1;34m't'\u001b[0m\u001b[1;33m)\u001b[0m\u001b[1;33m:\u001b[0m\u001b[1;33m\u001b[0m\u001b[1;33m\u001b[0m\u001b[0m\n\u001b[1;32m---> 21\u001b[1;33m             \u001b[0mprint\u001b[0m\u001b[1;33m(\u001b[0m\u001b[0mtrain_classifier\u001b[0m\u001b[1;33m(\u001b[0m\u001b[0muser_name\u001b[0m\u001b[1;33m,\u001b[0m \u001b[0mimages\u001b[0m\u001b[1;33m)\u001b[0m\u001b[1;33m)\u001b[0m\u001b[1;33m\u001b[0m\u001b[1;33m\u001b[0m\u001b[0m\n\u001b[0m\u001b[0;32m     22\u001b[0m \u001b[1;33m\u001b[0m\u001b[0m\n",
      "\u001b[1;32m<ipython-input-44-6dd2970efad3>\u001b[0m in \u001b[0;36mtrain_classifier\u001b[1;34m(name, faces, num, size)\u001b[0m\n\u001b[0;32m     31\u001b[0m     \u001b[1;31m# do the actual update\u001b[0m\u001b[1;33m\u001b[0m\u001b[1;33m\u001b[0m\u001b[1;33m\u001b[0m\u001b[0m\n\u001b[1;32m---> 32\u001b[1;33m     \u001b[0madd\u001b[0m\u001b[1;33m(\u001b[0m\u001b[0mX\u001b[0m\u001b[1;33m,\u001b[0m \u001b[0my\u001b[0m\u001b[1;33m)\u001b[0m\u001b[1;33m\u001b[0m\u001b[1;33m\u001b[0m\u001b[0m\n\u001b[0m\u001b[0;32m     33\u001b[0m \u001b[1;33m\u001b[0m\u001b[0m\n",
      "\u001b[1;32m<ipython-input-42-51f048a208b8>\u001b[0m in \u001b[0;36madd\u001b[1;34m(new_X, new_y)\u001b[0m\n\u001b[0;32m      2\u001b[0m     \u001b[1;32mglobal\u001b[0m \u001b[0mX\u001b[0m\u001b[1;33m,\u001b[0m \u001b[0my\u001b[0m\u001b[1;33m,\u001b[0m \u001b[0mmodel\u001b[0m\u001b[1;33m\u001b[0m\u001b[1;33m\u001b[0m\u001b[0m\n\u001b[1;32m----> 3\u001b[1;33m     \u001b[0mX\u001b[0m\u001b[1;33m.\u001b[0m\u001b[0mextend\u001b[0m\u001b[1;33m(\u001b[0m\u001b[0mnew_X\u001b[0m\u001b[1;33m)\u001b[0m\u001b[1;33m\u001b[0m\u001b[1;33m\u001b[0m\u001b[0m\n\u001b[0m\u001b[0;32m      4\u001b[0m     \u001b[0my\u001b[0m\u001b[1;33m.\u001b[0m\u001b[0mextend\u001b[0m\u001b[1;33m(\u001b[0m\u001b[0mnew_y\u001b[0m\u001b[1;33m)\u001b[0m\u001b[1;33m\u001b[0m\u001b[1;33m\u001b[0m\u001b[0m\n",
      "\u001b[1;31mAttributeError\u001b[0m: 'numpy.ndarray' object has no attribute 'extend'",
      "\nDuring handling of the above exception, another exception occurred:\n",
      "\u001b[1;31mTypeError\u001b[0m                                 Traceback (most recent call last)",
      "\u001b[1;32m<ipython-input-100-766b4c13f7af>\u001b[0m in \u001b[0;36m<module>\u001b[1;34m\u001b[0m\n\u001b[0;32m     40\u001b[0m         \u001b[0mcv2\u001b[0m\u001b[1;33m.\u001b[0m\u001b[0mimshow\u001b[0m\u001b[1;33m(\u001b[0m\u001b[1;34m'face'\u001b[0m\u001b[1;33m,\u001b[0m\u001b[0mimg\u001b[0m\u001b[1;33m)\u001b[0m\u001b[1;33m\u001b[0m\u001b[1;33m\u001b[0m\u001b[0m\n\u001b[0;32m     41\u001b[0m \u001b[1;32mexcept\u001b[0m \u001b[0mException\u001b[0m \u001b[1;32mas\u001b[0m  \u001b[0merr\u001b[0m\u001b[1;33m:\u001b[0m\u001b[1;33m\u001b[0m\u001b[1;33m\u001b[0m\u001b[0m\n\u001b[1;32m---> 42\u001b[1;33m     \u001b[0mprint\u001b[0m\u001b[1;33m(\u001b[0m\u001b[0merr\u001b[0m\u001b[1;33m.\u001b[0m\u001b[0mwith_traceback\u001b[0m\u001b[1;33m(\u001b[0m\u001b[1;33m)\u001b[0m\u001b[1;33m)\u001b[0m\u001b[1;33m\u001b[0m\u001b[1;33m\u001b[0m\u001b[0m\n\u001b[0m\u001b[0;32m     43\u001b[0m     \u001b[0mprint\u001b[0m\u001b[1;33m(\u001b[0m\u001b[1;34m'This is Error Occur !'\u001b[0m\u001b[1;33m)\u001b[0m\u001b[1;33m\u001b[0m\u001b[1;33m\u001b[0m\u001b[0m\n\u001b[0;32m     44\u001b[0m \u001b[1;32mfinally\u001b[0m\u001b[1;33m:\u001b[0m\u001b[1;33m\u001b[0m\u001b[1;33m\u001b[0m\u001b[0m\n",
      "\u001b[1;31mTypeError\u001b[0m: with_traceback() takes exactly one argument (0 given)"
     ]
    }
   ],
   "source": [
    "capture = cv2.VideoCapture(0)\n",
    "cv2.namedWindow(\"test\")\n",
    "# cv2.namedWindow(\"test\")\n",
    "images = []\n",
    "try:\n",
    "    while (capture.isOpened()):\n",
    "        ret, img = capture.read()\n",
    "        img = cv2.flip(img, 1)\n",
    "        if img is None:\n",
    "            continue\n",
    "\n",
    "        k = cv2.waitKey(1)\n",
    "\n",
    "        if k%256 == 27:\n",
    "#             ESC pressed\n",
    "            print(\"Escape hit, closing...\")\n",
    "            break\n",
    "            \n",
    "#             T keyword pressed\n",
    "        if k == ord('t'):\n",
    "            print(train_classifier(user_name, images))\n",
    "\n",
    "#             space pressed\n",
    "        if k%256 == 32:\n",
    "            plt.figure()\n",
    "            plt.subplot()\n",
    "            image  = Image.fromarray(cv2.cvtColor(img,cv2.COLOR_BGR2RGB))\n",
    "            face = get_faces(image)[0]\n",
    "            coords = (face.x,face.y,face.x+face.w,face.y+face.h)\n",
    "            image = image.crop(coords)\n",
    "            plt.imshow(image)\n",
    "            plt.show()\n",
    "#             very very important resize to 160 by 160 before feeding it to network\n",
    "            image = image.resize((160,160))\n",
    "            print(image.size)\n",
    "            images.append(image)\n",
    "            print(len(images))\n",
    "            \n",
    "#         Initialize video writing\n",
    "        cv2.imshow('face',img)\n",
    "except Exception as  err:\n",
    "    print(err.with_traceback())\n",
    "    print('This is Error Occur !')\n",
    "finally:\n",
    "    images = []\n",
    "    capture.release()\n",
    "    cv2.destroyAllWindows()"
   ]
  },
  {
   "cell_type": "markdown",
   "metadata": {},
   "source": [
    "### Face Recognition Using SVM classifier"
   ]
  },
  {
   "cell_type": "markdown",
   "metadata": {},
   "source": [
    "### SVM using Linear Kernel"
   ]
  },
  {
   "cell_type": "code",
   "execution_count": 102,
   "metadata": {},
   "outputs": [
    {
     "name": "stdout",
     "output_type": "stream",
     "text": [
      " Best class Probablity is  [0.41902524]\n",
      "['Sushil Ghimire']\n",
      " Best class Probablity is  [0.46685432]\n",
      "['Bipin Kc']\n",
      " Best class Probablity is  [0.49483558]\n",
      "['Sushil Ghimire']\n",
      " Best class Probablity is  [0.37123471]\n",
      "['Sushil Ghimire']\n",
      " Best class Probablity is  [0.46105924]\n",
      "['Sushil Ghimire']\n",
      " Best class Probablity is  [0.56280504]\n",
      "['Binayak Pokhrel']\n",
      " Best class Probablity is  [0.3221611]\n",
      "['Anish Pandey']\n",
      " Best class Probablity is  [0.49273738]\n",
      "['Anish Pandey']\n",
      " Best class Probablity is  [0.72948074]\n",
      "['Anish Pandey']\n",
      " Best class Probablity is  [0.4395955]\n",
      "['Sushil Ghimire']\n",
      " Best class Probablity is  [0.42812279]\n",
      "['Sushil Ghimire']\n",
      " Best class Probablity is  [0.56295502]\n",
      "['Binayak Pokhrel']\n",
      " Best class Probablity is  [0.41308357]\n",
      "['Sushil Ghimire']\n",
      " Best class Probablity is  [0.55029186]\n",
      "['Anish Pandey']\n",
      " Best class Probablity is  [0.44373995]\n",
      "['Sushil Ghimire']\n",
      " Best class Probablity is  [0.65877141]\n",
      "['Anish Pandey']\n",
      " Best class Probablity is  [0.59899842]\n",
      "['Anish Pandey']\n",
      " Best class Probablity is  [0.55884817]\n",
      "['Anish Pandey']\n",
      " Best class Probablity is  [0.43249477]\n",
      "['Bipin Kc']\n",
      " Best class Probablity is  [0.52777049]\n",
      "['Anish Pandey']\n",
      " Best class Probablity is  [0.43016949]\n",
      "['Anish Pandey']\n",
      " Best class Probablity is  [0.59698064]\n",
      "['Anish Pandey']\n",
      " Best class Probablity is  [0.42832461]\n",
      "['Sushil Ghimire']\n",
      " Best class Probablity is  [0.48199529]\n",
      "['Anish Pandey']\n",
      " Best class Probablity is  [0.27479043]\n",
      "['Binayak Pokhrel']\n",
      " Best class Probablity is  [0.59519508]\n",
      "['Anish Pandey']\n",
      " Best class Probablity is  [0.33495979]\n",
      "['Sushil Ghimire']\n",
      " Best class Probablity is  [0.80612597]\n",
      "['Anish Pandey']\n",
      " Best class Probablity is  [0.82224402]\n",
      "['Anish Pandey']\n",
      " Best class Probablity is  [0.77553166]\n",
      "['Anish Pandey']\n",
      " Best class Probablity is  [0.77999623]\n",
      "['Anish Pandey']\n",
      " Best class Probablity is  [0.61435568]\n",
      "['Anish Pandey']\n",
      " Best class Probablity is  [0.58180147]\n",
      "['Anish Pandey']\n",
      " Best class Probablity is  [0.85483681]\n",
      "['Anish Pandey']\n",
      " Best class Probablity is  [0.34655773]\n",
      "['Bipin Kc']\n",
      " Best class Probablity is  [0.45158634]\n",
      "['Anish Pandey']\n",
      "Escape hit, closing...\n"
     ]
    }
   ],
   "source": [
    "capture = cv2.VideoCapture(0)\n",
    "cv2.namedWindow(\"test\")\n",
    "with open(LSVC_CLASSIFY, 'rb') as infile:\n",
    "    (classifymodel, class_names) = pk.load(infile)\n",
    "try:\n",
    "    while (capture.isOpened()):\n",
    "        t1 = cv2.getTickCount()\n",
    "        ret, img = capture.read()\n",
    "#         img = cv2.flip(img, 1)\n",
    "\n",
    "        if img is None:\n",
    "            continue\n",
    "\n",
    "        k = cv2.waitKey(1)\n",
    "\n",
    "        if k%256 == 27:\n",
    "#             ESC pressed\n",
    "            print(\"Escape hit, closing...\")\n",
    "            break\n",
    "        \n",
    "#         faces = get_faces(Image.fromarray(cv2.cvtColor(img,cv2.COLOR_BGR2RGB)))\n",
    "        faces = get_faces(Image.fromarray(cv2.cvtColor(img,cv2.COLOR_BGR2RGB)))\n",
    "        t2 = cv2.getTickCount()\n",
    "        t = (t2 - t1) / cv2.getTickFrequency()\n",
    "        fps = 1.0 / t\n",
    "        cv2.putText(img, '{:.4f}'.format(t) + \" \" + '{:.3f}'.format(fps), (10, 20), cv2.FONT_HERSHEY_SIMPLEX, 0.5,\n",
    "                    (255, 0, 255), 2)\n",
    "        \n",
    "        for face in faces:\n",
    "            tmp = Image.fromarray(cv2.cvtColor(img,cv2.COLOR_BGR2RGB))\n",
    "            tmp = tmp.crop((face.x,face.y,face.x+face.w,face.y+face.h)).resize((160,160))\n",
    "            \n",
    "            embvector = embedding(img_to_np(tmp))\n",
    "            embvector = embvector.reshape(1, -1)\n",
    "            predictions = classifymodel.predict_proba(embvector)\n",
    "#             print(predictions)\n",
    "            best_class_indices = np.argmax(predictions, axis=1)\n",
    "            tmp_lable=class_names[best_class_indices]\n",
    "            best_class_probabilities = predictions[np.arange(len(best_class_indices)), best_class_indices]\n",
    "            print(' Best class Probablity is ',best_class_probabilities)\n",
    "            print(tmp_lable)\n",
    "            if best_class_probabilities <= 0.64:\n",
    "                tmp_lable=[\"others\"]\n",
    "            cv2.rectangle(img, (int(face.x), int(face.y)), (int(face.x+face.w), int(face.y+face.h)), (0,155,255), 2)\n",
    "            cv2.putText(img, tmp_lable[0], (int(face.x), int(face.y)), cv2.FONT_HERSHEY_SIMPLEX, 0.5, (255, 0, 255), 2)\n",
    "# #             print(face.data())\n",
    "        cv2.imshow('face',img)\n",
    "except Exception as  err:\n",
    "    print(err.with_traceback())\n",
    "    print('This is Error Occur !')\n",
    "finally:\n",
    "    images = []\n",
    "    capture.release()\n",
    "    cv2.destroyAllWindows()"
   ]
  },
  {
   "cell_type": "markdown",
   "metadata": {},
   "source": [
    "### SVM using RBF kernel"
   ]
  },
  {
   "cell_type": "code",
   "execution_count": 55,
   "metadata": {},
   "outputs": [
    {
     "name": "stdout",
     "output_type": "stream",
     "text": [
      "[[0.09420967 0.49027508 0.17888091 0.23663434]]\n",
      " Best class Probablity is  [0.49027508]\n",
      "['Binayak Pokhrel']\n",
      "[[0.23193821 0.29154287 0.046037   0.43048193]]\n",
      " Best class Probablity is  [0.43048193]\n",
      "['Sushil Ghimire']\n",
      "[[0.33219911 0.16728768 0.08311438 0.41739884]]\n",
      " Best class Probablity is  [0.41739884]\n",
      "['Sushil Ghimire']\n",
      "[[0.10354072 0.3738767  0.25763425 0.26494834]]\n",
      " Best class Probablity is  [0.3738767]\n",
      "['Binayak Pokhrel']\n",
      "[[0.26228753 0.0671846  0.12336682 0.54716106]]\n",
      " Best class Probablity is  [0.54716106]\n",
      "['Sushil Ghimire']\n",
      "[[0.18416084 0.31639053 0.12005173 0.37939691]]\n",
      " Best class Probablity is  [0.37939691]\n",
      "['Sushil Ghimire']\n",
      "[[0.32132267 0.09776252 0.11652498 0.46438983]]\n",
      " Best class Probablity is  [0.46438983]\n",
      "['Sushil Ghimire']\n",
      "[[0.17773563 0.36569069 0.16654957 0.29002411]]\n",
      " Best class Probablity is  [0.36569069]\n",
      "['Binayak Pokhrel']\n",
      "[[0.32779437 0.14605439 0.14580015 0.38035109]]\n",
      " Best class Probablity is  [0.38035109]\n",
      "['Sushil Ghimire']\n",
      "[[0.10125878 0.58253355 0.15379748 0.16241019]]\n",
      " Best class Probablity is  [0.58253355]\n",
      "['Binayak Pokhrel']\n",
      "[[0.29991439 0.11117297 0.07857225 0.51034039]]\n",
      " Best class Probablity is  [0.51034039]\n",
      "['Sushil Ghimire']\n",
      "[[0.20311055 0.38482942 0.23836183 0.17369821]]\n",
      " Best class Probablity is  [0.38482942]\n",
      "['Binayak Pokhrel']\n",
      "[[0.20982309 0.14345239 0.05581525 0.59090927]]\n",
      " Best class Probablity is  [0.59090927]\n",
      "['Sushil Ghimire']\n",
      "[[0.15131344 0.2960767  0.41246339 0.14014647]]\n",
      " Best class Probablity is  [0.41246339]\n",
      "['Bipin Kc']\n",
      "[[0.2670286  0.16961332 0.06490865 0.49844943]]\n",
      " Best class Probablity is  [0.49844943]\n",
      "['Sushil Ghimire']\n",
      "[[0.10971155 0.36851236 0.25990073 0.26187535]]\n",
      " Best class Probablity is  [0.36851236]\n",
      "['Binayak Pokhrel']\n",
      "[[0.34770301 0.07891482 0.09521552 0.47816665]]\n",
      " Best class Probablity is  [0.47816665]\n",
      "['Sushil Ghimire']\n",
      "[[0.246758   0.12193728 0.13160599 0.49969873]]\n",
      " Best class Probablity is  [0.49969873]\n",
      "['Sushil Ghimire']\n",
      "[[0.23416991 0.35977367 0.15711913 0.24893729]]\n",
      " Best class Probablity is  [0.35977367]\n",
      "['Binayak Pokhrel']\n",
      "[[0.35817457 0.11639801 0.08896568 0.43646174]]\n",
      " Best class Probablity is  [0.43646174]\n",
      "['Sushil Ghimire']\n",
      "[[0.12471181 0.12486225 0.57487146 0.17555449]]\n",
      " Best class Probablity is  [0.57487146]\n",
      "['Bipin Kc']\n",
      "[[0.14914754 0.34292806 0.06530913 0.44261527]]\n",
      " Best class Probablity is  [0.44261527]\n",
      "['Sushil Ghimire']\n",
      "[[0.31490863 0.15462694 0.20771879 0.32274564]]\n",
      " Best class Probablity is  [0.32274564]\n",
      "['Sushil Ghimire']\n",
      "[[0.13091332 0.39322814 0.10690664 0.3689519 ]]\n",
      " Best class Probablity is  [0.39322814]\n",
      "['Binayak Pokhrel']\n",
      "[[0.14038295 0.15598109 0.19603007 0.5076059 ]]\n",
      " Best class Probablity is  [0.5076059]\n",
      "['Sushil Ghimire']\n",
      "[[0.37428177 0.14889533 0.29110388 0.18571902]]\n",
      " Best class Probablity is  [0.37428177]\n",
      "['Anish Pandey']\n",
      "[[0.11615859 0.29140702 0.08164719 0.51078719]]\n",
      " Best class Probablity is  [0.51078719]\n",
      "['Sushil Ghimire']\n",
      "[[0.14752645 0.16348236 0.20311727 0.48587392]]\n",
      " Best class Probablity is  [0.48587392]\n",
      "['Sushil Ghimire']\n",
      "[[0.11563479 0.45553726 0.05578291 0.37304503]]\n",
      " Best class Probablity is  [0.45553726]\n",
      "['Binayak Pokhrel']\n",
      "[[0.08066905 0.31370706 0.15849362 0.44713027]]\n",
      " Best class Probablity is  [0.44713027]\n",
      "['Sushil Ghimire']\n",
      "[[0.34915033 0.13078616 0.38023219 0.13983132]]\n",
      " Best class Probablity is  [0.38023219]\n",
      "['Bipin Kc']\n",
      "[[0.10775378 0.44808976 0.04801368 0.39614278]]\n",
      " Best class Probablity is  [0.44808976]\n",
      "['Binayak Pokhrel']\n",
      "[[0.05092688 0.30328172 0.09077415 0.55501725]]\n",
      " Best class Probablity is  [0.55501725]\n",
      "['Sushil Ghimire']\n",
      "[[0.20141126 0.28672612 0.08197229 0.42989033]]\n",
      " Best class Probablity is  [0.42989033]\n",
      "['Sushil Ghimire']\n",
      "[[0.11643058 0.3263095  0.33014233 0.2271176 ]]\n",
      " Best class Probablity is  [0.33014233]\n",
      "['Bipin Kc']\n",
      "[[0.22183125 0.35638702 0.09473567 0.32704607]]\n",
      " Best class Probablity is  [0.35638702]\n",
      "['Binayak Pokhrel']\n",
      "[[0.18972173 0.38970877 0.18230501 0.23826449]]\n",
      " Best class Probablity is  [0.38970877]\n",
      "['Binayak Pokhrel']\n",
      "[[0.18528817 0.25141087 0.05428944 0.50901152]]\n",
      " Best class Probablity is  [0.50901152]\n",
      "['Sushil Ghimire']\n",
      "[[0.23991666 0.15194055 0.2500028  0.35813999]]\n",
      " Best class Probablity is  [0.35813999]\n",
      "['Sushil Ghimire']\n",
      "[[0.22295337 0.21214233 0.08598557 0.47891873]]\n",
      " Best class Probablity is  [0.47891873]\n",
      "['Sushil Ghimire']\n",
      "[[0.12068397 0.34043475 0.36446835 0.17441293]]\n",
      " Best class Probablity is  [0.36446835]\n",
      "['Bipin Kc']\n",
      "[[0.20317503 0.08438632 0.49080404 0.2216346 ]]\n",
      " Best class Probablity is  [0.49080404]\n",
      "['Bipin Kc']\n",
      "[[0.20086725 0.26876828 0.08580967 0.4445548 ]]\n",
      " Best class Probablity is  [0.4445548]\n",
      "['Sushil Ghimire']\n",
      "[[0.21602475 0.26118944 0.08517345 0.43761235]]\n",
      " Best class Probablity is  [0.43761235]\n",
      "['Sushil Ghimire']\n",
      "[[0.37681422 0.31266279 0.1529743  0.15754869]]\n",
      " Best class Probablity is  [0.37681422]\n",
      "['Anish Pandey']\n",
      "[[0.2070136  0.3373062  0.07247044 0.38320977]]\n",
      " Best class Probablity is  [0.38320977]\n",
      "['Sushil Ghimire']\n",
      "[[0.20171859 0.40133747 0.17941687 0.21752707]]\n",
      " Best class Probablity is  [0.40133747]\n",
      "['Binayak Pokhrel']\n",
      "[[0.23848003 0.18292169 0.06760563 0.51099264]]\n",
      " Best class Probablity is  [0.51099264]\n",
      "['Sushil Ghimire']\n",
      "[[0.22647352 0.3473117  0.15829656 0.26791822]]\n",
      " Best class Probablity is  [0.3473117]\n",
      "['Binayak Pokhrel']\n",
      "[[0.24646333 0.06598194 0.22506658 0.46248814]]\n",
      " Best class Probablity is  [0.46248814]\n",
      "['Sushil Ghimire']\n",
      "[[0.11970875 0.33015799 0.17282711 0.37730616]]\n",
      " Best class Probablity is  [0.37730616]\n",
      "['Sushil Ghimire']\n",
      "[[0.29386712 0.07844911 0.12819647 0.4994873 ]]\n",
      " Best class Probablity is  [0.4994873]\n",
      "['Sushil Ghimire']\n",
      "[[0.15773987 0.31668926 0.31122368 0.2143472 ]]\n",
      " Best class Probablity is  [0.31668926]\n",
      "['Binayak Pokhrel']\n",
      "[[0.58856681 0.05906816 0.04215732 0.31020771]]\n",
      " Best class Probablity is  [0.58856681]\n",
      "['Anish Pandey']\n",
      "[[0.18784404 0.3125035  0.30235907 0.19729339]]\n",
      " Best class Probablity is  [0.3125035]\n",
      "['Binayak Pokhrel']\n",
      "Escape hit, closing...\n"
     ]
    }
   ],
   "source": [
    "capture = cv2.VideoCapture(0)\n",
    "cv2.namedWindow(\"test\")\n",
    "with open(CLASSIFY_NAME, 'rb') as infile:\n",
    "    (classifymodel, class_names) = pk.load(infile)\n",
    "try:\n",
    "    while (capture.isOpened()):\n",
    "        t1 = cv2.getTickCount()\n",
    "        ret, img = capture.read()\n",
    "#         img = cv2.flip(img, 1)\n",
    "\n",
    "        if img is None:\n",
    "            continue\n",
    "\n",
    "        k = cv2.waitKey(1)\n",
    "\n",
    "        if k%256 == 27:\n",
    "#             ESC pressed\n",
    "            print(\"Escape hit, closing...\")\n",
    "            break\n",
    "        \n",
    "#         faces = get_faces(Image.fromarray(cv2.cvtColor(img,cv2.COLOR_BGR2RGB)))\n",
    "        faces = get_faces(Image.fromarray(cv2.cvtColor(img,cv2.COLOR_BGR2RGB)))\n",
    "        t2 = cv2.getTickCount()\n",
    "        t = (t2 - t1) / cv2.getTickFrequency()\n",
    "        fps = 1.0 / t\n",
    "        cv2.putText(img, '{:.4f}'.format(t) + \" \" + '{:.3f}'.format(fps), (10, 20), cv2.FONT_HERSHEY_SIMPLEX, 0.5,\n",
    "                    (255, 0, 255), 2)\n",
    "        \n",
    "        for face in faces:\n",
    "            tmp = Image.fromarray(cv2.cvtColor(img,cv2.COLOR_BGR2RGB))\n",
    "            tmp = tmp.crop((face.x,face.y,face.x+face.w,face.y+face.h)).resize((160,160))\n",
    "            \n",
    "            embvector = embedding(img_to_np(tmp))\n",
    "            embvector = embvector.reshape(1, -1)\n",
    "            predictions = classifymodel.predict_proba(embvector)\n",
    "            print(predictions)\n",
    "            best_class_indices = np.argmax(predictions, axis=1)\n",
    "            tmp_lable=class_names[best_class_indices]\n",
    "            best_class_probabilities = predictions[np.arange(len(best_class_indices)), best_class_indices]\n",
    "            print(' Best class Probablity is ',best_class_probabilities)\n",
    "            print(tmp_lable)\n",
    "            if best_class_probabilities <= 0.56:\n",
    "                tmp_lable=[\"others\"]\n",
    "            cv2.rectangle(img, (int(face.x), int(face.y)), (int(face.x+face.w), int(face.y+face.h)), (0,155,255), 2)\n",
    "            cv2.putText(img, tmp_lable[0], (int(face.x), int(face.y)), cv2.FONT_HERSHEY_SIMPLEX, 0.5, (255, 0, 255), 2)\n",
    "# #             print(face.data())\n",
    "        cv2.imshow('face',img)\n",
    "except Exception as  err:\n",
    "    print(err.with_traceback())\n",
    "    print('This is Error Occur !')\n",
    "finally:\n",
    "    images = []\n",
    "    capture.release()\n",
    "    cv2.destroyAllWindows()"
   ]
  },
  {
   "cell_type": "markdown",
   "metadata": {},
   "source": [
    "### your Face similarlity Probablity with Iron Man with SVM"
   ]
  },
  {
   "cell_type": "code",
   "execution_count": 57,
   "metadata": {},
   "outputs": [
    {
     "name": "stdout",
     "output_type": "stream",
     "text": [
      "Your face Similarlity with Iron man is :\n",
      "[]\n",
      "Your face Similarlity with Iron man is :\n",
      "[]\n",
      "Your face Similarlity with Iron man is :\n",
      "[]\n",
      "Your face Similarlity with Iron man is :\n",
      "[]\n",
      "Your face Similarlity with Iron man is :\n",
      "[]\n",
      "Escape hit, closing...\n"
     ]
    }
   ],
   "source": [
    "capture = cv2.VideoCapture(0)\n",
    "cv2.namedWindow(\"test\")\n",
    "with open(CLASSIFY_NAME, 'rb') as infile:\n",
    "    (classifymodel, class_names) = pk.load(infile)\n",
    "try:\n",
    "    while (capture.isOpened()):\n",
    "        t1 = cv2.getTickCount()\n",
    "        ret, img = capture.read()\n",
    "#         img = cv2.flip(img, 1)\n",
    "\n",
    "        if img is None:\n",
    "            continue\n",
    "\n",
    "        k = cv2.waitKey(1)\n",
    "\n",
    "        if k%256 == 27:\n",
    "#             ESC pressed\n",
    "            print(\"Escape hit, closing...\")\n",
    "            break\n",
    "        \n",
    "#         faces = get_faces(Image.fromarray(cv2.cvtColor(img,cv2.COLOR_BGR2RGB)))\n",
    "        faces = get_faces(Image.fromarray(cv2.cvtColor(img,cv2.COLOR_BGR2RGB)))\n",
    "        t2 = cv2.getTickCount()\n",
    "        t = (t2 - t1) / cv2.getTickFrequency()\n",
    "        fps = 1.0 / t\n",
    "        cv2.putText(img, '{:.4f}'.format(t) + \" \" + '{:.3f}'.format(fps), (10, 20), cv2.FONT_HERSHEY_SIMPLEX, 0.5,\n",
    "                    (255, 0, 255), 2)\n",
    "        \n",
    "        for face in faces:\n",
    "            tmp = Image.fromarray(cv2.cvtColor(img,cv2.COLOR_BGR2RGB))\n",
    "            tmp = tmp.crop((face.x,face.y,face.x+face.w,face.y+face.h)).resize((160,160))\n",
    "            \n",
    "            embvector = embedding(img_to_np(tmp))\n",
    "            embvector = embvector.reshape(1, -1)\n",
    "            predictions = classifymodel.predict_proba(embvector)\n",
    "            iron_man_id = np.where(class_names=='Iron Man')\n",
    "            print('Your face Similarlity with Iron man is :',)\n",
    "            print(predictions[0][iron_man_id])\n",
    "            best_class_indices = np.argmax(predictions, axis=1)\n",
    "            tmp_lable=class_names[best_class_indices]\n",
    "            best_class_probabilities = predictions[np.arange(len(best_class_indices)), best_class_indices]\n",
    "#             print(' Best class Probablity is ',best_class_probabilities)\n",
    "#             print(tmp_lable)\n",
    "            if best_class_probabilities <= 0.68:\n",
    "                tmp_lable=[\"others\"]\n",
    "            cv2.rectangle(img, (int(face.x), int(face.y)), (int(face.x+face.w), int(face.y+face.h)), (0,155,255), 2)\n",
    "            cv2.putText(img, tmp_lable[0], (int(face.x), int(face.y)), cv2.FONT_HERSHEY_SIMPLEX, 0.5, (255, 0, 255), 2)\n",
    "# #             print(face.data())\n",
    "        cv2.imshow('face',img)\n",
    "except Exception as  err:\n",
    "    print(err.with_traceback())\n",
    "    print('This is Error Occur !')\n",
    "finally:\n",
    "    images = []\n",
    "    capture.release()\n",
    "    cv2.destroyAllWindows()"
   ]
  },
  {
   "cell_type": "markdown",
   "metadata": {},
   "source": [
    "### Face Recognization using SGD Classifier"
   ]
  },
  {
   "cell_type": "code",
   "execution_count": 58,
   "metadata": {},
   "outputs": [
    {
     "name": "stdout",
     "output_type": "stream",
     "text": [
      " Best class Probablity is  [0.78293927]\n",
      "['Sushil Ghimire']\n",
      " Best class Probablity is  [0.90262419]\n",
      "['Sushil Ghimire']\n",
      " Best class Probablity is  [0.9530678]\n",
      "['Sushil Ghimire']\n",
      " Best class Probablity is  [0.66675229]\n",
      "['Binayak Pokhrel']\n",
      " Best class Probablity is  [0.93336929]\n",
      "['Sushil Ghimire']\n",
      " Best class Probablity is  [0.90816962]\n",
      "['Sushil Ghimire']\n",
      " Best class Probablity is  [0.97773825]\n",
      "['Sushil Ghimire']\n",
      " Best class Probablity is  [0.77258516]\n",
      "['Sushil Ghimire']\n",
      " Best class Probablity is  [0.96500486]\n",
      "['Sushil Ghimire']\n",
      " Best class Probablity is  [0.93439719]\n",
      "['Binayak Pokhrel']\n",
      " Best class Probablity is  [0.83594198]\n",
      "['Sushil Ghimire']\n",
      " Best class Probablity is  [0.98657848]\n",
      "['Binayak Pokhrel']\n",
      " Best class Probablity is  [0.70022676]\n",
      "['Sushil Ghimire']\n",
      " Best class Probablity is  [0.97009898]\n",
      "['Binayak Pokhrel']\n",
      " Best class Probablity is  [0.99701964]\n",
      "['Binayak Pokhrel']\n",
      " Best class Probablity is  [0.90392908]\n",
      "['Sushil Ghimire']\n",
      " Best class Probablity is  [0.99795064]\n",
      "['Binayak Pokhrel']\n",
      " Best class Probablity is  [0.95975082]\n",
      "['Sushil Ghimire']\n",
      " Best class Probablity is  [0.7496525]\n",
      "['Sushil Ghimire']\n",
      " Best class Probablity is  [0.98417187]\n",
      "['Binayak Pokhrel']\n",
      " Best class Probablity is  [0.83460097]\n",
      "['Sushil Ghimire']\n",
      " Best class Probablity is  [0.99894791]\n",
      "['Binayak Pokhrel']\n",
      " Best class Probablity is  [0.95624876]\n",
      "['Sushil Ghimire']\n",
      " Best class Probablity is  [0.99887122]\n",
      "['Binayak Pokhrel']\n",
      " Best class Probablity is  [0.99404698]\n",
      "['Binayak Pokhrel']\n",
      " Best class Probablity is  [0.87451751]\n",
      "['Sushil Ghimire']\n",
      "Escape hit, closing...\n"
     ]
    }
   ],
   "source": [
    "capture = cv2.VideoCapture(0)\n",
    "\n",
    "cv2.namedWindow(\"test\")\n",
    "with open(SGD_CLASSIFY, 'rb') as infile:\n",
    "    (classifymodel, class_names) = pk.load(infile)\n",
    "try:\n",
    "    while (capture.isOpened()):\n",
    "        t1 = cv2.getTickCount()\n",
    "        ret, img = capture.read()\n",
    "#         img = cv2.flip(img, 1)\n",
    "\n",
    "        if img is None:\n",
    "            continue\n",
    "\n",
    "        k = cv2.waitKey(1)\n",
    "\n",
    "        if k%256 == 27:\n",
    "#             ESC pressed\n",
    "            print(\"Escape hit, closing...\")\n",
    "            break\n",
    "        \n",
    "#         faces = get_faces(Image.fromarray(cv2.cvtColor(img,cv2.COLOR_BGR2RGB)))\n",
    "        faces = get_faces(Image.fromarray(cv2.cvtColor(img,cv2.COLOR_BGR2RGB)))\n",
    "        t2 = cv2.getTickCount()\n",
    "        t = (t2 - t1) / cv2.getTickFrequency()\n",
    "        fps = 1.0 / t\n",
    "        cv2.putText(img, '{:.4f}'.format(t) + \" \" + '{:.3f}'.format(fps), (10, 20), cv2.FONT_HERSHEY_SIMPLEX, 0.5,\n",
    "                    (255, 0, 255), 2)\n",
    "        \n",
    "        for face in faces:\n",
    "            tmp = Image.fromarray(cv2.cvtColor(img,cv2.COLOR_BGR2RGB))\n",
    "            tmp = tmp.crop((face.x,face.y,face.x+face.w,face.y+face.h)).resize((160,160))\n",
    "            \n",
    "            embvector = embedding(img_to_np(tmp))\n",
    "            embvector = embvector.reshape(1, -1)\n",
    "            predictions = classifymodel.predict_proba(embvector)\n",
    "            best_class_indices = np.argmax(predictions, axis=1)\n",
    "            tmp_lable=class_names[best_class_indices]\n",
    "            best_class_probabilities = predictions[np.arange(len(best_class_indices)), best_class_indices]\n",
    "            print(' Best class Probablity is ',best_class_probabilities)\n",
    "            print(tmp_lable)\n",
    "            if best_class_probabilities <= 0.58:\n",
    "                tmp_lable=[\"others\"]\n",
    "            cv2.rectangle(img, (int(face.x), int(face.y)), (int(face.x+face.w), int(face.y+face.h)), (0,155,255), 2)\n",
    "            cv2.putText(img, tmp_lable[0], (int(face.x), int(face.y)), cv2.FONT_HERSHEY_SIMPLEX, 0.5, (255, 0, 255), 2)\n",
    "# #             print(face.data())\n",
    "        cv2.imshow('face',img)\n",
    "except Exception as  err:\n",
    "    print(err.with_traceback())\n",
    "    print('This is Error Occur !')\n",
    "finally:\n",
    "    images = []\n",
    "    capture.release()\n",
    "    cv2.destroyAllWindows()"
   ]
  },
  {
   "cell_type": "markdown",
   "metadata": {},
   "source": [
    "### Using Gaussian Process Classifier to Recognize the face"
   ]
  },
  {
   "cell_type": "code",
   "execution_count": 115,
   "metadata": {},
   "outputs": [
    {
     "data": {
      "text/plain": [
       "<tensorflow.python.summary.writer.writer.FileWriter at 0x2225910bc18>"
      ]
     },
     "execution_count": 115,
     "metadata": {},
     "output_type": "execute_result"
    }
   ],
   "source": [
    "tf.summary.FileWriter('./logdir',tf.get_default_graph())"
   ]
  },
  {
   "cell_type": "markdown",
   "metadata": {},
   "source": [
    "###  EXPERIMENTATION"
   ]
  },
  {
   "cell_type": "markdown",
   "metadata": {},
   "source": [
    "###  EXPERIMENTATION with classfication\n",
    "\n",
    "### Finding best parameter for Image Recognition"
   ]
  },
  {
   "cell_type": "code",
   "execution_count": 48,
   "metadata": {},
   "outputs": [
    {
     "ename": "NameError",
     "evalue": "name 'load_embeddings_for_SVC' is not defined",
     "output_type": "error",
     "traceback": [
      "\u001b[1;31m---------------------------------------------------------------------------\u001b[0m",
      "\u001b[1;31mNameError\u001b[0m                                 Traceback (most recent call last)",
      "\u001b[1;32m<ipython-input-48-d888ff4968c2>\u001b[0m in \u001b[0;36m<module>\u001b[1;34m\u001b[0m\n\u001b[1;32m----> 1\u001b[1;33m \u001b[0membeds\u001b[0m\u001b[1;33m,\u001b[0m \u001b[0mnames\u001b[0m \u001b[1;33m=\u001b[0m \u001b[0mload_embeddings_for_SVC\u001b[0m\u001b[1;33m(\u001b[0m\u001b[1;33m)\u001b[0m\u001b[1;33m\u001b[0m\u001b[1;33m\u001b[0m\u001b[0m\n\u001b[0m\u001b[0;32m      2\u001b[0m \u001b[1;33m\u001b[0m\u001b[0m\n\u001b[0;32m      3\u001b[0m \u001b[0mname_unique\u001b[0m \u001b[1;33m=\u001b[0m \u001b[0mnp\u001b[0m\u001b[1;33m.\u001b[0m\u001b[0munique\u001b[0m\u001b[1;33m(\u001b[0m\u001b[0mnames\u001b[0m\u001b[1;33m)\u001b[0m\u001b[1;33m\u001b[0m\u001b[1;33m\u001b[0m\u001b[0m\n\u001b[0;32m      4\u001b[0m \u001b[1;33m\u001b[0m\u001b[0m\n\u001b[0;32m      5\u001b[0m \u001b[1;31m#     label Encoder\u001b[0m\u001b[1;33m\u001b[0m\u001b[1;33m\u001b[0m\u001b[1;33m\u001b[0m\u001b[0m\n",
      "\u001b[1;31mNameError\u001b[0m: name 'load_embeddings_for_SVC' is not defined"
     ]
    }
   ],
   "source": [
    "embeds, names = load_embeddings_for_SVC()\n",
    "    \n",
    "name_unique = np.unique(names)\n",
    "\n",
    "#     label Encoder\n",
    "labels = []\n",
    "for i in range(len(names)):\n",
    "        for j in range(len(name_unique)):\n",
    "            if names[i]==name_unique[j]:\n",
    "                labels.append(j)\n",
    "\n",
    "#     Training classifier\n",
    "param_grid = {'C': [1e3, 5e3, 1e4, 5e4, 1e5],\n",
    "              'gamma': [0.0001, 0.0005, 0.001, 0.005, 0.01, 0.1],\n",
    "             'random_state':[i for i in range(0,100,10)]}\n",
    "\n",
    "clf = GridSearchCV(SVC(kernel='rbf', class_weight='balanced'),\n",
    "                   param_grid, cv=5)\n",
    "clf = clf.fit(X=embeds,y=labels)\n",
    "\n",
    "print('Training classifier')\n",
    "print(\"Best estimator found by grid search:\")\n",
    "print(clf.best_estimator_)"
   ]
  },
  {
   "cell_type": "markdown",
   "metadata": {},
   "source": [
    "### Celeb Embeddings and Training"
   ]
  },
  {
   "cell_type": "code",
   "execution_count": 49,
   "metadata": {},
   "outputs": [],
   "source": [
    "def celeb_save_embedding(result,name,emb='celeb_emb'):\n",
    "    result = result\n",
    "    if name+'_'+CLUSTER in os.listdir(os.path.join(os.getcwd(),emb)):\n",
    "        with open(os.path.join(os.getcwd(),emb,name+'_'+CLUSTER),mode='rb') as fp:\n",
    "            result =  np.concatenate((result,pk.load(fp)))\n",
    "            print('saved embeddings of ',name,' ....')\n",
    "        \n",
    "    with open(os.path.join(os.getcwd(),emb,name+'_'+CLUSTER),mode='wb') as fp:\n",
    "        pk.dump(result,fp)"
   ]
  },
  {
   "cell_type": "code",
   "execution_count": 50,
   "metadata": {},
   "outputs": [],
   "source": [
    "def celeb_create_embeddings_from_dataset(path='celeb_dataset'):\n",
    "    for filedir in os.listdir(os.path.join(os.getcwd(),path)):\n",
    "        img = []\n",
    "#         loop over list of faces to create embeddings\n",
    "        for filename in os.listdir(os.path.join(os.getcwd(),path,filedir)):\n",
    "            temp = Image.open(os.path.join(os.getcwd(),path,filedir,filename))\n",
    "            face = get_faces(temp)[0]\n",
    "            temp = temp.crop((face.x,face.y,face.x+face.w,face.y+face.h))\n",
    "            temp = temp.resize((160,160))\n",
    "            img.append(temp)\n",
    "            \n",
    "        num = len(img)\n",
    "        X = np.zeros((num, EMBEDDING_SIZE), np.float32)\n",
    "        for i, f in enumerate(img):\n",
    "            X[i, :] = embedding(img_to_np(f))\n",
    "            \n",
    "        save_embedding(X,filedir)"
   ]
  },
  {
   "cell_type": "code",
   "execution_count": 51,
   "metadata": {
    "scrolled": true
   },
   "outputs": [],
   "source": [
    "# celeb_create_embeddings_from_dataset()"
   ]
  },
  {
   "cell_type": "code",
   "execution_count": 51,
   "metadata": {},
   "outputs": [],
   "source": [
    "def celeb_load_embeddings_for_classfication(path='celeb_emb') -> ('embeddings','labels'):\n",
    "    X = []\n",
    "    Y = []\n",
    "    for filename  in os.listdir(os.path.join(os.getcwd(),path)):\n",
    "        name = filename.split('_')[0]\n",
    "        with open(os.path.join(os.getcwd(),path,filename),mode='rb') as fp:\n",
    "            x = pk.load(fp)\n",
    "            for emb in x:\n",
    "                X.append(emb)\n",
    "                Y.append(name)\n",
    "    \n",
    "    return X, Y"
   ]
  },
  {
   "cell_type": "code",
   "execution_count": 52,
   "metadata": {},
   "outputs": [],
   "source": [
    "def celeb_classifyTrainSVC(path=None):\n",
    "    embeds, names = celeb_load_embeddings_for_classfication()\n",
    "    name_unique = np.unique(names)\n",
    "    \n",
    "#     label Encoder\n",
    "    labels = []\n",
    "    for i in range(len(names)):\n",
    "            for j in range(len(name_unique)):\n",
    "                if names[i]==name_unique[j]:\n",
    "                    labels.append(j)\n",
    "                    \n",
    "#     Training classifier\n",
    "    print('Training classifier')\n",
    "    model = SVC(kernel='linear',gamma=0.1, probability=True)\n",
    "    model.fit(embeds, labels)\n",
    "    with open('celeb/'+CLASSIFY_NAME, 'wb') as outfile:\n",
    "        pk.dump(model, outfile)\n",
    "        print('Saved classifier model to file \"%s\"' % CLASSIFY_NAME)"
   ]
  },
  {
   "cell_type": "code",
   "execution_count": 74,
   "metadata": {},
   "outputs": [
    {
     "name": "stdout",
     "output_type": "stream",
     "text": [
      "[[4.56794019e-01 6.24672699e-04 5.42246562e-01 3.34746629e-04]]\n",
      "['Doctor Strange' 'Joker' 'Rajesh Dai' 'The Flash']\n",
      "[[4.68998647e-01 2.66689516e-05 5.30956867e-01 1.78168562e-05]]\n",
      "['Doctor Strange' 'Joker' 'Rajesh Dai' 'The Flash']\n",
      "[[0.65059881 0.00151512 0.33509478 0.01279128]]\n",
      "['Doctor Strange' 'Joker' 'Rajesh Dai' 'The Flash']\n",
      "[[4.85755760e-01 7.42730143e-05 5.14098296e-01 7.16704413e-05]]\n",
      "['Doctor Strange' 'Joker' 'Rajesh Dai' 'The Flash']\n",
      "[[6.68478485e-01 2.22802174e-03 3.29049049e-01 2.44444293e-04]]\n",
      "['Doctor Strange' 'Joker' 'Rajesh Dai' 'The Flash']\n",
      "[[5.17090036e-01 2.86099334e-03 4.79982940e-01 6.60307407e-05]]\n",
      "['Doctor Strange' 'Joker' 'Rajesh Dai' 'The Flash']\n",
      "[[0.84597706 0.00205393 0.14821341 0.0037556 ]]\n",
      "['Doctor Strange' 'Joker' 'Rajesh Dai' 'The Flash']\n",
      "[[4.55508355e-01 2.73178999e-04 5.44189808e-01 2.86587806e-05]]\n",
      "['Doctor Strange' 'Joker' 'Rajesh Dai' 'The Flash']\n",
      "[[0.68741275 0.01352044 0.18937106 0.10969574]]\n",
      "['Doctor Strange' 'Joker' 'Rajesh Dai' 'The Flash']\n",
      "[[4.59711460e-01 1.65035823e-04 5.40091420e-01 3.20839345e-05]]\n",
      "['Doctor Strange' 'Joker' 'Rajesh Dai' 'The Flash']\n",
      "[[0.84327944 0.00123207 0.1515513  0.00393718]]\n",
      "['Doctor Strange' 'Joker' 'Rajesh Dai' 'The Flash']\n",
      "[[4.83610951e-01 3.92090192e-04 5.15982246e-01 1.47121419e-05]]\n",
      "['Doctor Strange' 'Joker' 'Rajesh Dai' 'The Flash']\n",
      "[[0.75870221 0.10538257 0.06256354 0.07335169]]\n",
      "['Doctor Strange' 'Joker' 'Rajesh Dai' 'The Flash']\n",
      "[[5.57549140e-01 3.03686932e-03 4.39393838e-01 2.01523543e-05]]\n",
      "['Doctor Strange' 'Joker' 'Rajesh Dai' 'The Flash']\n",
      "[[0.63290652 0.01840564 0.34231657 0.00637127]]\n",
      "['Doctor Strange' 'Joker' 'Rajesh Dai' 'The Flash']\n",
      "[[4.96652149e-01 3.12006134e-04 5.02944222e-01 9.16230180e-05]]\n",
      "['Doctor Strange' 'Joker' 'Rajesh Dai' 'The Flash']\n",
      "[[0.82997084 0.00910686 0.14276357 0.01815873]]\n",
      "['Doctor Strange' 'Joker' 'Rajesh Dai' 'The Flash']\n",
      "[[4.40336201e-01 1.26529013e-04 5.59501658e-01 3.56123884e-05]]\n",
      "['Doctor Strange' 'Joker' 'Rajesh Dai' 'The Flash']\n",
      "[[3.23521756e-01 2.14475574e-03 6.74272219e-01 6.12692738e-05]]\n",
      "['Doctor Strange' 'Joker' 'Rajesh Dai' 'The Flash']\n",
      "[[0.20889405 0.00278658 0.7874476  0.00087177]]\n",
      "['Doctor Strange' 'Joker' 'Rajesh Dai' 'The Flash']\n",
      "[[0.89287479 0.00250208 0.05601996 0.04860316]]\n",
      "['Doctor Strange' 'Joker' 'Rajesh Dai' 'The Flash']\n",
      "[[4.96033090e-01 3.97500027e-04 5.03559162e-01 1.02484749e-05]]\n",
      "['Doctor Strange' 'Joker' 'Rajesh Dai' 'The Flash']\n",
      "[[0.67677618 0.06786275 0.19811466 0.05724641]]\n",
      "['Doctor Strange' 'Joker' 'Rajesh Dai' 'The Flash']\n",
      "[[4.13227488e-01 1.39513276e-04 5.85706138e-01 9.26860357e-04]]\n",
      "['Doctor Strange' 'Joker' 'Rajesh Dai' 'The Flash']\n",
      "[[4.70570963e-01 3.69014309e-05 5.29375336e-01 1.67999780e-05]]\n",
      "['Doctor Strange' 'Joker' 'Rajesh Dai' 'The Flash']\n",
      "[[0.73084254 0.00236037 0.26541171 0.00138538]]\n",
      "['Doctor Strange' 'Joker' 'Rajesh Dai' 'The Flash']\n",
      "[[3.98359648e-01 3.60458130e-04 6.01249316e-01 3.05772153e-05]]\n",
      "['Doctor Strange' 'Joker' 'Rajesh Dai' 'The Flash']\n",
      "[[4.60368319e-01 3.90283611e-05 5.39550296e-01 4.23566818e-05]]\n",
      "['Doctor Strange' 'Joker' 'Rajesh Dai' 'The Flash']\n",
      "[[4.64865202e-01 2.00904507e-04 5.34919245e-01 1.46480583e-05]]\n",
      "['Doctor Strange' 'Joker' 'Rajesh Dai' 'The Flash']\n",
      "[[3.32749050e-01 5.74294436e-05 6.67183811e-01 9.70997665e-06]]\n",
      "['Doctor Strange' 'Joker' 'Rajesh Dai' 'The Flash']\n",
      "[[7.32365963e-01 2.18099844e-03 2.65283268e-01 1.69770321e-04]]\n",
      "['Doctor Strange' 'Joker' 'Rajesh Dai' 'The Flash']\n",
      "[[7.37414774e-01 6.19287959e-03 2.56264605e-01 1.27742025e-04]]\n",
      "['Doctor Strange' 'Joker' 'Rajesh Dai' 'The Flash']\n",
      "[[5.11320006e-01 5.17596027e-05 4.88546154e-01 8.20803998e-05]]\n",
      "['Doctor Strange' 'Joker' 'Rajesh Dai' 'The Flash']\n",
      "[[4.55252024e-01 3.49603222e-05 5.44636551e-01 7.64653436e-05]]\n",
      "['Doctor Strange' 'Joker' 'Rajesh Dai' 'The Flash']\n",
      "[[0.02103631 0.85130174 0.0680762  0.05958575]]\n",
      "['Doctor Strange' 'Joker' 'Rajesh Dai' 'The Flash']\n",
      "[[4.75764416e-01 1.58318170e-04 5.23435736e-01 6.41529785e-04]]\n",
      "['Doctor Strange' 'Joker' 'Rajesh Dai' 'The Flash']\n",
      "[[4.95365302e-01 4.28040778e-04 5.03795382e-01 4.11274636e-04]]\n",
      "['Doctor Strange' 'Joker' 'Rajesh Dai' 'The Flash']\n",
      "Escape hit, closing...\n"
     ]
    }
   ],
   "source": [
    "capture = cv2.VideoCapture(0)\n",
    "cv2.namedWindow(\"test\")\n",
    "with open(os.path.join('celeb',CLASSIFY_NAME), 'rb') as infile:\n",
    "    classifymodel = pk.load(infile)\n",
    "try:\n",
    "    while (capture.isOpened()):\n",
    "        ret, img = capture.read()\n",
    "#         img = cv2.flip(img, 1)\n",
    "\n",
    "        if img is None:\n",
    "            continue\n",
    "\n",
    "        k = cv2.waitKey(1)\n",
    "\n",
    "        if k%256 == 27:\n",
    "#             ESC pressed\n",
    "            print(\"Escape hit, closing...\")\n",
    "            break\n",
    "        \n",
    "#         faces = get_faces(Image.fromarray(cv2.cvtColor(img,cv2.COLOR_BGR2RGB)))\n",
    "#         if k == ord('d'):\n",
    "        faces = get_faces(Image.fromarray(cv2.cvtColor(img,cv2.COLOR_BGR2RGB)))\n",
    "\n",
    "        for face in faces:\n",
    "            tmp = Image.fromarray(cv2.cvtColor(img,cv2.COLOR_BGR2RGB))\n",
    "            tmp = tmp.crop((face.x,face.y,face.x+face.w,face.y+face.h)).resize((160,160))\n",
    "            embvector = embedding(img_to_np(tmp))\n",
    "            embvector = embvector.reshape(1, -1)\n",
    "            predictions = classifymodel.predict_proba(embvector)\n",
    "            best_class_indices = np.argmax(predictions, axis=1)\n",
    "#                 print'(best_class_indices)\n",
    "            best_class_probabilities = predictions[np.arange(len(best_class_indices)), best_class_indices]\n",
    "\n",
    "        cv2.imshow('face',img)\n",
    "except Exception as  err:\n",
    "    print(err.with_traceback())\n",
    "    print('This is Error Occur !')\n",
    "finally:\n",
    "    images = []\n",
    "    capture.release()\n",
    "    cv2.destroyAllWindows()"
   ]
  },
  {
   "cell_type": "markdown",
   "metadata": {},
   "source": [
    "### Experimentation for making SVM classifier more accurate"
   ]
  },
  {
   "cell_type": "code",
   "execution_count": 89,
   "metadata": {},
   "outputs": [],
   "source": [
    "from sklearn.model_selection import GridSearchCV\n",
    "from sklearn.datasets import fetch_lfw_people\n",
    "from sklearn.metrics import classification_report\n",
    "from sklearn.metrics import confusion_matrix\n",
    "from sklearn.ensemble import AdaBoostClassifier, RandomForestClassifier"
   ]
  },
  {
   "cell_type": "code",
   "execution_count": 54,
   "metadata": {},
   "outputs": [
    {
     "name": "stderr",
     "output_type": "stream",
     "text": [
      "Downloading LFW metadata: https://ndownloader.figshare.com/files/5976012\n",
      "Downloading LFW metadata: https://ndownloader.figshare.com/files/5976009\n",
      "Downloading LFW metadata: https://ndownloader.figshare.com/files/5976006\n",
      "Downloading LFW data (~200MB): https://ndownloader.figshare.com/files/5976015\n"
     ]
    }
   ],
   "source": [
    "lfw_people = fetch_lfw_people(min_faces_per_person=70, resize=0.4)"
   ]
  },
  {
   "cell_type": "code",
   "execution_count": 55,
   "metadata": {},
   "outputs": [],
   "source": [
    "n_samples, h, w = lfw_people.images.shape"
   ]
  },
  {
   "cell_type": "code",
   "execution_count": 56,
   "metadata": {},
   "outputs": [
    {
     "data": {
      "text/plain": [
       "(1288, 50, 37)"
      ]
     },
     "execution_count": 56,
     "metadata": {},
     "output_type": "execute_result"
    }
   ],
   "source": [
    "n_samples, h, w"
   ]
  },
  {
   "cell_type": "code",
   "execution_count": 57,
   "metadata": {},
   "outputs": [],
   "source": [
    "X = lfw_people.data\n",
    "n_features = X.shape[1]\n",
    "\n",
    "y = lfw_people.target\n",
    "target_names = lfw_people.target_names\n",
    "n_classes = target_names.shape[0]"
   ]
  },
  {
   "cell_type": "code",
   "execution_count": 58,
   "metadata": {},
   "outputs": [
    {
     "name": "stdout",
     "output_type": "stream",
     "text": [
      "Total dataset size:\n",
      "n_samples: 1288\n",
      "n_features: 1850\n",
      "n_classes: 7\n"
     ]
    }
   ],
   "source": [
    "print(\"Total dataset size:\")\n",
    "print(\"n_samples: %d\" % n_samples)\n",
    "print(\"n_features: %d\" % n_features)\n",
    "print(\"n_classes: %d\" % n_classes)"
   ]
  },
  {
   "cell_type": "markdown",
   "metadata": {},
   "source": [
    "### Implementing AdaBoost Classifier"
   ]
  },
  {
   "cell_type": "code",
   "execution_count": 118,
   "metadata": {},
   "outputs": [],
   "source": [
    "def classify_ABC():\n",
    "    embeds, names = load_embeddings_for_classfication()\n",
    "    \n",
    "    name_unique = np.unique(names)\n",
    "    \n",
    "#     label Encoder\n",
    "    labels = []\n",
    "    for i in range(len(names)):\n",
    "            for j in range(len(name_unique)):\n",
    "                if names[i]==name_unique[j]:\n",
    "                    labels.append(j)\n",
    "                    \n",
    "#     Training classifier\n",
    "    print('Training classifier')\n",
    "    model = AdaBoostClassifier(SVC(kernel='linear',gamma=0.1, probability=True),30)\n",
    "    model.fit(embeds, labels)\n",
    "    with open('ABC.SVC', 'wb') as outfile:\n",
    "        pk.dump((model,name_unique), outfile)\n",
    "        print('Saved classifier model to file \"%s\"' % 'ABC.SVC')"
   ]
  },
  {
   "cell_type": "code",
   "execution_count": 119,
   "metadata": {},
   "outputs": [
    {
     "name": "stdout",
     "output_type": "stream",
     "text": [
      "Training classifier\n",
      "Saved classifier model to file \"ABC.SVC\"\n"
     ]
    }
   ],
   "source": [
    "classify_ABC()"
   ]
  },
  {
   "cell_type": "markdown",
   "metadata": {},
   "source": [
    "### Face Recognition and classification using AdaBoost"
   ]
  },
  {
   "cell_type": "code",
   "execution_count": 121,
   "metadata": {},
   "outputs": [
    {
     "name": "stdout",
     "output_type": "stream",
     "text": [
      " Best class Probablity is  [0.48500974]\n",
      "['Sushil Ghimire']\n",
      " Best class Probablity is  [0.50042229]\n",
      "['Sushil Ghimire']\n",
      " Best class Probablity is  [0.38637925]\n",
      "['Sushil Ghimire']\n",
      " Best class Probablity is  [0.53193288]\n",
      "['Sushil Ghimire']\n",
      " Best class Probablity is  [0.44830769]\n",
      "['Sushil Ghimire']\n",
      " Best class Probablity is  [0.43371731]\n",
      "['Sushil Ghimire']\n",
      " Best class Probablity is  [0.38909782]\n",
      "['Sushil Ghimire']\n",
      " Best class Probablity is  [0.48071515]\n",
      "['Sushil Ghimire']\n",
      " Best class Probablity is  [0.42266718]\n",
      "['Sushil Ghimire']\n",
      " Best class Probablity is  [0.57662117]\n",
      "['Sushil Ghimire']\n",
      " Best class Probablity is  [0.30625544]\n",
      "['Sushil Ghimire']\n",
      " Best class Probablity is  [0.52685533]\n",
      "['Sushil Ghimire']\n",
      " Best class Probablity is  [0.45901465]\n",
      "['Sushil Ghimire']\n",
      " Best class Probablity is  [0.47298068]\n",
      "['Sushil Ghimire']\n",
      " Best class Probablity is  [0.50278017]\n",
      "['Sushil Ghimire']\n",
      " Best class Probablity is  [0.4634676]\n",
      "['Sushil Ghimire']\n",
      " Best class Probablity is  [0.3995239]\n",
      "['Anish Pandey']\n",
      " Best class Probablity is  [0.39168039]\n",
      "['Sushil Ghimire']\n",
      " Best class Probablity is  [0.34992207]\n",
      "['Sushil Ghimire']\n",
      " Best class Probablity is  [0.39902537]\n",
      "['Binayak Pokhrel']\n",
      " Best class Probablity is  [0.43478303]\n",
      "['Sushil Ghimire']\n",
      " Best class Probablity is  [0.40151947]\n",
      "['Sushil Ghimire']\n",
      " Best class Probablity is  [0.41091644]\n",
      "['Sushil Ghimire']\n",
      " Best class Probablity is  [0.36535875]\n",
      "['Sushil Ghimire']\n",
      " Best class Probablity is  [0.51032806]\n",
      "['Sushil Ghimire']\n",
      " Best class Probablity is  [0.47799361]\n",
      "['Sushil Ghimire']\n",
      " Best class Probablity is  [0.46416365]\n",
      "['Sushil Ghimire']\n",
      " Best class Probablity is  [0.42315341]\n",
      "['Sushil Ghimire']\n",
      " Best class Probablity is  [0.47289866]\n",
      "['Sushil Ghimire']\n",
      " Best class Probablity is  [0.42855791]\n",
      "['Sushil Ghimire']\n",
      " Best class Probablity is  [0.51517096]\n",
      "['Sushil Ghimire']\n",
      " Best class Probablity is  [0.44030838]\n",
      "['Sushil Ghimire']\n",
      " Best class Probablity is  [0.50383086]\n",
      "['Sushil Ghimire']\n",
      " Best class Probablity is  [0.48542197]\n",
      "['Sushil Ghimire']\n",
      " Best class Probablity is  [0.49720809]\n",
      "['Sushil Ghimire']\n",
      " Best class Probablity is  [0.49626494]\n",
      "['Sushil Ghimire']\n",
      " Best class Probablity is  [0.40547189]\n",
      "['Sushil Ghimire']\n",
      " Best class Probablity is  [0.45931494]\n",
      "['Sushil Ghimire']\n",
      " Best class Probablity is  [0.34935339]\n",
      "['Sushil Ghimire']\n",
      " Best class Probablity is  [0.47615351]\n",
      "['Sushil Ghimire']\n",
      " Best class Probablity is  [0.90167227]\n",
      "['Binayak Pokhrel']\n",
      " Best class Probablity is  [0.38203714]\n",
      "['Sushil Ghimire']\n",
      " Best class Probablity is  [0.9319919]\n",
      "['Binayak Pokhrel']\n",
      " Best class Probablity is  [0.41234134]\n",
      "['Sushil Ghimire']\n",
      " Best class Probablity is  [0.93647049]\n",
      "['Binayak Pokhrel']\n",
      " Best class Probablity is  [0.42803158]\n",
      "['Sushil Ghimire']\n",
      " Best class Probablity is  [0.37498987]\n",
      "['Binayak Pokhrel']\n",
      " Best class Probablity is  [0.51477893]\n",
      "['Sushil Ghimire']\n",
      " Best class Probablity is  [0.8955707]\n",
      "['Binayak Pokhrel']\n",
      " Best class Probablity is  [0.39026122]\n",
      "['Binayak Pokhrel']\n",
      " Best class Probablity is  [0.45514878]\n",
      "['Sushil Ghimire']\n",
      " Best class Probablity is  [0.50517777]\n",
      "['Sushil Ghimire']\n",
      " Best class Probablity is  [0.54471345]\n",
      "['Sushil Ghimire']\n",
      " Best class Probablity is  [0.50840337]\n",
      "['Sushil Ghimire']\n",
      " Best class Probablity is  [0.4547811]\n",
      "['Sushil Ghimire']\n",
      " Best class Probablity is  [0.49310748]\n",
      "['Binayak Pokhrel']\n",
      " Best class Probablity is  [0.51858555]\n",
      "['Binayak Pokhrel']\n",
      " Best class Probablity is  [0.51850613]\n",
      "['Sushil Ghimire']\n",
      " Best class Probablity is  [0.43927145]\n",
      "['Sushil Ghimire']\n",
      " Best class Probablity is  [0.44995113]\n",
      "['Anish Pandey']\n",
      " Best class Probablity is  [0.46363834]\n",
      "['Sushil Ghimire']\n",
      " Best class Probablity is  [0.39990382]\n",
      "['Binayak Pokhrel']\n",
      " Best class Probablity is  [0.49054314]\n",
      "['Anish Pandey']\n",
      " Best class Probablity is  [0.39002209]\n",
      "['Sushil Ghimire']\n",
      " Best class Probablity is  [0.4313605]\n",
      "['Anish Pandey']\n",
      " Best class Probablity is  [0.35370968]\n",
      "['Sushil Ghimire']\n",
      " Best class Probablity is  [0.69798204]\n",
      "['Anish Pandey']\n",
      " Best class Probablity is  [0.35344542]\n",
      "['Sushil Ghimire']\n",
      " Best class Probablity is  [0.51331917]\n",
      "['Sushil Ghimire']\n",
      " Best class Probablity is  [0.4158012]\n",
      "['Binayak Pokhrel']\n",
      " Best class Probablity is  [0.40773477]\n",
      "['Sushil Ghimire']\n",
      " Best class Probablity is  [0.39913427]\n",
      "['Binayak Pokhrel']\n",
      " Best class Probablity is  [0.40220738]\n",
      "['Sushil Ghimire']\n",
      " Best class Probablity is  [0.52597384]\n",
      "['Anish Pandey']\n",
      " Best class Probablity is  [0.60796668]\n",
      "['Binayak Pokhrel']\n",
      " Best class Probablity is  [0.51128879]\n",
      "['Sushil Ghimire']\n",
      " Best class Probablity is  [0.45401776]\n",
      "['Sushil Ghimire']\n",
      " Best class Probablity is  [0.44561782]\n",
      "['Binayak Pokhrel']\n",
      " Best class Probablity is  [0.35538683]\n",
      "['Anish Pandey']\n",
      " Best class Probablity is  [0.48437061]\n",
      "['Binayak Pokhrel']\n",
      " Best class Probablity is  [0.41721152]\n",
      "['Sushil Ghimire']\n",
      " Best class Probablity is  [0.54899782]\n",
      "['Binayak Pokhrel']\n",
      " Best class Probablity is  [0.54001761]\n",
      "['Binayak Pokhrel']\n",
      " Best class Probablity is  [0.53225913]\n",
      "['Sushil Ghimire']\n",
      " Best class Probablity is  [0.51473202]\n",
      "['Anish Pandey']\n",
      " Best class Probablity is  [0.46684005]\n",
      "['Sushil Ghimire']\n",
      " Best class Probablity is  [0.55342575]\n",
      "['Binayak Pokhrel']\n",
      " Best class Probablity is  [0.35043648]\n",
      "['Sushil Ghimire']\n",
      " Best class Probablity is  [0.4455209]\n",
      "['Binayak Pokhrel']\n",
      " Best class Probablity is  [0.39472193]\n",
      "['Sushil Ghimire']\n",
      " Best class Probablity is  [0.68003305]\n",
      "['Binayak Pokhrel']\n",
      " Best class Probablity is  [0.36267578]\n",
      "['Sushil Ghimire']\n",
      " Best class Probablity is  [0.4569775]\n",
      "['Binayak Pokhrel']\n",
      " Best class Probablity is  [0.38361974]\n",
      "['Sushil Ghimire']\n",
      " Best class Probablity is  [0.55176906]\n",
      "['Binayak Pokhrel']\n",
      " Best class Probablity is  [0.40936271]\n",
      "['Sushil Ghimire']\n",
      " Best class Probablity is  [0.40594057]\n",
      "['Anish Pandey']\n",
      " Best class Probablity is  [0.45715496]\n",
      "['Sushil Ghimire']\n",
      "Escape hit, closing...\n"
     ]
    }
   ],
   "source": [
    "capture = cv2.VideoCapture(0)\n",
    "\n",
    "cv2.namedWindow(\"test\")\n",
    "with open(\"ABC.SVC\", 'rb') as infile:\n",
    "    (classifymodel, class_names) = pk.load(infile)\n",
    "try:\n",
    "    while (capture.isOpened()):\n",
    "        t1 = cv2.getTickCount()\n",
    "        ret, img = capture.read()\n",
    "#         img = cv2.flip(img, 1)\n",
    "\n",
    "        if img is None:\n",
    "            continue\n",
    "\n",
    "        k = cv2.waitKey(1)\n",
    "\n",
    "        if k%256 == 27:\n",
    "#             ESC pressed\n",
    "            print(\"Escape hit, closing...\")\n",
    "            break\n",
    "        \n",
    "#         faces = get_faces(Image.fromarray(cv2.cvtColor(img,cv2.COLOR_BGR2RGB)))\n",
    "        faces = get_faces(Image.fromarray(cv2.cvtColor(img,cv2.COLOR_BGR2RGB)))\n",
    "        t2 = cv2.getTickCount()\n",
    "        t = (t2 - t1) / cv2.getTickFrequency()\n",
    "        fps = 1.0 / t\n",
    "        cv2.putText(img, '{:.4f}'.format(t) + \" \" + '{:.3f}'.format(fps), (10, 20), cv2.FONT_HERSHEY_SIMPLEX, 0.5,\n",
    "                    (255, 0, 255), 2)\n",
    "        \n",
    "        for face in faces:\n",
    "            tmp = Image.fromarray(cv2.cvtColor(img,cv2.COLOR_BGR2RGB))\n",
    "            tmp = tmp.crop((face.x,face.y,face.x+face.w,face.y+face.h)).resize((160,160))\n",
    "            \n",
    "            embvector = embedding(img_to_np(tmp))\n",
    "            embvector = embvector.reshape(1, -1)\n",
    "            predictions = classifymodel.predict_proba(embvector)\n",
    "            best_class_indices = np.argmax(predictions, axis=1)\n",
    "            tmp_lable=class_names[best_class_indices]\n",
    "            best_class_probabilities = predictions[np.arange(len(best_class_indices)), best_class_indices]\n",
    "            print(' Best class Probablity is ',best_class_probabilities)\n",
    "            print(tmp_lable)\n",
    "            if best_class_probabilities <= 0.51:\n",
    "                tmp_lable=[\"others\"]\n",
    "            cv2.rectangle(img, (int(face.x), int(face.y)), (int(face.x+face.w), int(face.y+face.h)), (0,155,255), 2)\n",
    "            cv2.putText(img, tmp_lable[0], (int(face.x), int(face.y)), cv2.FONT_HERSHEY_SIMPLEX, 0.5, (255, 0, 255), 2)\n",
    "# #             print(face.data())\n",
    "        cv2.imshow('face',img)\n",
    "except Exception as  err:\n",
    "    print(err.with_traceback())\n",
    "    print('This is Error Occur !')\n",
    "finally:\n",
    "    images = []\n",
    "    capture.release()\n",
    "    cv2.destroyAllWindows()"
   ]
  },
  {
   "cell_type": "markdown",
   "metadata": {},
   "source": [
    "#### Implementing Random Forrest Classifier"
   ]
  },
  {
   "cell_type": "code",
   "execution_count": 122,
   "metadata": {},
   "outputs": [],
   "source": [
    "def classify_RFC():\n",
    "    embeds, names = load_embeddings_for_classfication()\n",
    "    \n",
    "    name_unique = np.unique(names)\n",
    "    \n",
    "#     label Encoder\n",
    "    labels = []\n",
    "    for i in range(len(names)):\n",
    "            for j in range(len(name_unique)):\n",
    "                if names[i]==name_unique[j]:\n",
    "                    labels.append(j)\n",
    "                    \n",
    "#     Training classifier\n",
    "    print('Training classifier')\n",
    "    model = RandomForestClassifier(30)\n",
    "    model.fit(embeds, labels)\n",
    "    with open('RFC.FF', 'wb') as outfile:\n",
    "        pk.dump((model,name_unique), outfile)\n",
    "        print('Saved classifier model to file \"%s\"' % 'RFC.FF')"
   ]
  },
  {
   "cell_type": "code",
   "execution_count": 123,
   "metadata": {},
   "outputs": [
    {
     "name": "stdout",
     "output_type": "stream",
     "text": [
      "Training classifier\n",
      "Saved classifier model to file \"RFC.FF\"\n"
     ]
    }
   ],
   "source": [
    "classify_RFC()"
   ]
  },
  {
   "cell_type": "code",
   "execution_count": 124,
   "metadata": {},
   "outputs": [
    {
     "name": "stdout",
     "output_type": "stream",
     "text": [
      " Best class Probablity is  [0.33333333]\n",
      "['Binayak Pokhrel']\n",
      " Best class Probablity is  [0.36666667]\n",
      "['Binayak Pokhrel']\n",
      " Best class Probablity is  [0.43333333]\n",
      "['Binayak Pokhrel']\n",
      " Best class Probablity is  [0.43333333]\n",
      "['Binayak Pokhrel']\n",
      " Best class Probablity is  [0.43333333]\n",
      "['Binayak Pokhrel']\n",
      " Best class Probablity is  [0.36666667]\n",
      "['Binayak Pokhrel']\n",
      " Best class Probablity is  [0.33333333]\n",
      "['Binayak Pokhrel']\n",
      " Best class Probablity is  [0.33333333]\n",
      "['Sushil Ghimire']\n",
      " Best class Probablity is  [0.33333333]\n",
      "['Sushil Ghimire']\n",
      " Best class Probablity is  [0.4]\n",
      "['Sushil Ghimire']\n",
      " Best class Probablity is  [0.4]\n",
      "['Binayak Pokhrel']\n",
      " Best class Probablity is  [0.33333333]\n",
      "['Sushil Ghimire']\n",
      " Best class Probablity is  [0.3]\n",
      "['Binayak Pokhrel']\n",
      " Best class Probablity is  [0.4]\n",
      "['Binayak Pokhrel']\n",
      " Best class Probablity is  [0.33333333]\n",
      "['Sushil Ghimire']\n",
      " Best class Probablity is  [0.43333333]\n",
      "['Binayak Pokhrel']\n",
      " Best class Probablity is  [0.36666667]\n",
      "['Binayak Pokhrel']\n",
      " Best class Probablity is  [0.4]\n",
      "['Binayak Pokhrel']\n",
      " Best class Probablity is  [0.4]\n",
      "['Sushil Ghimire']\n",
      " Best class Probablity is  [0.36666667]\n",
      "['Binayak Pokhrel']\n",
      " Best class Probablity is  [0.3]\n",
      "['Binayak Pokhrel']\n",
      " Best class Probablity is  [0.33333333]\n",
      "['Binayak Pokhrel']\n",
      " Best class Probablity is  [0.36666667]\n",
      "['Binayak Pokhrel']\n",
      " Best class Probablity is  [0.36666667]\n",
      "['Sushil Ghimire']\n",
      " Best class Probablity is  [0.4]\n",
      "['Binayak Pokhrel']\n",
      " Best class Probablity is  [0.4]\n",
      "['Binayak Pokhrel']\n",
      " Best class Probablity is  [0.43333333]\n",
      "['Anish Pandey']\n",
      " Best class Probablity is  [0.46666667]\n",
      "['Sushil Ghimire']\n",
      " Best class Probablity is  [0.56666667]\n",
      "['Binayak Pokhrel']\n",
      " Best class Probablity is  [0.43333333]\n",
      "['Sushil Ghimire']\n",
      " Best class Probablity is  [0.5]\n",
      "['Anish Pandey']\n",
      " Best class Probablity is  [0.43333333]\n",
      "['Binayak Pokhrel']\n",
      " Best class Probablity is  [0.6]\n",
      "['Anish Pandey']\n",
      " Best class Probablity is  [0.4]\n",
      "['Sushil Ghimire']\n",
      " Best class Probablity is  [0.46666667]\n",
      "['Anish Pandey']\n",
      " Best class Probablity is  [0.6]\n",
      "['Anish Pandey']\n",
      " Best class Probablity is  [0.5]\n",
      "['Anish Pandey']\n",
      " Best class Probablity is  [0.53333333]\n",
      "['Anish Pandey']\n",
      " Best class Probablity is  [0.46666667]\n",
      "['Binayak Pokhrel']\n",
      " Best class Probablity is  [0.43333333]\n",
      "['Anish Pandey']\n",
      " Best class Probablity is  [0.73333333]\n",
      "['Anish Pandey']\n",
      " Best class Probablity is  [0.5]\n",
      "['Anish Pandey']\n",
      " Best class Probablity is  [0.6]\n",
      "['Anish Pandey']\n",
      " Best class Probablity is  [0.36666667]\n",
      "['Sushil Ghimire']\n",
      " Best class Probablity is  [0.4]\n",
      "['Binayak Pokhrel']\n",
      " Best class Probablity is  [0.4]\n",
      "['Sushil Ghimire']\n",
      " Best class Probablity is  [0.33333333]\n",
      "['Binayak Pokhrel']\n",
      " Best class Probablity is  [0.53333333]\n",
      "['Binayak Pokhrel']\n",
      " Best class Probablity is  [0.4]\n",
      "['Binayak Pokhrel']\n",
      " Best class Probablity is  [0.33333333]\n",
      "['Binayak Pokhrel']\n",
      " Best class Probablity is  [0.43333333]\n",
      "['Binayak Pokhrel']\n",
      " Best class Probablity is  [0.43333333]\n",
      "['Binayak Pokhrel']\n",
      " Best class Probablity is  [0.3]\n",
      "['Binayak Pokhrel']\n",
      " Best class Probablity is  [0.36666667]\n",
      "['Binayak Pokhrel']\n",
      " Best class Probablity is  [0.36666667]\n",
      "['Binayak Pokhrel']\n",
      " Best class Probablity is  [0.36666667]\n",
      "['Binayak Pokhrel']\n",
      " Best class Probablity is  [0.33333333]\n",
      "['Binayak Pokhrel']\n",
      " Best class Probablity is  [0.33333333]\n",
      "['Binayak Pokhrel']\n",
      " Best class Probablity is  [0.56666667]\n",
      "['Binayak Pokhrel']\n",
      " Best class Probablity is  [0.5]\n",
      "['Binayak Pokhrel']\n",
      " Best class Probablity is  [0.36666667]\n",
      "['Binayak Pokhrel']\n",
      " Best class Probablity is  [0.43333333]\n",
      "['Binayak Pokhrel']\n",
      " Best class Probablity is  [0.36666667]\n",
      "['Anish Pandey']\n",
      " Best class Probablity is  [0.83333333]\n",
      "['Binayak Pokhrel']\n",
      " Best class Probablity is  [0.3]\n",
      "['Sushil Ghimire']\n",
      " Best class Probablity is  [0.66666667]\n",
      "['Binayak Pokhrel']\n",
      " Best class Probablity is  [0.36666667]\n",
      "['Binayak Pokhrel']\n",
      " Best class Probablity is  [0.63333333]\n",
      "['Binayak Pokhrel']\n",
      " Best class Probablity is  [0.36666667]\n",
      "['Binayak Pokhrel']\n",
      " Best class Probablity is  [0.7]\n",
      "['Binayak Pokhrel']\n",
      " Best class Probablity is  [0.36666667]\n",
      "['Binayak Pokhrel']\n",
      " Best class Probablity is  [0.7]\n",
      "['Binayak Pokhrel']\n",
      " Best class Probablity is  [0.4]\n",
      "['Binayak Pokhrel']\n",
      " Best class Probablity is  [1.]\n",
      "['Binayak Pokhrel']\n",
      " Best class Probablity is  [0.36666667]\n",
      "['Sushil Ghimire']\n",
      " Best class Probablity is  [0.9]\n",
      "['Binayak Pokhrel']\n",
      " Best class Probablity is  [0.33333333]\n",
      "['Binayak Pokhrel']\n",
      " Best class Probablity is  [0.83333333]\n",
      "['Binayak Pokhrel']\n",
      " Best class Probablity is  [0.9]\n",
      "['Binayak Pokhrel']\n",
      " Best class Probablity is  [0.56666667]\n",
      "['Anish Pandey']\n",
      " Best class Probablity is  [0.56666667]\n",
      "['Sushil Ghimire']\n",
      " Best class Probablity is  [0.33333333]\n",
      "['Sushil Ghimire']\n",
      " Best class Probablity is  [0.33333333]\n",
      "['Anish Pandey']\n",
      " Best class Probablity is  [0.33333333]\n",
      "['Anish Pandey']\n",
      "Escape hit, closing...\n"
     ]
    }
   ],
   "source": [
    "capture = cv2.VideoCapture(0)\n",
    "\n",
    "cv2.namedWindow(\"test\")\n",
    "with open(\"RFC.FF\", 'rb') as infile:\n",
    "    (classifymodel, class_names) = pk.load(infile)\n",
    "try:\n",
    "    while (capture.isOpened()):\n",
    "        ret, img = capture.read()\n",
    "#         img = cv2.flip(img, 1)\n",
    "\n",
    "        if img is None:\n",
    "            continue\n",
    "\n",
    "        k = cv2.waitKey(1)\n",
    "\n",
    "        if k%256 == 27:\n",
    "#             ESC pressed\n",
    "            print(\"Escape hit, closing...\")\n",
    "            break\n",
    "        \n",
    "#         faces = get_faces(Image.fromarray(cv2.cvtColor(img,cv2.COLOR_BGR2RGB)))\n",
    "        faces = get_faces(Image.fromarray(cv2.cvtColor(img,cv2.COLOR_BGR2RGB)))\n",
    "    \n",
    "        for face in faces:\n",
    "            tmp = Image.fromarray(cv2.cvtColor(img,cv2.COLOR_BGR2RGB))\n",
    "            tmp = tmp.crop((face.x,face.y,face.x+face.w,face.y+face.h)).resize((160,160))\n",
    "            \n",
    "            embvector = embedding(img_to_np(tmp))\n",
    "            embvector = embvector.reshape(1, -1)\n",
    "            predictions = classifymodel.predict_proba(embvector)\n",
    "            best_class_indices = np.argmax(predictions, axis=1)\n",
    "            tmp_lable=class_names[best_class_indices]\n",
    "            best_class_probabilities = predictions[np.arange(len(best_class_indices)), best_class_indices]\n",
    "            print(' Best class Probablity is ',best_class_probabilities)\n",
    "            print(tmp_lable)\n",
    "            if best_class_probabilities <= 0.501:\n",
    "                tmp_lable=[\"others\"]\n",
    "            cv2.rectangle(img, (int(face.x), int(face.y)), (int(face.x+face.w), int(face.y+face.h)), (0,155,255), 2)\n",
    "            cv2.putText(img, tmp_lable[0], (int(face.x), int(face.y)), cv2.FONT_HERSHEY_SIMPLEX, 0.5, (255, 0, 255), 2)\n",
    "# #             print(face.data())\n",
    "        cv2.imshow('face',img)\n",
    "except Exception as  err:\n",
    "    print(err.with_traceback())\n",
    "    print('This is Error Occur !')\n",
    "finally:\n",
    "    images = []\n",
    "    capture.release()\n",
    "    cv2.destroyAllWindows()"
   ]
  },
  {
   "cell_type": "markdown",
   "metadata": {},
   "source": [
    "### Experimentation with Co-routines and concorruncy to provide non blocking Loop inside video capture"
   ]
  },
  {
   "cell_type": "code",
   "execution_count": 52,
   "metadata": {},
   "outputs": [],
   "source": [
    "from tinydb import TinyDB, Query, where\n",
    "from random import randint"
   ]
  },
  {
   "cell_type": "code",
   "execution_count": 53,
   "metadata": {},
   "outputs": [],
   "source": [
    "class StoragePool:\n",
    "    \n",
    "    def __init__(self):\n",
    "        self.faces = None\n",
    "        self.db = TinyDB('attendence.json')\n",
    "        self.attendence = self.db.table()\n",
    "        self.User = Query()\n",
    "        self.expression = ['Neutral','happy','Sad','Bored']\n",
    "        \n",
    "        self.capture = cv2.VideoCapture(0)\n",
    "        cv2.namedWindow('test')\n",
    "        with open('RFC.FF','rb') as infile:\n",
    "            self.classifymodel, self.class_names = pk.load(infile)\n",
    "        \n",
    "        self.ret, self.img = self.capture.read()\n",
    "        self.stop = False\n",
    "        \n",
    "#   Helper Methods\n",
    "    def get_year(self):\n",
    "        return time.strftime('%Y')\n",
    "    \n",
    "    def get_month(self):\n",
    "        return time.strftime('%B')\n",
    "    \n",
    "    def get_day(self):\n",
    "        return time.strftime('%d')\n",
    "    \n",
    "    def get_hour():\n",
    "        return time.strftime('%H')\n",
    "\n",
    "#     method for webcam streaming\n",
    "    def video_feed(self):\n",
    "        while(not self.stop):\n",
    "            self.ret, self.img = self.capture.read()\n",
    "            if self.img is None:\n",
    "                continue\n",
    "            \n",
    "            k = cv2.waitKey(1)\n",
    "            \n",
    "            if k%256 == 27:\n",
    "                print(\"Escape hit, closing...\")\n",
    "                self.stop = True\n",
    "                \n",
    "                \n",
    "            \n",
    "            self.faces = get_faces(Image.fromarray(cv2.cvtColor(self.img,cv2.COLOR_BGR2RGB)))\n",
    "            if self.faces is not None:\n",
    "                for face in self.faces:\n",
    "                    tmp = Image.fromarray(cv2.cvtColor(self.img,cv2.COLOR_BGR2RGB))\n",
    "                    tmp = tmp.crop((face.x,face.y,face.x+face.w,face.y+face.h)).resize((160,160))\n",
    "\n",
    "                    embvector = embedding(img_to_np(tmp))\n",
    "                    embvector = embvector.reshape(1, -1)\n",
    "                    predictions = self.classifymodel.predict_proba(embvector)\n",
    "                    best_class_indices = np.argmax(predictions, axis=1)\n",
    "                    tmp_lable=self.class_names[best_class_indices]\n",
    "                    best_class_probabilities = predictions[np.arange(len(best_class_indices)), best_class_indices]\n",
    "                    print(' Best class Probablity is ',best_class_probabilities)\n",
    "                    print(tmp_lable)\n",
    "                    if best_class_probabilities <= 0.501:\n",
    "                        tmp_lable=[\"others\"]\n",
    "                    cv2.rectangle(self.img, (int(face.x), int(face.y)), (int(face.x+face.w), int(face.y+face.h)), (0,155,255), 2)\n",
    "                    cv2.putText(self.img, tmp_lable[0], (int(face.x), int(face.y)), cv2.FONT_HERSHEY_SIMPLEX, 0.5, (255, 0, 255), 2)\n",
    "\n",
    "            \n",
    "            cv2.imshow('face',self.img)\n",
    "        self.destroy()\n",
    "        \n",
    "#     Method for getting facial expression\n",
    "#     Currently network is still training so randomly generating facial expression\n",
    "    def get_expression(self):\n",
    "        rnd = randint(0,len(self.expression) + 1)\n",
    "        return self.expression[rnd]\n",
    "        \n",
    "        \n",
    "#      Method to store User attendence in database using TinyDB as a local No-sql database\n",
    "    def store_db(self,name):\n",
    "#         first check if users database for today already exist\n",
    "#         if dont exist create new document \n",
    "        validation = (Query().name == name) & (Query().day == self.get_day()) & (Query().month == self.get_month()) & (Query().year == self.get_year())\n",
    "        if self.attendence.get(validation) is None:\n",
    "            attendence.upsert({'name':name,'year':self.get_year(),'month':self.get_month(),'day':self.get_day(),'time':[{self.get_hour():self.get_expression()}]})\n",
    "            return\n",
    "        else:\n",
    "#             if already exist get the existed document of that user and append the facial expression with detected time \n",
    "            docs = attendence.get(validation)\n",
    "            docs['time'].append({self.get_hour():self.get_expression()})\n",
    "            attendence.upsert({'time':docs['time']},validation)\n",
    "            \n",
    "        \n",
    "#     Starting the thread\n",
    "    def start(self):\n",
    "        self.video_feed()\n",
    "        \n",
    "#     Method for cleaning the webcam streaming instance\n",
    "    def destroy(self):\n",
    "        self.capture.release()\n",
    "        cv2.destroyAllWindows()"
   ]
  },
  {
   "cell_type": "code",
   "execution_count": 66,
   "metadata": {},
   "outputs": [],
   "source": [
    "cap = cv2.VideoCapture(0)\n",
    "\n",
    "cv2.namedWindow(\"test\")\n",
    "with open(\"RFC.FF\", 'rb') as infile:\n",
    "    (classifymodel, class_names) = pk.load(infile)\n",
    "try:\n",
    "    while (capture.isOpened()):\n",
    "        ret, img = cap.read()\n",
    "#         img = cv2.flip(img, 1)\n",
    "\n",
    "        if img is None:\n",
    "            continue\n",
    "\n",
    "        k = cv2.waitKey(1)\n",
    "\n",
    "        if k%256 == 27:\n",
    "#             ESC pressed\n",
    "            print(\"Escape hit, closing...\")\n",
    "            break\n",
    "        \n",
    "#         faces = get_faces(Image.fromarray(cv2.cvtColor(img,cv2.COLOR_BGR2RGB)))\n",
    "        t = time.time()\n",
    "        faces = get_faces(Image.fromarray(cv2.cvtColor(img,cv2.COLOR_BGR2RGB)))\n",
    "        print(time.time() - t)\n",
    "        for face in faces:\n",
    "            tmp = Image.fromarray(cv2.cvtColor(img,cv2.COLOR_BGR2RGB))\n",
    "            tmp = tmp.crop((face.x,face.y,face.x+face.w,face.y+face.h)).resize((160,160))\n",
    "            \n",
    "            embvector = embedding(img_to_np(tmp))\n",
    "            embvector = embvector.reshape(1, -1)\n",
    "            predictions = classifymodel.predict_proba(embvector)\n",
    "            best_class_indices = np.argmax(predictions, axis=1)\n",
    "            tmp_lable=class_names[best_class_indices]\n",
    "            best_class_probabilities = predictions[np.arange(len(best_class_indices)), best_class_indices]\n",
    "            print(' Best class Probablity is ',best_class_probabilities)\n",
    "            print(tmp_lable)\n",
    "            if best_class_probabilities <= 0.501:\n",
    "                tmp_lable=[UNKNOWN_CLASS]\n",
    "            cv2.rectangle(img, (int(face.x), int(face.y)), (int(face.x+face.w), int(face.y+face.h)), (0,155,255), 2)\n",
    "            cv2.putText(img, tmp_lable[0], (int(face.x), int(face.y)), cv2.FONT_HERSHEY_SIMPLEX, 0.5, (255, 0, 255), 2)\n",
    "# #             print(face.data())\n",
    "        cv2.imshow('face',img)\n",
    "        out.write(frame)\n",
    "except Exception as  err:\n",
    "    print(err.with_traceback())\n",
    "    print('This is Error Occur !')\n",
    "finally:\n",
    "    images = []\n",
    "    out.release()\n",
    "    capture.release()\n",
    "    cv2.destroyAllWindows()"
   ]
  },
  {
   "cell_type": "code",
   "execution_count": 56,
   "metadata": {},
   "outputs": [
    {
     "name": "stdout",
     "output_type": "stream",
     "text": [
      " Best class Probablity is  [0.43333333]\n",
      "['Binayak Pokhrel']\n",
      " Best class Probablity is  [0.53333333]\n",
      "['Sushil Ghimire']\n",
      " Best class Probablity is  [0.36666667]\n",
      "['Binayak Pokhrel']\n",
      " Best class Probablity is  [0.43333333]\n",
      "['Binayak Pokhrel']\n",
      " Best class Probablity is  [0.36666667]\n",
      "['Binayak Pokhrel']\n",
      " Best class Probablity is  [0.53333333]\n",
      "['Binayak Pokhrel']\n",
      " Best class Probablity is  [0.4]\n",
      "['Binayak Pokhrel']\n",
      " Best class Probablity is  [0.4]\n",
      "['Binayak Pokhrel']\n",
      " Best class Probablity is  [0.5]\n",
      "['Sushil Ghimire']\n",
      " Best class Probablity is  [0.56666667]\n",
      "['Sushil Ghimire']\n",
      " Best class Probablity is  [0.36666667]\n",
      "['Anish Pandey']\n",
      " Best class Probablity is  [0.43333333]\n",
      "['Sushil Ghimire']\n",
      " Best class Probablity is  [0.33333333]\n",
      "['Sushil Ghimire']\n",
      " Best class Probablity is  [0.56666667]\n",
      "['Sushil Ghimire']\n",
      " Best class Probablity is  [0.4]\n",
      "['Binayak Pokhrel']\n",
      " Best class Probablity is  [0.5]\n",
      "['Sushil Ghimire']\n",
      " Best class Probablity is  [0.4]\n",
      "['Sushil Ghimire']\n",
      " Best class Probablity is  [0.53333333]\n",
      "['Sushil Ghimire']\n",
      " Best class Probablity is  [0.56666667]\n",
      "['Sushil Ghimire']\n",
      " Best class Probablity is  [0.63333333]\n",
      "['Sushil Ghimire']\n",
      " Best class Probablity is  [0.46666667]\n",
      "['Sushil Ghimire']\n",
      " Best class Probablity is  [0.33333333]\n",
      "['Anish Pandey']\n",
      "Escape hit, closing...\n"
     ]
    }
   ],
   "source": [
    "storage = StoragePool()\n",
    "storage.start()"
   ]
  },
  {
   "cell_type": "code",
   "execution_count": 62,
   "metadata": {},
   "outputs": [
    {
     "data": {
      "text/plain": [
       "'Date -> 09:37 AM February 25 2019'"
      ]
     },
     "execution_count": 62,
     "metadata": {},
     "output_type": "execute_result"
    }
   ],
   "source": [
    "time.strftime(('Date -> %I:%M %p %B %d %Y'))"
   ]
  },
  {
   "cell_type": "code",
   "execution_count": 65,
   "metadata": {},
   "outputs": [],
   "source": [
    "import numpy as np\n",
    "import cv2\n",
    "\n",
    "cap = cv2.VideoCapture(0)\n",
    "\n",
    "# Define the codec and create VideoWriter object\n",
    "fourcc = cv2.VideoWriter_fourcc(*'XVID')\n",
    "out = cv2.VideoWriter('output.avi',fourcc, 20.0, (640,480))\n",
    "\n",
    "while(cap.isOpened()):\n",
    "    ret, frame = cap.read()\n",
    "    if ret==True:\n",
    "        frame = cv2.flip(frame,0)\n",
    "\n",
    "        # write the flipped frame\n",
    "        out.write(frame)\n",
    "\n",
    "        cv2.imshow('frame',frame)\n",
    "        if cv2.waitKey(1) & 0xFF == ord('q'):\n",
    "            break\n",
    "    else:\n",
    "        break\n",
    "\n",
    "# Release everything if job is finished\n",
    "cap.release()\n",
    "out.release()\n",
    "cv2.destroyAllWindows()"
   ]
  },
  {
   "cell_type": "code",
   "execution_count": null,
   "metadata": {},
   "outputs": [],
   "source": []
  }
 ],
 "metadata": {
  "kernelspec": {
   "display_name": "Python 3",
   "language": "python",
   "name": "python3"
  },
  "language_info": {
   "codemirror_mode": {
    "name": "ipython",
    "version": 3
   },
   "file_extension": ".py",
   "mimetype": "text/x-python",
   "name": "python",
   "nbconvert_exporter": "python",
   "pygments_lexer": "ipython3",
   "version": "3.6.8"
  }
 },
 "nbformat": 4,
 "nbformat_minor": 1
}
