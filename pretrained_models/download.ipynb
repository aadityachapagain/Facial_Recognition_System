{
 "cells": [
  {
   "cell_type": "code",
   "execution_count": 2,
   "metadata": {},
   "outputs": [],
   "source": [
    "import requests"
   ]
  },
  {
   "cell_type": "code",
   "execution_count": 3,
   "metadata": {},
   "outputs": [
    {
     "name": "stdout",
     "output_type": "stream",
     "text": [
      "Downloading pretrained model for MTCNN...\n",
      "Downloading:  det1.npy\n",
      "Downloading:  det2.npy\n",
      "Downloading:  det3.npy\n"
     ]
    }
   ],
   "source": [
    "print(\"Downloading pretrained model for MTCNN...\")\n",
    "\n",
    "for i in range(1, 4):\n",
    "    f_name = 'det{}.npy'.format(i)\n",
    "    print(\"Downloading: \", f_name)\n",
    "    url = \"https://github.com/davidsandberg/facenet/raw/\" \\\n",
    "          \"e9d4e8eca95829e5607236fa30a0556b40813f62/src/align/det{}.npy\".format(i)\n",
    "    session = requests.Session()\n",
    "    response = session.get(url, stream=True)\n",
    "\n",
    "    CHUNK_SIZE = 32768\n",
    "\n",
    "    with open(f_name, \"wb\") as f:\n",
    "        for chunk in response.iter_content(CHUNK_SIZE):\n",
    "            if chunk:  # filter out keep-alive new chunks\n",
    "                f.write(chunk)"
   ]
  },
  {
   "cell_type": "code",
   "execution_count": null,
   "metadata": {},
   "outputs": [],
   "source": []
  }
 ],
 "metadata": {
  "kernelspec": {
   "display_name": "Python 3",
   "language": "python",
   "name": "python3"
  },
  "language_info": {
   "codemirror_mode": {
    "name": "ipython",
    "version": 3
   },
   "file_extension": ".py",
   "mimetype": "text/x-python",
   "name": "python",
   "nbconvert_exporter": "python",
   "pygments_lexer": "ipython3",
   "version": "3.6.8"
  }
 },
 "nbformat": 4,
 "nbformat_minor": 2
}
